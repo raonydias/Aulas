{
 "cells": [
  {
   "attachments": {},
   "cell_type": "markdown",
   "metadata": {},
   "source": [
    "# Módulo 2 — Introdução ao CSS"
   ]
  },
  {
   "attachments": {},
   "cell_type": "markdown",
   "metadata": {},
   "source": [
    "## Visão Geral do Módulo\n",
    "Nesse módulo, você aprenderá sobre os conceitos básicos do CSS e como usá-los para aprimorar o design e layout de suas páginas web. Você aprenderá como aplicar estilos em elementos HTML e como usar seletores do CSS para afetar elementos específicos. Você também aprenderá sobre as propriedades e os valores do CSS, incluindo como usá-los para controlar a aparência do texto, cores, fundos, bordas e espaçamentos.\n",
    "\n",
    "Ao final desse módulo, você será capaz de criar webpages visualmente atraentes e bem projetadas usando CSS. Você também terá um entendimento sobre as melhores práticas de uso do CSS para aprimorar a acessibilidade e usabilidade das páginas web.\n",
    "\n",
    "1. [Aula 1 - Introdução ao CSS](#Aula-1-–-Introdução-ao-CSS)"
   ]
  },
  {
   "attachments": {},
   "cell_type": "markdown",
   "metadata": {},
   "source": [
    "## Aula 1 – Introdução ao CSS\n",
    "### Visão Geral da Aula\n",
    "Esta aula introduzirá você ao CSS e sua função no desenvolvimento web. Você aprenderá sobre a sintaxe básica do CSS e as formas diferentes de implementá-lo, incluindo estilos em linha e folhas de estilo internas e externas.\n",
    "\n",
    "1. [O Que é CSS?](#O-Que-é-CSS?)\n",
    "1. [Conceitos do CSS](#Conceitos-do-CSS)\n",
    "1. [Sintaxe Básica do CSS](#Sintaxe-Básica-do-CSS)\n",
    "1. [Estilo em Linha e Folhas de Estilo Internas e Externas](#Estilo-em-Linha-e-Folhas-de-Estilo-Internas-e-Externas)\n",
    "1. [Implementando Estilos CSS Básicos em uma Página Web](#Implementando-Estilos-CSS-Básicos-em-uma-Página-Web)\n",
    "1. [Autoavaliação 1](#Autoavaliação-1)\n",
    "\n",
    "### Objetivos de Aprendizagem\n",
    "Ao final dessa aula, você será capaz de:\n",
    "\n",
    "- Entender o propósito do CSS no desenvolvimento web\n",
    "- Utilizar a sintaxe básica do CSS\n",
    "- Entender as diferenças entre estilo em linha e folhas de estilo internas e externas\n",
    "- Implementar estilos CSS básicos em uma webpage\n",
    "\n",
    "### Materiais Necessários\n",
    "- Computador com acesso a Internet\n",
    "- Editor de Texto (e.g. Bloco de Notas, Visual Code Studio)\n",
    "- Web browser (e.g. Chrome, Edge)"
   ]
  },
  {
   "attachments": {},
   "cell_type": "markdown",
   "metadata": {},
   "source": [
    "### O Que é CSS?\n",
    "CSS significa *Cascading Style Sheets* ou Folhas de Estilo em Cascata. É uma linguagem de folhas de estilo usada para descrever a aparência e a formatação de um documento escrito em linguagens de marcação, coimo HTML ou <abbr title=\"Extensible Markup Language\">XML</abbr>. O CSS fornece uma maneira de separar a apresentação de uma página web de seu conteúdo, permitindo mais flexibilidade e controle sobre o layout e design de um website. Usando CSS, os desenvolvedores podem aplicar estilos para elementos específicos em uma página, como tamanho de fonte, cor, espaçamento e posicionamento. O CSS pode ser aplicado em linha, dentro da seção `<head>` de um documento HTML ou como uma folha de estilo esterna que pode ser vinculada à várias páginas.\n",
    "\n",
    "#### Benefícios do Uso de CSS\n",
    "O CSS oferece vários benefícios para o desenvolvimento web, incluindo:\n",
    "\n",
    "1. **Separação de Responsabilidades:** O CSS separa a camada de apresentação (a aparência do conteúdo) da camada de conteúdo (qual é o conteúdo). Isso significa que os desenvolvedores podem atualizar o estilo de um website sem ter que modificar o conteúdo, tornando a manutenção e atualizações muito mais fáceis.\n",
    "2. **Consistência:** O CSS permite que os desenvolvedores definam estilos para os elementos uma vez e aplique-os por todo o website. Isso resulta em uma aparência consistente, tornando o website mais fácil de navegar e mais amigável para o usuário.\n",
    "3. **Eficiência:** Definindo os estilos em um arquivo CSS externo, o navegador pode armazenar os estilos e aplicá-los para várias páginas em um website. Isso reduz a quantidade de código que precisa ser baixada e processada, resultando em tempos de carregamento de páginas mais rápidos e desempenho aprimorado.\n",
    "4. **Acessibilidade:** O CSS oferece uma variedade de funcionalidades que podem aprimorar a acessibilidade para usuários com deficiências. Por exemplo, ele permite que os desenvolvedores definam estilos de texto que sejam fáceis de ler, e adicionar textos alternativos para imagens, tornando-oas acessíveis para usuários que utilizam leitores de tela.\n",
    "5. **Flexibilidade:** O CSS oferece uma variedade de opções de layout e design, incluindo design responsivo, que permite que os websites se adaptem à tamanhos de tela e dispositivos diferentes. Isso torna mais fácil criar um website que é acessível e fácil de usar em qualquer dispositivo.\n",
    "\n",
    "### Conceitos do CSS\n",
    "#### Box Model\n",
    "O *box model*, ou modelo de caixa, é um conceito fundamental no CSS que define como os elementos em uma webpage são renderizados visualmente. Todo elemento HTML é considerado uma caixa retangular e o box model é uma maneira de descrever como o conteúdo de um elemento está cercado por espaços na forma de margens, bordas e preenchimento.\n",
    "\n",
    "O box model consiste de quatro partes:\n",
    "\n",
    "1. **Conteúdo:** Esse é o conteúdo em si do elemento, como texto, imagens ou outros elementos HTML.\n",
    "2. **Preenchimento:**: Esse é o espaço entre o conteúdo e a borda do elemento. Ele pode ser usado para criar espaçamento ao redor do conteúdo e pode ser definido usando a propriedade `padding` no CSS.\n",
    "3. **Borda:** Essa é a linha ao redor do conteúdo e do preenchimento do elemento. As bordas podem ser definidas usando a propriedade `border` no CSS.\n",
    "4. **Margem:** Esse é o espaço entre a borda do elemento e os elementos adjacentes. As margens podem ser usadas para criar espaço entre os elementos e pode ser definida usando a propriedade `margin` no CSS.\n",
    "\n",
    "Entender o box model é importante, pois ele afeta o layout e o dimensionamento dos elementos em uma página web. Ao manipular as propriedades `padding`, `border` e `margin` você pode controlar o espaçamento entre os elementos e criar layouts diferentes.\n",
    "\n",
    "A página abaixo ilustra o box model. Você não entenderá todo o código usado, mas não se atente a isso agora - você aprenderá tudo nesse módulo.\n",
    "\n",
    "[box_model.html](box_model.html)\n",
    "\n",
    "#### Seletores do CSS\n",
    "Em CSS, um seletor é usado para selecionar e afetar um elemento HTML para o qual você deseja aplicar um estilo específico. Existem vários tipos de seletores, incluindo:\n",
    "\n",
    "1. **Seletores de Tipo:** Seleciona elementos pelo nome da tag HTML. Por exemplo, o seletor `p` seleciona todos os elementos parágrafos no documento HTML.\n",
    "2. **Seletores de Classe:** Seleciona elementos com um atributo `class` específico. Seletores de classe iniciam com um ponto (`.`) seguido pelo nome da classe. Por exemplo, o seletor `.minha-classe` seleciona todos os elementos com o atributo `class` definidos como `minha-classe`.\n",
    "3. **Seletores de ID:** Seleciona elementos com um atributo `id` específico. Seletores de ID iniciam com uma cerquilha (`#`) seguido pelo nome do ID. Por exemplo, o seletor `#meu-id` seleciona o elemento com o atributo `id` definido como `meu-id`.\n",
    "\n",
    "Existem outros seletores mais avançados que só serão apresentados no próximo módulo. Mas, vamos falar um pouco mais sobre classe e ID.\n",
    "\n",
    "#### O Atributo `class`\n",
    "O atributo `class` no HTML é um atributo que permite que você especifique um nome de classe para um elemento HTML. Então, esse nome de classe pode ser usado como um seletor no CSS para aplicar estilos para **todos os elementos com esse nome de classe**.\n",
    "\n",
    "Por exemplo, suponha que você tenha um conjunto de elementos que queria aplicar os mesmos estilos. Você pode atribuir o mesmo nome de classe para todos eles usando o atributo `class`, dessa forma:\n",
    "\n",
    "```html\n",
    "<div class=\"minha-classe\">Algum texto aqui</div>\n",
    "<p class=\"minha classe\">Mais algum texto aqui</p>\n",
    "```\n",
    "Então, com o CSS, você pode selecionar todos os elementos com essa classe usando o seletor de classe `.minha-classe`, assim:\n",
    "\n",
    "```css\n",
    ".minha-classe {\n",
    "  font-weight: bold;\n",
    "  color: red;\n",
    "}\n",
    "```\n",
    "\n",
    "Isso aplicaria os estilos especificados para ambos os elementos, a `<div>` e o `<p>`. Um mesmo nome de classe pode ser usado em quantos elementos for necessário e um único elemento pode possuir várias classes. Cada nome de classe é separado por um espaço em branco, dessa forma:\n",
    "\n",
    "```html\n",
    "<p class=\"minha-classe texto-negrito cor-verde\">Esse parágrafo possui três classes distintas.</p>\n",
    "```\n",
    "Note que à menos que essas classes sejam propriamente definidas no CSS, nenhuma formatação será aplicada ao parágrafo, mesmo que ele possua uma classe dizendo, por exemplo, que o texto deve ser verde e em negrito.\n",
    "\n",
    "#### O Atributo `id`\n",
    "O atributo `id` é usado para identificar **de maneira única** um elemento HTML. O valor do atributo `id` deve ser único dentro do documento HTML e é usado pelo CSS e JavaScript para selecionar e manipular esse elemento específico.\n",
    "\n",
    "Para usar o atributo `id` no CSS, nós usamos o seletor `#` seguido pelo valor do atributo `id`. Por exemplo, se você possuir um elemento com o `id` de `meu-elemento`, nós podemos selecioná-lo com CSS da seguinte forma:\n",
    "\n",
    "```css\n",
    "#meu-elemento {\n",
    "  font-size: 16px;\n",
    "}\n",
    "```\n",
    "Você define o atributo `id` no HTML da seguinte forma:\n",
    "\n",
    "```html\n",
    "<div id=\"meu-elemento\">Esse é o meu elemento</div>\n",
    "```\n",
    "É importante ressaltar um mesmo valor de `id` só deve ser usado **uma vez por documento HTML**, ou seja, cada página pode conter apenas um elemento com o `id` \"meu-elemento\". Um elemento só pode possuir um valor de `id`, portanto um elemento `<p>` não pode ter simultaneamente os IDs \"meu-elemento\" e \"meu-paragrafo\". Um elemento pode possuir diversas classes, mesmo que possua um ID.\n",
    "\n",
    "#### Blocos de Declaração\n",
    "Um bloco de declaração é um conjunto de pares de propriedade-valor do CSS envoltos em chaves (`{ }`) que definem as regras de estilo que serão aplicadas aos elementos selecionados. Cada declaração consiste de uma propriedade CSS e seu valor correspondente, separados por dois-pontos (`:`).\n",
    "\n",
    "Por exemplo, considere o seguinte código CSS:\n",
    "\n",
    "```css\n",
    "p {\n",
    "  color: blue;\n",
    "  font-size: 18px;\n",
    "}\n",
    "```\n",
    "Aqui, `p` é o seletor que afeta todos os elementos `<p>` no documento HTML. O bloco de declaração envolto em chaves contém duas propriedades CSS (`color` e `font-size`) e seus valores correspondentes (`blue` e `18px`). Essa regra de estilo aplicaria a cor azul e um tamanho de fonte de 18 pixels para todos os elementos `<p>` na página.\n",
    "\n",
    "Seletores CSS e blocos de declaração são os blocos de construção do CSS e são usados extensivamente na escrita de código CSS para estilizar documentos HTML.\n",
    "\n",
    "#### Cascata e Herança\n",
    "\"Cascata\" em **C**SS refere-se ao processo de determinar quais regras de estilo devem ser aplicadas à um elemento. Quando existem regras de estilo conflitantes para um elemento, o CSS utiliza um conjunto de regras para determinar qual regra de estilo deve ter precedência sobre as outras. Essas regras são conhecidas como \"ordem de cascata\".\n",
    "\n",
    "A ordem de cascata das regras do CSS são determinadas por esses três fatores:\n",
    "\n",
    "1. **Especifidade:** Isso refere-se ao quão específico o seletor CSS é. Um seletor que selecione um elemento ou classe específico terá especificidade mais alta do que um seletor que selecione um grupo mais amplo de elementos.\n",
    "2. **Importância:** O CSS permite que os desenvolvedores utilizem a palavra-chave `!important` para dar para uma regra de estilos uma precedência mais alta sobre as outras.\n",
    "3. **Ordem da Fonte:** Quando todo o resto é igual, a regra de estilo que aparecer por último no arquivo CSS terá precedência.\n",
    "\n",
    "\"Herança\" é outro conceito importante do CSS. Ela refere-se à forma que os estilos são automaticamente aplicados para elementos filhos a partir dos elementos pais. A herança pode ser usada para reduzir a quantidade de código necessário para estilizar um website, uma vez que os estilos podem ser aplicados para um elemento pai e automaticamente herdados por todos os seus elementos filhos.\n",
    "\n",
    "Por exemplo, se você definir o tamanho da fonte de uma elemento pai para 16px, todos os seus elementos filhos herdarão esse tamanho de fonte por padrão, exceto se um tamanho de fonte específico for definido para o elemento filho.\n",
    "\n",
    "### Sintaxe Básica do CSS\n",
    "Como você viu antes, a sintaxe de uma regra CSS possui três partes: um seletor, um bloco de declaração e um ou mais declarações.\n",
    "\n",
    "Veja a sintaxe de uma regra CSS:\n",
    "\n",
    "```css\n",
    "seletor {\n",
    "  propriedade1: valor1;\n",
    "  propriedade2: valor2;\n",
    "  ...\n",
    "}\n",
    "```\n",
    "- *Seletor:* Um seletor é usado para selecionar um ou mais elementos HTML e aplicar estilo para eles. Pode ser o nome de uma tag, o nome de uma classe, uma ID ou uma combinação desses três.\n",
    "- *Bloco de declaração:* Um bloco de declaração contem uma ou mais declarações. Ele é envolto em chaves.\n",
    "- *Declarações:* Uma declaração é composta de uma propriedade e um valor separados por dois-pontos. Ela define o estilo a ser aplicado ao elemento selecionado.\n",
    "\n",
    "Por exemplo, para aplicar a cor vermelha para todos os elementos `<h1>`, a regra CSS seria:\n",
    "\n",
    "```css\n",
    "h1 {\n",
    "  color: red;\n",
    "}\n",
    "```\n",
    "#### Comentários no CSS\n",
    "Assim como o HTML, o CSS possui comentários que são usados para adicionar anotações ou descrições no código CSS. Eles são ignorados pelo navegador e não são exibidos na webpage. Comentários são úteis para o desenvolvedor para lembrar o propósito de seções específicas do código, explicar porquê um determinado estilo foi aplicado ou adicionar anotações para tornar o código mais fácil para outros desenvolvedores ler e entender.\n",
    "\n",
    "Em CSS, os comentários podem ser criados usando duas sintaxes diferentes:\n",
    "\n",
    "##### Comentários em linha única\n",
    "Comentários em linha única começam com duas barras (`//`) e são usados para adicionar comentários em uma única linha de código. Qualquer coisa após as duas barras é tratada como um comentário e ignorada pelo navegador.\n",
    "\n",
    "```css\n",
    "// Esse é um comentário de linha única\n",
    "```\n",
    "##### Comentários de várias linhas\n",
    "Comentários de várias linhas começam com uma barra e um asterisco (`/*`) e terminam com um asterisco e uma barra (`*/`). Eles podem se estender por várias linhas e são usados para adicionar comentários em várias linhas de código.\n",
    "\n",
    "```css\n",
    "/*\n",
    "Esse é um comentário de várias linhas\n",
    "que estende-se por várias linhas.\n",
    "*/\n",
    "```\n",
    "### Estilo em Linha e Folhas de Estilo Internas e Externas\n",
    "#### Estilo em Linha\n",
    "Estilos em linha são uma forma de aplicar regras CSS diretamente nos elementos HTML usando o atributo `style`. O atributo `style`. É adicionado à tag HTML e contém um ou mais pares de propriedade-valor CSS. As regras CSS especificadas em um estilo em linha afetarão apenas o elemento ao qual está aplicado.\n",
    "\n",
    "Veja um exemplo de como usar estilos em linha:"
   ]
  },
  {
   "cell_type": "code",
   "execution_count": 25,
   "metadata": {
    "vscode": {
     "languageId": "html"
    }
   },
   "outputs": [
    {
     "data": {
      "text/html": [
       "<p style=\"color: red; font-size: 16px;\">Esse é um paráfrago com estilos em linha.</p>\n"
      ],
      "text/plain": [
       "<IPython.core.display.HTML object>"
      ]
     },
     "metadata": {},
     "output_type": "display_data"
    }
   ],
   "source": [
    "%%html\n",
    "<p style=\"color: red; font-size: 16px;\">Esse é um parágrafo com estilos em linha.</p>"
   ]
  },
  {
   "attachments": {},
   "cell_type": "markdown",
   "metadata": {},
   "source": [
    "No exemplo acima, o atributo `style` é usado para aplicar duas regras CSS para o elemento `<p>`. A primeira regra define a cor do texto em vermelho e a segunda regra define o tamanho da fonte como 16 pixels.\n",
    "\n",
    "Estilos em linha são úteis para criar mudanças de estilos rápidas e únicas para elementos específicos sem ter que modificar um arquivo CSS externo. Contudo, eles podem ser difíceis de manter e reusar, especialmente se você precisar aplicar os mesmos estilos para vários elementos em páginas diferentes de seu website.\n",
    "\n",
    "#### Folhas de Estilo Internas\n",
    "Folhas de estilo internas são folhas de estilo CSS que são incluídas dentro do próprio documento HTML. Elas são definidas dentro da seção `<head>` de uma página HTML usando a tag `<style>`. Folhas de estilo internas se aplicam para o documento inteiro e quaisquer mudanças feitas nelas afetarão a aparência de toda a página.\n",
    "\n",
    "Elas são úteis em casos onde você precisa aplicar um estilo específico para uma única página ou um pequeno conjunto de páginas e não quer usar uma folha de estilos externa. Elas também podem ser usadas para sobrepor estilos aplicados por uma folha de estilo externa.\n",
    "\n",
    "Veja um exemplo de uma folha de estilo interna no documento abaixo.\n",
    "\n",
    "[internal_stylesheet.html](internal_stylesheet.html)\n",
    "\n",
    "Nesse exemplo, a folha de estilo interna define estilos para os elementos `<body>`, `<h1>` e `<p>`. Esses estilos serão aplicados para todo o documento, incluindo os elementos `<h1>` e `<p>` no corpo do documento HTML.\n",
    "\n",
    "#### Folhas de Estilo Externas\n",
    "Folhas de estilo externas são arquivos CSS (.css) que contém regras de estilo para uma página web ou um website inteiro. Esses arquivos são vinculados ao documento HTML usando o elemento `<link>` e permitem que os desenvolvedores mantenham seus estilos separados de seu código HTML.\n",
    "\n",
    "Usar folhas de estilos externas tem várias vantagens em relação aos estilos em linha e interno. Elas permitem melhor organização e manutenção do código CSS, assim como reutilização mais fácil em várias páginas. Elas também aprimoram a velocidade de carregamento das páginas permitindo que os navegadores armazenem a folha de estilo e aplique-os para várias páginas, ao invés de ter que baixar os mesmos estilos repetidamente.\n",
    "\n",
    "Para usar uma folha de estilos externa, primeiro você precisa criar um novo arquivo com a extensão .css e adicionar seu código CSS dentro dela. Então, em seu documento HTML, você adiciona um elemento `<link>` na seção `<head>` que especifica o caminho até o arquivo CSS. A sintaxe do elemento `<link>` é a seguinte:"
   ]
  },
  {
   "cell_type": "code",
   "execution_count": 26,
   "metadata": {
    "vscode": {
     "languageId": "html"
    }
   },
   "outputs": [
    {
     "data": {
      "text/html": [
       "<link rel=\"stylesheet\" type=\"text/css\" href=\"caminho/para/folha-de-estilos.css\">\n"
      ],
      "text/plain": [
       "<IPython.core.display.HTML object>"
      ]
     },
     "metadata": {},
     "output_type": "display_data"
    }
   ],
   "source": [
    "%%html\n",
    "<link rel=\"stylesheet\" type=\"text/css\" href=\"caminho/para/folha-de-estilos.css\">"
   ]
  },
  {
   "attachments": {},
   "cell_type": "markdown",
   "metadata": {},
   "source": [
    "O atributo `rel` especifica o relacionamento entre o documento HTML e o arquivo vinculado e o atributo `href` especifica o caminho até o arquivo CSS. O atributo `type` especifica o tipo de arquivo sendo vinculado, que nesse caso é uma folha de estilos CSS.\n",
    "\n",
    "Dê uma olhada nesses dois documentos: o primeiro é um arquivo CSS que contém regras de estilo que é vinculado ao segundo - um documento HTML que faz uso das regras definidas no primeiro.\n",
    "\n",
    "[external_stylesheet.css](external_stylesheet.css)<br/>\n",
    "[external_stylesheet.html](external_stylesheet.html)\n",
    "\n",
    "### Implementando Estilos CSS Básicos em uma Página Web\n",
    "Agora que você já conhece os conceitos do CSS, sabe a sintaxe da linguagem e entende como aplicar regras de estilo através de estilos em linha e folhas de estilos internas e externas, está na hora de começar a aprender algumas propriedades básicas do CSS para que possa começar a estilizar seus documentos HTML.\n",
    "\n",
    "#### Estilizando Texto\n",
    "##### A Propriedade `font-family`\n",
    "A propriedade `font-family` no CSS é usada para definir tipo de letra ou fonte do conteúdo textual nos elementos HTML. Ela especifica o nome (ou nomes) da família de fonte que será usada e o navegador exibirá o texto na primeira fonte da lista que estiver disponível no dispositivo do usuário.\n",
    "\n",
    "Veja um exemplo de como usar a propriedade `font-family` para definir a fonte de um elemento HTML:\n",
    "\n",
    "[font-family.css](font-family.css)<br/>\n",
    "[font-family.html](font-family.html)\n",
    "\n",
    "Nesse exemplo, nós usamos uma folha de estilo externa para definir a fonte do texto do corpo como Arial e um elemento cabeçalho com um estilo em linha que define a fonte como Georgia. Se nenhuma das fontes estiverem disponíveis no dispositivo do usuário, o navegador exibirá o texto usando a fonte padrão.\n",
    "\n",
    "##### A Propriedade `font-size`\n",
    "A propriedade `font-size` no CSS é usada para definir o tamanho da fonte. Ela pode ser aplicada em qualquer elemento HTML e é especificada em unidades diferentes, como pixels, ems, rems, porcentagens e mais.\n",
    "\n",
    "Veja um exemplo definindo o tamanho da fonte em 16 pixels:"
   ]
  },
  {
   "cell_type": "code",
   "execution_count": 24,
   "metadata": {
    "vscode": {
     "languageId": "html"
    }
   },
   "outputs": [
    {
     "data": {
      "text/html": [
       "<head>\n",
       "  <style>\n",
       "    .fz-16 {\n",
       "      font-size: 16px;\n",
       "    }\n",
       "  </style>\n",
       "</head>\n",
       "<body>\n",
       "  <p class=\"fz-16\">Esse parágrafo possui tamanho definido em 16 pixels.</p>\n",
       "</body>\n"
      ],
      "text/plain": [
       "<IPython.core.display.HTML object>"
      ]
     },
     "metadata": {},
     "output_type": "display_data"
    }
   ],
   "source": [
    "%%html\n",
    "<head>\n",
    "  <style>\n",
    "    .fz-16 {\n",
    "      font-size: 16px;\n",
    "    }\n",
    "  </style>\n",
    "</head>\n",
    "<body>\n",
    "  <p class=\"fz-16\">Esse parágrafo possui tamanho definido em 16 pixels.</p>\n",
    "</body>"
   ]
  },
  {
   "attachments": {},
   "cell_type": "markdown",
   "metadata": {},
   "source": [
    "Veja outro exemplo definindo o tamanho da fonte em 1.2 ems:"
   ]
  },
  {
   "cell_type": "code",
   "execution_count": 25,
   "metadata": {
    "vscode": {
     "languageId": "html"
    }
   },
   "outputs": [
    {
     "data": {
      "text/html": [
       "<head>\n",
       "  <style>\n",
       "    .fz-12e {\n",
       "      font-size: 1.2em;\n",
       "    }\n",
       "  </style>\n",
       "</head>\n",
       "<body>\n",
       "  <p class=\"fz-12e\">Esse parágrafo possui tamanho definido em 1.2 ems.</p>\n",
       "</body>\n"
      ],
      "text/plain": [
       "<IPython.core.display.HTML object>"
      ]
     },
     "metadata": {},
     "output_type": "display_data"
    }
   ],
   "source": [
    "%%html\n",
    "<head>\n",
    "  <style>\n",
    "    .fz-12e {\n",
    "      font-size: 1.2em;\n",
    "    }\n",
    "  </style>\n",
    "</head>\n",
    "<body>\n",
    "  <p class=\"fz-12e\">Esse parágrafo possui tamanho definido em 1.2 ems.</p>\n",
    "</body>"
   ]
  },
  {
   "attachments": {},
   "cell_type": "markdown",
   "metadata": {},
   "source": [
    "Usar unidades de medidas relativas, como ems e porcentagens, pode tornar os tamanhos de fonte mais escaláveis e adaptáveis em dispositivos e tamanhos de telas diferentes.\n",
    "\n",
    "##### Unidades de Medida\n",
    "No CSS, existem várias unidades que podem ser usadas para especificar os tamanhos de fontes. Abaixo você encontra alguns dos mais comuns:\n",
    "\n",
    "1. *Pixels (px):* Essa é uma unidade absoluta que especifica o tamanho da fonte em pixels. Um pixel equivale à um ponto na tela.\n",
    "2. *Em (em):* Essa é uma unidade relativa que é baseada no tamanho da fonte que está sendo usada atualmente. Um em é igual ao tamanho da fonte do elemento pai. Por exemplo, se o tamanho da fonte do elemento pai for 16 pixels, `font-size: 0.5em` definirá o tamanho da fonte como 8 pixels.\n",
    "3. *Rem (rem):* Essa também é uma unidade relativa que é baseada no tamanho do elemento raiz. Um rem é igual ao tamanho da fonte do elemento raiz, que geralmente é o elemento `<html>`.\n",
    "4. *Porcentagem (%):* Essa é outra unidade relativa que é baseada no tamanho do elemento pai. Por exemplo, `font-size: 150%`, definirá o tamanho da fonte para 150% do tamanho de fonte do elemento pai.\n",
    "\n",
    "##### A Propriedade `font-weight`\n",
    "A propriedade `font-weight` no CSS é usada para definir o peso ou espessura de uma fonte. Ela aceita valores numéricos de `100` até `900`, além de palavras-chaves como `normal` e `bold`.\n",
    "\n",
    "Veja alguns exemplos de como usar a propriedade `font-weight`:\n",
    "\n",
    "1. Definindo a espessura da fonte usando uma palavra-chave:"
   ]
  },
  {
   "cell_type": "code",
   "execution_count": 26,
   "metadata": {
    "vscode": {
     "languageId": "html"
    }
   },
   "outputs": [
    {
     "data": {
      "text/html": [
       "<head>\n",
       "  <style>\n",
       "    .fw-b {\n",
       "      font-weight: bold;\n",
       "    }\n",
       "  </style>\n",
       "</head>\n",
       "<body>\n",
       "  <p class=\"fw-b\">Esse parágrafo foi definido com espessura \"bold\".</p>\n",
       "</body>\n"
      ],
      "text/plain": [
       "<IPython.core.display.HTML object>"
      ]
     },
     "metadata": {},
     "output_type": "display_data"
    }
   ],
   "source": [
    "%%html\n",
    "<head>\n",
    "  <style>\n",
    "    .fw-b {\n",
    "      font-weight: bold;\n",
    "    }\n",
    "  </style>\n",
    "</head>\n",
    "<body>\n",
    "  <p class=\"fw-b\">Esse parágrafo foi definido com espessura \"bold\".</p>\n",
    "</body>"
   ]
  },
  {
   "attachments": {},
   "cell_type": "markdown",
   "metadata": {},
   "source": [
    "2. Definindo a espessura da fonte usando um valor numérico:"
   ]
  },
  {
   "cell_type": "code",
   "execution_count": 27,
   "metadata": {
    "vscode": {
     "languageId": "html"
    }
   },
   "outputs": [
    {
     "data": {
      "text/html": [
       "<head>\n",
       "  <style>\n",
       "    .fw-500 {\n",
       "      font-weight: 500;\n",
       "    }\n",
       "  </style>\n",
       "</head>\n",
       "<body>\n",
       "  <p class=\"fw-500\">Esse parágrafo foi definido com espessura \"500\".</p>\n",
       "</body>\n"
      ],
      "text/plain": [
       "<IPython.core.display.HTML object>"
      ]
     },
     "metadata": {},
     "output_type": "display_data"
    }
   ],
   "source": [
    "%%html\n",
    "<head>\n",
    "  <style>\n",
    "    .fw-500 {\n",
    "      font-weight: 500;\n",
    "    }\n",
    "  </style>\n",
    "</head>\n",
    "<body>\n",
    "  <p class=\"fw-500\">Esse parágrafo foi definido com espessura \"500\".</p>\n",
    "</body>"
   ]
  },
  {
   "attachments": {},
   "cell_type": "markdown",
   "metadata": {},
   "source": [
    "É importante observar que nem todas as fontes possuem variações de espessura disponíveis, portanto o valor 900 nem sempre resultará em uma fonte ultra-negrito. É melhor checar as opções de espessura disponível para cada fonte sendo usada.\n",
    "\n",
    "##### A Propriedade `color`\n",
    "A propriedade `color` no CSS é usada para especificar a cor do conteúdo textual. Ela aceita valores diferentes como cores nomeadas (e.g. `red`, `blue`, `green`), valores <abbr title=\"Red, Green, Blue\">RGB</abbr> (e.g. `rgb(255, 0, 0)`), valores hexadecimais (e.g. `#FF0000`) e valores <abbr title=\"Hue, Saturation, Lightness\">HSL</abbr> (e.g. `hsl(0, 100%, 50%)`).\n",
    "\n",
    "Veja um exemplo de uso da propriedade `color` para definir a cor do texto de um elemento cabeçalho como vermelha:"
   ]
  },
  {
   "cell_type": "code",
   "execution_count": 28,
   "metadata": {
    "vscode": {
     "languageId": "html"
    }
   },
   "outputs": [
    {
     "data": {
      "text/html": [
       "<head>\n",
       "  <style>\n",
       "    .red {\n",
       "      color: red;\n",
       "    }\n",
       "  </style>\n",
       "</head>\n",
       "<body>\n",
       "  <h1 class=\"red\">Esse cabeçalho está em vermelho</h1>\n",
       "</body>\n"
      ],
      "text/plain": [
       "<IPython.core.display.HTML object>"
      ]
     },
     "metadata": {},
     "output_type": "display_data"
    }
   ],
   "source": [
    "%%html\n",
    "<head>\n",
    "  <style>\n",
    "    .red {\n",
    "      color: red;\n",
    "    }\n",
    "  </style>\n",
    "</head>\n",
    "<body>\n",
    "  <h1 class=\"red\">Esse cabeçalho está em vermelho</h1>\n",
    "</body>"
   ]
  },
  {
   "attachments": {},
   "cell_type": "markdown",
   "metadata": {},
   "source": [
    "Veja outro exemplo que utiliza um valor hexadecimal para definir a cor do texto de um elemento parágrafo:"
   ]
  },
  {
   "cell_type": "code",
   "execution_count": 20,
   "metadata": {
    "vscode": {
     "languageId": "html"
    }
   },
   "outputs": [
    {
     "data": {
      "text/html": [
       "<head>\n",
       "  <style>\n",
       "    .blue-sky {\n",
       "      color: #1E90FF; /* azul */\n",
       "    }\n",
       "  </style>\n",
       "</head>\n",
       "<body>\n",
       "  <p>O céu <span class=\"blue-sky\">azul</span> está lindo hoje!</p>\n",
       "</body>\n"
      ],
      "text/plain": [
       "<IPython.core.display.HTML object>"
      ]
     },
     "metadata": {},
     "output_type": "display_data"
    }
   ],
   "source": [
    "%%html\n",
    "<head>\n",
    "  <style>\n",
    "    .blue-sky {\n",
    "      color: #1E90FF; /* azul */\n",
    "    }\n",
    "  </style>\n",
    "</head>\n",
    "<body>\n",
    "  <p>O céu <span class=\"blue-sky\">azul</span> está lindo hoje!</p>\n",
    "</body>"
   ]
  },
  {
   "attachments": {},
   "cell_type": "markdown",
   "metadata": {},
   "source": [
    "Hexadecimal pode representar cores usando uma combinação de números e letras. Ele é baseado em um código de 6 dígitos, onde cada dígito representa um valor entre 0 e 15 e a combinação dos seis dígitos representa uma cor específica.\n",
    "\n",
    "Os primeiros dois dígitos representa a quantia de vermelho na cor, os próximos dois dígitos representam a quantia de verde e os dois últimos dígitos representam a quantia de azul. Por exemplo, `#FF0000` representa a cor vermelha, pois os dois primeiros dígitos (FF) representam o valor máximo de vermelho, enquanto os dígitos restantes (00) representam zero verde e zero azul. De modo semelhante, `#00FF00` representa a cor verde e `#0000FF` representa a cor azul.\n",
    "\n",
    "Quando todos os dígitos estão no valor máximo, `#FFFFFF`, temos a cor branca. Em contrapartida, quando todos os dígitos estão no valor zero, `#000000` temos a cor preta.\n",
    "\n",
    "Coloração com hexadecimal é amplamente usada em design e desenvolvimento web, pois permite uma variedade mais ampla de cores do que os métodos tradicionais via nomenclatura. Ela concede maior controle e precisão na escolha de cores para um website, além de ter mais compatibilidade nos diferentes navegadores e dispositivos.\n",
    "\n",
    "Os códigos em hexadecimal podem ser encurtados usando notação abreviada. Quando usamos o código de seis dígitos, algumas vezes os valores para cada par de dígitos pode ser o mesmo. Nesse caso, você pode encurtar o código e usar apenas três dígitos.\n",
    "\n",
    "Por exemplo, se você tiver o código de cor `#FF0000` para a cor vermelha, você pode encurtá-lo para `#F00` uma vez que cada par de dígitos é o mesmo. Os dois primeiros FF se tornam F, os próximos dois 00 se tornam 0 e os últimos 00 também se tornam 0. Na versão encurtada, você só precisa fornecer o primeiro dígito de cada par, uma vez que eles são os mesmos.\n",
    "\n",
    "Veja outro exemplo que utiliza valores RGB para definir a cor do texto de um elemento âncora:"
   ]
  },
  {
   "cell_type": "code",
   "execution_count": 29,
   "metadata": {
    "vscode": {
     "languageId": "html"
    }
   },
   "outputs": [
    {
     "data": {
      "text/html": [
       "<head>\n",
       "  <style>\n",
       "    .red-rgb {\n",
       "      color: rgb(255, 0, 0); /* vermelho */\n",
       "    }\n",
       "  </style>\n",
       "</head>\n",
       "<body>\n",
       "  <p>Este <a href=\"\" class=\"red-rgb\">link</a> é vermelho.</p>\n",
       "</body>\n"
      ],
      "text/plain": [
       "<IPython.core.display.HTML object>"
      ]
     },
     "metadata": {},
     "output_type": "display_data"
    }
   ],
   "source": [
    "%%html\n",
    "<head>\n",
    "  <style>\n",
    "    .red-rgb {\n",
    "      color: rgb(255, 0, 0); /* vermelho */\n",
    "    }\n",
    "  </style>\n",
    "</head>\n",
    "<body>\n",
    "  <p>Este <a href=\"\" class=\"red-rgb\">link</a> é vermelho.</p>\n",
    "</body>"
   ]
  },
  {
   "attachments": {},
   "cell_type": "markdown",
   "metadata": {},
   "source": [
    "A função `rgb()` é uma função de cor do CSS que é usada para definir um valor de cor usando o modelo *red-green-blue* (RGB) de cores. Ela permite que você especifique uma cor definindo a intensidade da luz vermelha, verde e azul que a compõe.\n",
    "\n",
    "A função `rgb()` recebe três argumentos, que representam a quantia de vermelho, verde e azul, respectivamente. Os valores são separados por vírgulas (`,`) e envoltos em parênteses (`( )`). Cada valor varia de 0 até 255, 0 sendo a intensidade mínima e 255 sendo a intensidade máxima.\n",
    "\n",
    "Por exemplo, a função `rgb(255, 128, 0)` especifica que uma cor que é composta por intensidade total de vermelho (255), intensidade mediana de verde (128) e nenhum azul (0). Isso produz um tom de laranja."
   ]
  },
  {
   "cell_type": "code",
   "execution_count": 30,
   "metadata": {
    "vscode": {
     "languageId": "html"
    }
   },
   "outputs": [
    {
     "data": {
      "text/html": [
       "<head>\n",
       "  <style>\n",
       "    .orange-rgb {\n",
       "      color: rgb(255, 128, 0); /* laranja */\n",
       "    }\n",
       "  </style>\n",
       "</head>\n",
       "<body>\n",
       "  <p>Este <a href=\"\" class=\"orange-rgb\">link</a> é laranja.</p>\n",
       "</body>\n"
      ],
      "text/plain": [
       "<IPython.core.display.HTML object>"
      ]
     },
     "metadata": {},
     "output_type": "display_data"
    }
   ],
   "source": [
    "%%html\n",
    "<head>\n",
    "  <style>\n",
    "    .orange-rgb {\n",
    "      color: rgb(255, 128, 0); /* laranja */\n",
    "    }\n",
    "  </style>\n",
    "</head>\n",
    "<body>\n",
    "  <p>Este <a href=\"\" class=\"orange-rgb\">link</a> é laranja.</p>\n",
    "</body>"
   ]
  },
  {
   "attachments": {},
   "cell_type": "markdown",
   "metadata": {},
   "source": [
    "O CSS também possui uma função semelhante à `rgb()` - a função `rgba()`. Ela funciona da mesma forma que a primeira, mas adiciona um canal alfa para especificar a opacidade da cor. O valor alfa é especificado como um número entre 0 e 1, com 0 (0%) sendo totalmente transparente e 1 (100%) sendo totalmente opaco.\n",
    "\n",
    "Por exemplo, o código `rgba(255, 0, 0, 0.5)` especifica a cor vermelha semi-transparente (0.5 = 50%)."
   ]
  },
  {
   "cell_type": "code",
   "execution_count": 31,
   "metadata": {
    "vscode": {
     "languageId": "html"
    }
   },
   "outputs": [
    {
     "data": {
      "text/html": [
       "<head>\n",
       "  <style>\n",
       "    .red-rgba {\n",
       "      color: rgba(255, 0, 0, 0.5);\n",
       "    }\n",
       "  </style>\n",
       "</head>\n",
       "<body>\n",
       "  <p class=\"red-rgb\">Este parágrafo foi definido com a cor vermelha.</p>\n",
       "  <p class=\"red-rgba\">Este parágrafo foi definido com a cor vermelha e é semi-transparente.</p>\n",
       "</body>\n"
      ],
      "text/plain": [
       "<IPython.core.display.HTML object>"
      ]
     },
     "metadata": {},
     "output_type": "display_data"
    }
   ],
   "source": [
    "%%html\n",
    "<head>\n",
    "  <style>\n",
    "    .red-rgba {\n",
    "      color: rgba(255, 0, 0, 0.5); /* vermelho semi-transparente */\n",
    "    }\n",
    "  </style>\n",
    "</head>\n",
    "<body>\n",
    "  <p class=\"red-rgb\">Este parágrafo foi definido com a cor vermelha.</p>\n",
    "  <p class=\"red-rgba\">Este parágrafo foi definido com a cor vermelha e é semi-transparente.</p>\n",
    "</body>"
   ]
  },
  {
   "attachments": {},
   "cell_type": "markdown",
   "metadata": {},
   "source": [
    "Você aprenderá mais sobre funções e argumentos quando estiver aprendendo JavaScript. Tais conceitos aparecem com pouca frequência no CSS e, as funções que o CSS utiliza, não necessitam de um entendimento aprofundado no assunto para serem usadas.\n",
    "\n",
    "Por fim, vejamos um exemplo que utiliza valores HSL para definir a cor do texto de um elemento cabeçalho:"
   ]
  },
  {
   "cell_type": "code",
   "execution_count": 32,
   "metadata": {
    "vscode": {
     "languageId": "html"
    }
   },
   "outputs": [
    {
     "data": {
      "text/html": [
       "<head>\n",
       "  <style>\n",
       "    .green-hsl {\n",
       "      color: hsl(120, 100%, 50%); /* verde */\n",
       "    }\n",
       "  </style>\n",
       "</head>\n",
       "<body>\n",
       "  <p class=\"green-hsl\">Este parágrafo foi definido com a cor verde.</p>\n",
       "</body>\n"
      ],
      "text/plain": [
       "<IPython.core.display.HTML object>"
      ]
     },
     "metadata": {},
     "output_type": "display_data"
    }
   ],
   "source": [
    "%%html\n",
    "<head>\n",
    "  <style>\n",
    "    .green-hsl {\n",
    "      color: hsl(120, 100%, 50%); /* verde */\n",
    "    }\n",
    "  </style>\n",
    "</head>\n",
    "<body>\n",
    "  <p class=\"green-hsl\">Este parágrafo foi definido com a cor verde.</p>\n",
    "</body>"
   ]
  },
  {
   "attachments": {},
   "cell_type": "markdown",
   "metadata": {},
   "source": [
    "A função `hsl()` é uma função de cor no CSS que define cores usando valores de tonalidade (*hue*), saturação (*saturation*) e luminosidade (*lightness*). Ela permite que você defina uma cor baseada em sua posição no círculo cromático, sua saturação e seu brilho.\n",
    "\n",
    "A função `hsl()` aceita três parâmetros:\n",
    "\n",
    "- *Hue (0-360):* O valor de tonalidade representa a posição da cor no círculo cromático. O valor pode ser qualquer número de 0 a 360 graus. Vermelho está em 0 graus, verde está em 120 graus e azul está em 240 graus.\n",
    "- *Saturation (0-100%):* O valor de saturação representa a intensidade ou pureza da cor. Um valor de 0% significa que a cor é completamente cinza e um valor de 100% significa que a cor é completamente saturada.\n",
    "- *Lightness (0-100%):* O valor de luminosidade representa a quantia de luz ou escuridão na cor. Um valor de 0% significa que a cor é completamente preta e um valor de 100% significa que a cor é completamente branca.\n",
    "\n",
    "Por exemplo, a função `hsl(200, 80%, 50%)` especifica um tom de azul-esverdeado com uma tonalidade de 200 graus, uma saturação de 80% e uma luminosidade de 50%."
   ]
  },
  {
   "cell_type": "code",
   "execution_count": 37,
   "metadata": {
    "vscode": {
     "languageId": "html"
    }
   },
   "outputs": [
    {
     "data": {
      "text/html": [
       "<head>\n",
       "  <style>\n",
       "    .blue-sky-hsl {\n",
       "      color: hsl(200, 80%, 50%); /* azul */\n",
       "    }\n",
       "  </style>\n",
       "</head>\n",
       "<body>\n",
       "  <p>O céu <span class=\"blue-sky-hsl\">azul</span> está lindo hoje!</p>\n",
       "</body>\n"
      ],
      "text/plain": [
       "<IPython.core.display.HTML object>"
      ]
     },
     "metadata": {},
     "output_type": "display_data"
    }
   ],
   "source": [
    "%%html\n",
    "<head>\n",
    "  <style>\n",
    "    .blue-sky-hsl {\n",
    "      color: hsl(200, 80%, 50%); /* azul */\n",
    "    }\n",
    "  </style>\n",
    "</head>\n",
    "<body>\n",
    "  <p>O céu <span class=\"blue-sky-hsl\">azul</span> está lindo hoje!</p>\n",
    "</body>"
   ]
  },
  {
   "attachments": {},
   "cell_type": "markdown",
   "metadata": {},
   "source": [
    "Assim como a função `rgb()` possui uma versão com um canal alfa para opacidade, a função `hsl()` possui sua semelhante - a função `hsla()`. O canal alfa funciona da mesma maneira que na função `rgba()`.\n",
    "\n",
    "Por exemplo, o código `hsla(200, 100%, 50%, 0.5)` especifica uma cor azul semi-transparente."
   ]
  },
  {
   "cell_type": "code",
   "execution_count": 38,
   "metadata": {
    "vscode": {
     "languageId": "html"
    }
   },
   "outputs": [
    {
     "data": {
      "text/html": [
       "<head>\n",
       "  <style>\n",
       "    .blue-hsla {\n",
       "      color: hsla(200, 100%, 50%, 0.5); /* azul semi-transparente */\n",
       "    }\n",
       "  </style>\n",
       "</head>\n",
       "<body>\n",
       "  <p class=\"blue-sky-hsl\">Este parágrafo foi definido com a cor azul.</p>\n",
       "  <p class=\"blue-hsla\">Este parágrafo foi definido com a cor azul semi-transparente.</p>\n",
       "</body>\n"
      ],
      "text/plain": [
       "<IPython.core.display.HTML object>"
      ]
     },
     "metadata": {},
     "output_type": "display_data"
    }
   ],
   "source": [
    "%%html\n",
    "<head>\n",
    "  <style>\n",
    "    .blue-hsla {\n",
    "      color: hsla(200, 100%, 50%, 0.5); /* azul semi-transparente */\n",
    "    }\n",
    "  </style>\n",
    "</head>\n",
    "<body>\n",
    "  <p class=\"blue-sky-hsl\">Este parágrafo foi definido com a cor azul.</p>\n",
    "  <p class=\"blue-hsla\">Este parágrafo foi definido com a cor azul semi-transparente.</p>\n",
    "</body>"
   ]
  },
  {
   "attachments": {},
   "cell_type": "markdown",
   "metadata": {},
   "source": [
    "O estudo de cores é extremamente rico e complexo e está fora do escopo desse curso. Há diversas ferramentas online que auxiliam na escolha de cores para seu website, por exemplo, [Adobe Color Wheel](https://color.adobe.com/pt/create/color-wheel), que fornece uma roda de cores com diversas funcionalidades para auxiliar na seleção de cores.\n",
    "\n",
    "#### Estilizando Fundos\n",
    "##### A Propriedade `background-color`\n",
    "A propriedade `background-color` no CSS define a cor de fundo de um elemento. Ela recebe um valor de cor, que pode ser especificado da mesma forma que na propriedade `color` (palavras-chaves, códigos de cor hexadecimais, RGB, RGBA, HSL ou HSLA).\n",
    "\n",
    "Por exemplo, o código abaixo define a cor do elemento `<body>` como vermelha:"
   ]
  },
  {
   "cell_type": "code",
   "execution_count": 39,
   "metadata": {
    "vscode": {
     "languageId": "html"
    }
   },
   "outputs": [
    {
     "data": {
      "text/html": [
       "<head>\n",
       "  <style>\n",
       "    .red-back {\n",
       "      background-color: red;\n",
       "    }\n",
       "  </style>\n",
       "</head>\n",
       "<body>\n",
       "  <div class=\"red-back\">\n",
       "    <p>O fundo é vermelho.</p>\n",
       "  </div>\n",
       "</body>\n"
      ],
      "text/plain": [
       "<IPython.core.display.HTML object>"
      ]
     },
     "metadata": {},
     "output_type": "display_data"
    }
   ],
   "source": [
    "%%html\n",
    "<head>\n",
    "  <style>\n",
    "    .red-back {\n",
    "      background-color: red;\n",
    "    }\n",
    "  </style>\n",
    "</head>\n",
    "<body>\n",
    "  <div class=\"red-back\">\n",
    "    <p>O fundo é vermelho.</p>\n",
    "  </div>\n",
    "</body>"
   ]
  },
  {
   "attachments": {},
   "cell_type": "markdown",
   "metadata": {},
   "source": [
    "##### A Propriedade `background-image`\n",
    "A propriedade `background-image` no CSS permite que você adicione uma imagem como o fundo de um elemento. Você pode utilizar uma imagem local ou uma URL para especificar a localização da imagem.\n",
    "\n",
    "A sintaxe para a propriedade `background-image` é a seguinte:\n",
    "\n",
    "```css\n",
    "seletor {\n",
    "  background-image: url('local-da-imagem');\n",
    "}\n",
    "```\n",
    "Aqui, `seletor` é o elemento HTML que você quer aplicar a imagem de fundo e `local-da-imagem` é o local do arquivo da imagem, seja um arquivo local ou uma URL.\n",
    "\n",
    "Você também pode adicionar propriedades de fundo adicionais, como `background-repeat`, `background-position` e `background-size` para controlar como a imagem é exibida. Vamos falar um pouco sobre elas:\n",
    "\n",
    "1. `background-repeat`: Essa propriedade controle como uma imagem de fundo se repete horizontal e verticalmente dentro de seu contêiner. Ela pode ter os seguintes valores:\n",
    "    - `repeat`: O valor padrão, que faz a imagem de fundo se repetir tanto horizontal quanto verticalmente.\n",
    "    - `repeat-x`: Esse valor repete a imagem apenas no eixo horizontal.\n",
    "    - `repeat-y`: Esse valor repete a imagem apenas no eixo vertical.\n",
    "    - `no-repeat`: Esse valor faz com que a imagem apareça apenas uma vez, sem qualquer repetição.\n",
    "2. `background-position`: Essa propriedade controla a posição da imagem de fundo dentro de seu contêiner. Ela pode ter os seguintes valores:\n",
    "    - `top left`: Esse valor coloca a imagem no canto superior esquerdo do contêiner.\n",
    "    - `top center`: Esse valor centraliza a imagem horizontalmente no topo do contêiner.\n",
    "    - `top right`: Esse valor coloca a imagem no canto superior direito do contêiner.\n",
    "    - `center left`: Esse valor centraliza a imagem verticalmente no lado esquerdo do contêiner.\n",
    "    - `center center`: Esse valor centraliza a imagem tanto horizontal quanto verticalmente dentro do contêiner.\n",
    "    - `center right`: Esse valor centraliza a imagem verticalmente no lado direito do contêiner.\n",
    "    - `bottom left`: Esse valor coloca a imagem no canto inferior esquerdo do contêiner.\n",
    "    - `bottom center`: Esse valor centraliza a imagem horizontalmente na parte inferior do contêiner.\n",
    "    - `bottom right`: Esse valor coloca a imagem no canto inferior direito do contêiner.\n",
    "3. `background-size`: Essa propriedade controla o tamanho da imagem de fundo dentro de seu contêiner. Ela pode ter os seguintes valores:\n",
    "    - `auto`: Esse é o valor padrão, que exibe a imagem de fundo no seu tamanho original.\n",
    "    - `cover`: Esse valor escala a imagem para cobrir o contêiner inteiro, enquanto mantém a proporção. Isso pode fazer com que algumas partes da imagem sejam cortadas.\n",
    "    - `contain`: Esse valor escala a imagem para caber dentro do contêiner, enquanto mantém a proporção. Isso pode fazer com que algumas partes do contêiner fiquem visíveis.\n",
    "\n",
    "Vamos ver um exemplo de uso da propriedade `background-image`:\n",
    "\n",
    "[background-image.css](background-image.css)<br/>\n",
    "[background-image.html](background-image.html)\n",
    "\n",
    "#### Estilizando Links\n",
    "##### A Propriedade `text-decoration`\n",
    "A propriedade `text-decoration` é usada para adicionar ou remover decorações de textos em documentos HTML. As decorações comuns que podem ser adicionadas ao texto usando essa propriedade são `underline`, `overline` e `line-through`. Existia o valor `blink` que aplicava um efeito de lampejo no texto, mas ele foi descontinuado e não é mais suportado na maioria dos navegadores modernos.\n",
    "\n",
    "Veja alguns exemplos:"
   ]
  },
  {
   "cell_type": "code",
   "execution_count": 1,
   "metadata": {
    "vscode": {
     "languageId": "html"
    }
   },
   "outputs": [
    {
     "data": {
      "text/html": [
       "<head>\n",
       "  <style>\n",
       "    .td-under {\n",
       "      text-decoration: underline;\n",
       "    }\n",
       "    .td-over {\n",
       "      text-decoration: overline;\n",
       "    }\n",
       "    .td-through {\n",
       "      text-decoration: line-through;\n",
       "    }\n",
       "  </style>\n",
       "</head>\n",
       "<body>\n",
       "  <p class=\"td-under\">Texto sublinhado.</p>\n",
       "  <p class=\"td-over\">Texto com sobrelinha.</p>\n",
       "  <p class=\"td-through\">Texto riscado.</p>\n",
       "</body>\n"
      ],
      "text/plain": [
       "<IPython.core.display.HTML object>"
      ]
     },
     "metadata": {},
     "output_type": "display_data"
    }
   ],
   "source": [
    "%%html\n",
    "<head>\n",
    "  <style>\n",
    "    .td-under {\n",
    "      text-decoration: underline;\n",
    "    }\n",
    "    .td-over {\n",
    "      text-decoration: overline;\n",
    "    }\n",
    "    .td-through {\n",
    "      text-decoration: line-through;\n",
    "    }\n",
    "  </style>\n",
    "</head>\n",
    "<body>\n",
    "  <p class=\"td-under\">Texto sublinhado.</p>\n",
    "  <p class=\"td-over\">Texto com sobrelinha.</p>\n",
    "  <p class=\"td-through\">Texto riscado.</p>\n",
    "</body>"
   ]
  },
  {
   "attachments": {},
   "cell_type": "markdown",
   "metadata": {},
   "source": [
    "A propriedade `text-decoration` também pode ser usada para remover decorações de texto. Essa funcionalidade é muito usada para remover a decoração sublinhado padrão em links, permitindo que o desenvolvedor estilize seus links da maneira que desejar.\n",
    "\n",
    "Veja como:"
   ]
  },
  {
   "cell_type": "code",
   "execution_count": 41,
   "metadata": {
    "vscode": {
     "languageId": "html"
    }
   },
   "outputs": [
    {
     "data": {
      "text/html": [
       "<head>\n",
       "  <style>\n",
       "    .td-none {\n",
       "      text-decoration: none;\n",
       "    }\n",
       "  </style>\n",
       "</head>\n",
       "<body>\n",
       "  <p>Esse <a href=\"\">link</a> está sublinhado por padrão.</p>\n",
       "  <p>Esse <a href=\"\" class=\"td-none\">link</a> teve sua decoração removida.</p>\n",
       "</body>\n"
      ],
      "text/plain": [
       "<IPython.core.display.HTML object>"
      ]
     },
     "metadata": {},
     "output_type": "display_data"
    }
   ],
   "source": [
    "%%html\n",
    "<head>\n",
    "  <style>\n",
    "    .td-none {\n",
    "      text-decoration: none;\n",
    "    }\n",
    "  </style>\n",
    "</head>\n",
    "<body>\n",
    "  <p>Esse <a href=\"\">link</a> está sublinhado por padrão.</p>\n",
    "  <p>Esse <a href=\"\" class=\"td-none\">link</a> teve sua decoração removida.</p>\n",
    "</body>"
   ]
  },
  {
   "attachments": {},
   "cell_type": "markdown",
   "metadata": {},
   "source": [
    "### Autoavaliação 1\n",
    "1. Qual dos seguintes não é uma propriedade do box model?<br/>\n",
    "    a. `border`<br/>\n",
    "    b. `margin`<br/>\n",
    "    c. `padding`<br/>\n",
    "    d. `color`<br/>\n",
    "\n",
    "1. Qual destes seletores se aplica para todos os elementos em uma webpage?<br/>\n",
    "    a. Seletor de Classe<br/>\n",
    "    b. Seletor de ID<br/>\n",
    "    c. Seletor de Tipo<br/>\n",
    "    d. Seletor de Atributo<br/>\n",
    "\n",
    "1. Qual é a sintaxe para criar um comentário em CSS?<br/>\n",
    "    a. `/* comentário */`<br/>\n",
    "    b. `<!-- comentário -->`<br/>\n",
    "    c. `// comentário //`<br/>\n",
    "    d. `( comentário )`<br/>\n",
    "\n",
    "1. Qual tipo de estilo CSS é fornecido diretamente dentro do elemento HTML usando o atributo `style`?<br/>\n",
    "    a. externo<br/>\n",
    "    b. interno<br/>\n",
    "    c. em linha<br/>\n",
    "    d. embutido<br/>\n",
    "\n",
    "1. Qual propriedade determina a família de fonte para um elemento?<br/>\n",
    "    a. `font-size`<br/>\n",
    "    b. `font-style`<br/>\n",
    "    c. `font-weight`<br/>\n",
    "    d. `font-family`<br/>\n",
    "\n",
    "1. Qual propriedade determina o tamanho da fonte para um elemento?<br/>\n",
    "    a. `font-size`<br/>\n",
    "    b. `font-style`<br/>\n",
    "    c. `font-weight`<br/>\n",
    "    d. `font-family`<br/>\n",
    "\n",
    "1. Qual propriedade determina a espessura da fonte para um elemento?<br/>\n",
    "    a. `font-size`<br/>\n",
    "    b. `font-style`<br/>\n",
    "    c. `font-weight`<br/>\n",
    "    d. `font-family`<br/>\n",
    "\n",
    "1. Qual propriedade determina a cor do texto de um elemento?<br/>\n",
    "    a. `font-color`<br/>\n",
    "    b. `text-color`<br/>\n",
    "    c. `color`<br/>\n",
    "    d. `text`<br/>\n",
    "\n",
    "1. Qual propriedade determina a cor de funda de um elemento?<br/>\n",
    "    a. `background-color`<br/>\n",
    "    b. `background-image`<br/>\n",
    "    c. `color-background`<br/>\n",
    "    d. `image-background`<br/>\n",
    "\n",
    "1. Qual propriedade é usada para adicionar sublinhado ou riscado no texto em um elemento?<br/>\n",
    "    a. `text-style`<br/>\n",
    "    b. `text-decoration`<br/>\n",
    "    c. `text-decoration-style`<br/>\n",
    "    d. `line-style`<br/>"
   ]
  }
 ],
 "metadata": {
  "kernelspec": {
   "display_name": "Python 3",
   "language": "python",
   "name": "python3"
  },
  "language_info": {
   "codemirror_mode": {
    "name": "ipython",
    "version": 3
   },
   "file_extension": ".py",
   "mimetype": "text/x-python",
   "name": "python",
   "nbconvert_exporter": "python",
   "pygments_lexer": "ipython3",
   "version": "3.11.3"
  },
  "orig_nbformat": 4
 },
 "nbformat": 4,
 "nbformat_minor": 2
}
