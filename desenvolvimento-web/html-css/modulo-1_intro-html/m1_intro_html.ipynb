{
 "cells": [
  {
   "attachments": {},
   "cell_type": "markdown",
   "metadata": {},
   "source": [
    "# Módulo 1 — Introdução ao HTML"
   ]
  },
  {
   "attachments": {},
   "cell_type": "markdown",
   "metadata": {},
   "source": [
    "## Visão Geral do Módulo\n",
    "Esse módulo introduzirá os fundamentos do <abbr title=\"HyperText Markup Language\">HTML</abbr>, a linguagem padrão usada para criar páginas web. Você aprenderá sobre a estrutura básica de um documento HTML, os elementos HTML mais comumente usados, como adicionar textos, imagens, links e listas para uma webpage e como organizar conteúdo com tabelas e HTML semântico. O módulo também abrangerá as melhores práticas para criar páginas web acessíveis e compatíveis com mecanismos de buscas.\n",
    "\n",
    "1. [Aula 1 - Introdução ao HTML](#Aula-1-–-Introdução-ao-HTML)\n",
    "1. [Aula 2 - Formatação de Texto no HTML](#Aula-2-–-Formatação-de-Texto-com-HTML)\n",
    "1. [Aula 3 - Listas no HTML](#Aula-3-–-Listas-no-HTML)\n",
    "1. [Aula 4 - Tabelas no HTML](#Aula-4-–-Tabelas-no-HTML)\n",
    "1. [Aula 5 - HTML Semântico](#Aula-5-–-HTML-Semântico)\n",
    "1. [Avaliação Final do Módulo 1](#Avaliação-Final-do-Módulo-1)\n",
    "1. [Consideraçoes Finais](#Considerações-Finais)"
   ]
  },
  {
   "attachments": {},
   "cell_type": "markdown",
   "metadata": {},
   "source": [
    "## Aula 1 – Introdução ao HTML\n",
    "### Visão Geral da Aula\n",
    "1. [O Que é HTML?](#O-Que-é-HTML?)\n",
    "2. [A Estrutura de um Documento HTML](#A-Estrutura-de-um-Documento-HTML)\n",
    "3. [Tags HTML](#Tags-HTML)\n",
    "4. [Tags Básicas do HTML](#Tags-Básicas-do-HTML)\n",
    "5. [Criando um Simples Documento HTML](#Criando-um-Simples-Documento-HTML)\n",
    "6. [Autoavaliação 1](#Autoavaliação-1)\n",
    "\n",
    "### Objetivos de Aprendizagem\n",
    "Ao final dessa aula, você será capaz de:\n",
    "\n",
    "- Definir e descrever o propósito do HTML\n",
    "- Identificar a estrutura básica de um documento HTML\n",
    "- Explicar o propósito das tags HTML e como elas são usadas\n",
    "- Identificar e usar tags básicas do HTML para adicionar conteúdo à uma página web\n",
    "- Criar um documento HTML simples usando um editor de texto.\n",
    "\n",
    "### Materiais Necessários\n",
    "- Computador com acesso a Internet\n",
    "- Editor de Texto (<abbr title=\"exempli grata\">e.g.</abbr> Bloco de Notas, Visual Code Studio)\n",
    "- *Web browser* (navegador web) (e.g. Chrome, Edge)"
   ]
  },
  {
   "attachments": {},
   "cell_type": "markdown",
   "metadata": {},
   "source": [
    "### O Que é HTML?\n",
    "**HTML** significa *HyperText Markup Language* ou Linguagem de Marcação de Hipertexto. É uma **linguagem de marcação** padrão usada para criar e estrutura conteúdo no web. O HTML utiliza uma série de tags e **atributos** para definir os diferentes **elementos** que compõem uma webpage, como cabeçalhos, parágrafos, links, imagens e mais.\n",
    "\n",
    "O propósito do HTML é fornecer uma maneira de descrever a estrutura e o conteúdo de uma página web, permitindo que ela seja renderizada e exibida por navegadores. Ele fornece um formato padronizado para a criação de webpages que podem ser compreendidas e interpretadas por qualquer dispositivo com um navegador web, tornando-o uma ferramenta essencial para criar e compartilhar informações na Internet.\n",
    "\n",
    "### A Estrutura de um Documento HTML\n",
    "A estrutura de um documento HTML consiste de várias partes:\n",
    "\n",
    "1. **Declaração DOCTYPE:** Essa é uma declaração \"opcional\" que especifica a versão do HTML sendo usado no documento.\n",
    "2. **Elemento HTML:** Esse é o elemento raiz do documento e contém dois elementos filhos: o **head** e o **body**.\n",
    "3. **Elemento Head:** Esse elemento contém metadados sobre o documento, como o título de uma página, links para folhas de estilo <abbr title=\"Cascading Style Sheets\">CSS</abbr> e *scripts*.\n",
    "4. **Elemento Body:** É aqui que o conteúdo da página fica contido, como textos, imagens e outros elementos.\n",
    "\n",
    "Veja um exemplo de um documento HTML básico:\n",
    "\n",
    "<sup><abbr title=\"Post scriptum\">P.S.</abbr> O código-exemplo abaixo contém, na primeira linha, a expressão `%%html`. Essa expressão não faz parte do HTML e é usada aqui apenas para que o contexto de exibição da aula possa rodar o código e exibir sua saída. Tal expressão não deve ser inclusa nos documentos HTML que você criar.</sup>"
   ]
  },
  {
   "cell_type": "code",
   "execution_count": 16,
   "metadata": {
    "vscode": {
     "languageId": "html"
    }
   },
   "outputs": [
    {
     "data": {
      "text/html": [
       "<!DOCTYPE html>\n",
       "<html>\n",
       "  <head>\n",
       "    <title>Minha Página</title>\n",
       "  </head>\n",
       "  <body>\n",
       "    <h1>Bem-vindo(a) à Minha Página!</h1>\n",
       "    <p>Esse é um texto de exemplo.</p>\n",
       "    <img src=\"image.jpg\" alt=\"Uma imagem de exemplo\" width=\"200\">\n",
       "  </body>\n",
       "</html>\n"
      ],
      "text/plain": [
       "<IPython.core.display.HTML object>"
      ]
     },
     "metadata": {},
     "output_type": "display_data"
    }
   ],
   "source": [
    "%%html\n",
    "<!DOCTYPE html>\n",
    "<html>\n",
    "  <head>\n",
    "    <title>Minha Página</title>\n",
    "  </head>\n",
    "  <body>\n",
    "    <h1>Bem-vindo(a) à Minha Página!</h1>\n",
    "    <p>Esse é um texto de exemplo.</p>\n",
    "    <img src=\"image.jpg\" alt=\"Uma imagem de exemplo\" width=\"200\">\n",
    "  </body>\n",
    "</html>"
   ]
  },
  {
   "attachments": {},
   "cell_type": "markdown",
   "metadata": {},
   "source": [
    "Nesse exemplo, nós temos:\n",
    "\n",
    "- Uma declaração `DOCTYPE` especificando que esse é um documento **HTML5** – versão mais recente do HTML.\n",
    "- Um elemento `html` que contém os elementos `head` e `body`\n",
    "- Um elemento `head` que contém o elemento `title`\n",
    "- Um elemento `body` que contendo um elemento `h1`, um elemento `p` e um elemento `img`\n",
    "\n",
    "#### Declaração DOCTYPE do HTML\n",
    "\n",
    "A declaração `DOCTYPE` do HTML é a primeira linha em qualquer documento HTML e declara qual versão do HTML está sendo usado no documento. Ela é necessário, pois diz ao navegador como interpretar a linguagem de marcação do documento e versões diferentes do HTML possuem sintaxe e funcionalidades diferentes.\n",
    "\n",
    "A declaração inicial com a tag `<!DOCTYPE>`, seguida pelo nome da linguagem (HTML). Em seguida é incluído um identificador opcional `public` ou `system` e uma referência para o <abbr title=\"Document Type Definition\">DTD</abbr>, que define as regras para a linguagem de marcação. Pelo menos, essa é a declaração para versões anteriores ao HTML5.\n",
    "\n",
    "Veja abaixo a declaração doctype usado no HTML 4.01 Strict:"
   ]
  },
  {
   "cell_type": "code",
   "execution_count": 21,
   "metadata": {
    "vscode": {
     "languageId": "html"
    }
   },
   "outputs": [
    {
     "data": {
      "text/html": [
       "<!DOCTYPE HTML PUBLIC \"-//W3C//DTD HTML 4.01//EN\" \"http://www.w3.org/TR/html4/strict.dtd\">\n"
      ],
      "text/plain": [
       "<IPython.core.display.HTML object>"
      ]
     },
     "metadata": {},
     "output_type": "display_data"
    }
   ],
   "source": [
    "%%html\n",
    "<!DOCTYPE HTML PUBLIC \"-//W3C//DTD HTML 4.01//EN\" \"http://www.w3.org/TR/html4/strict.dtd\">"
   ]
  },
  {
   "attachments": {},
   "cell_type": "markdown",
   "metadata": {},
   "source": [
    "O HTML5 simplificou a declaração, sendo necessário apenas a tag e o nome da linguagem. Veja abaixo: "
   ]
  },
  {
   "cell_type": "code",
   "execution_count": 22,
   "metadata": {
    "vscode": {
     "languageId": "html"
    }
   },
   "outputs": [
    {
     "data": {
      "text/html": [
       "<!DOCTYPE html>\n"
      ],
      "text/plain": [
       "<IPython.core.display.HTML object>"
      ]
     },
     "metadata": {},
     "output_type": "display_data"
    }
   ],
   "source": [
    "%%html\n",
    "<!DOCTYPE html>"
   ]
  },
  {
   "attachments": {},
   "cell_type": "markdown",
   "metadata": {},
   "source": [
    "É importante notar que a declaração doctype deve ser a primeira linha de um documento HTML, antes de quaisquer tags HTML ou conteúdo. Isso garante que o navegador conseguirá interpretar o documento corretamente e exibi-lo para o usuário.\n",
    "\n",
    "#### A Tag `html`\n",
    "A tag `<html>` é o elemento raiz de um documento HTML. É o elemento mais externo que inclui todos os outros elementos no documento. Todo documento HTML deve começar, após a declaração doctype, com uma tag de abertura `<html>` e terminar com uma tag de fechamento `</html>`.\n",
    "\n",
    "A tag `<html> possui dois atributos que são comumente usados:\n",
    "\n",
    "- `lang`: Esse atributo especifica o idioma do documento. O valor do atributo `lang` deve ser definido como o código de idioma <abbr title=\"International Organization for Standardization\">ISO</abbr> apropriado, como \"en\" para inglês ou \"pt\" para português. O atributo `lang` é usado pelos navegadores e mecanismos de busca para fornecer melhor acessibilidade e localização para os usuários.\n",
    "- `dir`: Esse atributo especifica a direção do texto do documento. O valor do atributo `dir` deve ser definido como \"ltr\" para idiomas da esquerda para direita, como o inglês, ou \"rtl\" para idiomas da direita para esquerda, como árabe ou hebraico.\n",
    "\n",
    "É importante observar que a tag `<html>` deve ser usada apenas uma vez em um documento HTML e todos os outros elementos devem estar aninhados dentro dela. As tags de abertura e fechamento devem sempre ser usadas juntas para garantir o aninhamento e a análise sintática apropriados.\n",
    "\n",
    "#### As Tags `head` e `body`\n",
    "##### `head`\n",
    "Após a tag `<html>`, nós temos a tag `<head>`. Ela é uma parte essencial de um documento HTML. É um elemento contêiner que inclui metadados sobre a página web, como o título, links para folhas de estilo CSS e código JavaScript. Os conteúdos da tag `<head>` não são exibidos na página web em si, mas são usados pelo navegador web e mecanismos de busca para compreender a página.\n",
    "\n",
    "Veja alguns dos elementos mais comuns que você poderia encontrar dentro da tag `<head>`:\n",
    "\n",
    "- `<title>`: Esse elemento especifica o título da página web, que é exibido na barra de título ou na aba do navegador. O texto dentro da tag `<title>` também é usado por mecanismos de busca para gerar o título da página nos resultados das pesquisas.\n",
    "    - É importante observar que o conteúdo da tag `<title>` deve ser descritivo e conciso e deve refletir precisamente o conteúdo da página. Um bom título pode aprimorar a otimização de mecanismos de busca (<abbr title=\"Search Engine Optimization\">SEO</abbr>) da página e torná-la mais fácil para os usuários encontrar e identificar o conteúdo que eles estão procurando.\n",
    "- `<meta>`: Este elemento é usado para fornecer metadados sobre a página, como o autor, descrição e palavras-chave. O uso mais comum da tag `<meta>` é para especificar a codificação de caracteres do documento, que deve ser definida como UTF-8 para páginas web modernas.\n",
    "- `<link>`: Esse elemento é usado para vincular o documento HTML à recursos externos, como folhas de estilo CSS e arquivos de ícone.\n",
    "- `<script>`: Esse elemento é usado para incluir código JavaScript no documento HTML. O código JavaScript pode ser usado para adicionar interatividade e comportamento dinâmico para a página web.\n",
    "\n",
    "É importante observar que a tag `<head>` deve vir antes da tag `<body>` no documento HTML. \n",
    "\n",
    "##### `body`\n",
    "A tag `<body>` é usada para definir o conteúdo principal de um documento HTML. Todo o conteúdo visível de uma página web, como texto, imagens, links e outras mídias, deve ser colocado dentro da tag `<body>`.\n",
    "\n",
    "Veja um exemplo de uma webpage simples com um cabeçalho e um pouco de texto dentro da tag `<body>`:"
   ]
  },
  {
   "cell_type": "code",
   "execution_count": 23,
   "metadata": {
    "vscode": {
     "languageId": "html"
    }
   },
   "outputs": [
    {
     "data": {
      "text/html": [
       "<!DOCTYPE html>\n",
       "<html>\n",
       "  <head>\n",
       "    <title>Minha Webpage</title>\n",
       "  </head>\n",
       "  <body>\n",
       "    <h1>Bem-vindos à Minha Webpage</h1>\n",
       "    <p>Esse é um conteúdo textual. Lorem ipsum dolor sit amet consectetur adipisicing elit. Quasi, delectus.</p>\n",
       "  </body>\n",
       "</html>\n"
      ],
      "text/plain": [
       "<IPython.core.display.HTML object>"
      ]
     },
     "metadata": {},
     "output_type": "display_data"
    }
   ],
   "source": [
    "%%html\n",
    "<!DOCTYPE html>\n",
    "<html>\n",
    "  <head>\n",
    "    <title>Minha Webpage</title>\n",
    "  </head>\n",
    "  <body>\n",
    "    <h1>Bem-vindos à Minha Webpage</h1>\n",
    "    <p>Esse é um conteúdo textual. Lorem ipsum dolor sit amet consectetur adipisicing elit. Quasi, delectus.</p>\n",
    "  </body>\n",
    "</html>"
   ]
  },
  {
   "attachments": {},
   "cell_type": "markdown",
   "metadata": {},
   "source": [
    "Nesse exemplo, a tag `<body>` começa após a seção `<head>` e todo o conteúdo visível da página está contido dentro dela. A tag `<h1>` é usada para criar um cabeçalho para a página e a tag `<p>` é usada para criar um parágrafo de texto.\n",
    "\n",
    "A tag `<body>` também pode conter outros elementos HTML, como listas, imagens, tabelas e mais, que são usados para estruturar e formatar o conteúdo da página web."
   ]
  },
  {
   "attachments": {},
   "cell_type": "markdown",
   "metadata": {},
   "source": [
    "### Tags HTML\n",
    "Nós já vimos algumas tags, `<html>`, `<head>`, `<title>`, `<body>`, entre outras. Mas o que exatamente é uma tag?\n",
    "\n",
    "Tags HTML são blocos de construção básicos de qualquer documento HTML. Elas são usadas para marcar o conteúdo do documento e definir a estrutura e o *layout* (disposição) da página. As tags são cercadas por colchetes angulares (`< >`) e a maioria vem em pares de **tags de abertura** e **tags de fechamento** com o conteúdo entre elas.\n",
    "\n",
    "Por exemplo, a tag `<p>` é usada para definir um parágrafo de texto e a tag de abertura é `<p>` e a tag de fechamento é `</p>`. O conteúdo textual vai entre as tags de abertura e fechamento, assim:"
   ]
  },
  {
   "cell_type": "code",
   "execution_count": 24,
   "metadata": {
    "vscode": {
     "languageId": "html"
    }
   },
   "outputs": [
    {
     "data": {
      "text/html": [
       "<p>Esse é um parágrafo de texto.</p>\n"
      ],
      "text/plain": [
       "<IPython.core.display.HTML object>"
      ]
     },
     "metadata": {},
     "output_type": "display_data"
    }
   ],
   "source": [
    "%%html\n",
    "<p>Esse é um parágrafo de texto.</p>"
   ]
  },
  {
   "attachments": {},
   "cell_type": "markdown",
   "metadata": {},
   "source": [
    "Algumas tags podem ser de **fechamento automático**, ou seja, elas não precisam se uma tag de fechamento. Por exemplo, a tag `<img>` é usada para exibir uma imagem e é de fechamento automático. Veja um exemplo:"
   ]
  },
  {
   "cell_type": "code",
   "execution_count": 8,
   "metadata": {
    "vscode": {
     "languageId": "html"
    }
   },
   "outputs": [
    {
     "data": {
      "text/html": [
       "<img src=\"image.jpg\" alt=\"A imagem de um gato\" width=\"200px\">\n"
      ],
      "text/plain": [
       "<IPython.core.display.HTML object>"
      ]
     },
     "metadata": {},
     "output_type": "display_data"
    }
   ],
   "source": [
    "%%html\n",
    "<img src=\"image.jpg\" alt=\"A imagem de um gato\" width=\"200\">"
   ]
  },
  {
   "attachments": {},
   "cell_type": "markdown",
   "metadata": {},
   "source": [
    "Nesse exemplo, `src`, `alt` e `width` são atributos e são usados para especificar o arquivo de imagem que deve ser exibido, um texto descritivo da imagem e o tamanho vertical máximo da imagem, respectivamente. Falaremos mais sobre atributos adiante.\n",
    "\n",
    "O HTML possui uma ampla variedade de tags para criação de diferentes tipos de conteúdo, incluindo títulos, listas, tabelas, formulários e mais. É importante usar as tags corretamente para garantir que a webpage será bem estruturada e consiga ser analisada e exibida adequadamente pelos *web browsers*.\n",
    "\n",
    "#### Atributos\n",
    "Atributos fornecem informações adicionais sobre um elemento. Eles são adicionados na tag de abertura de um elemento e consistem de um **par nome-valor** separados por um sinal de igual (`=`). O valor de um atributo sempre é envolto em aspas, seja simples (`'`) ou duplas (`\"`).\n",
    "\n",
    "No exemplo anterior, a imagem do gato, a tag `<img>` possui três atributos: `src`, `alt` e `width`. O atributo `src` especifica a <abbr title=\"Uniform Resource Locator\">URL</abbr> do arquivo de imagem que será exibido, o atributo `alt` fornece uma descrição textual da imagem para ser usada caso a imagem não possa ser exibida e para questões de acessibilidade e, por fim, o atributo `width` define o tamanho vertical máximo da imagem.\n",
    "\n",
    "Alguns elementos possuem atributos padrão que não podem ser omitidos. Por exemplo, a tag `<a>` (que é usada para criar hiperlinks) possui um atributo padrão `href` que especifica a URL do link. Se o atributo `href` for omitido, o link não funcionará.\n",
    "\n",
    "Os atributos também podem ser usados para fornecer informações adicionais sobre um elemento para os propósitos de estilização. Por exemplo, os atributos `class` e `id` podem ser usados para aplicar estilos CSS para elementos específicos.\n",
    "\n",
    "#### Tipos de Elementos\n",
    "No HTML, os elementos são categorizados em dois tipos principais: elementos em linha (*inline*) e elementos em nível de bloco (*block-level*).\n",
    "\n",
    "Elementos inline são àqueles que não criam uma nova linha e ocupam apenas a largura necessária para exibirem seus conteúdos. Elementos block-level, por outro lado, criam uma nova linha e consomem toda a largura disponível.\n",
    "\n",
    "Elementos inline podem ser aninhados dentro de elementos block-level, mas elementos block-level não podem ser aninhados dentro de elementos inline. Quando um elemento block-level é aninhado dentro de um elemento inline, ele é automaticamente convertido para um elemento inline.\n",
    "\n",
    "Com CSS, é possível alterar o tipo padrão de um elemento: é possível transformar um elemento inline em um elemento block-level e vice-versa. Falaremos mais sobre isso quando estivermos estudando CSS.\n",
    "\n",
    "Elementos como `<html>`, `<head>`, `<title>` e `<body>` são considerados elementos contêineres, ou seja, eles podem conter outros elementos e conteúdo textual, mas não geram qualquer saída visível por si só. Portanto, não são classificados nem como elementos inline nem block-level.\n",
    "\n",
    "### Tags Básicas do HTML\n",
    "\n",
    "#### Cabeçalhos\n",
    "As tags de *heading* no HTML são elementos block-level usados para definir os cabeçalhos ou títulos de uma webpage. Por títulos, entenda o instrumento textual para estruturar e segmentar textos, não o conteúdo dentro da tag `<title>` que não é exibido na página em si, mas sim na barra de título ou aba do navegador.\n",
    "\n",
    "Existem seis tags de cabeçalho diferentes no HTML, de `<h1>` até `<h6>`, onde `<h1>` é o nível mais alto de cabeçalho e `<h6>` é o mais baixo.\n",
    "\n",
    "O principal propósito das tags de cabeçalho é fornecer estrutura e hierarquia para o conteúdo de uma webpage, ajudando os usuários a compreender a organização do conteúdo e navegar mais fácil na página. Além disso, os mecanismos de busca também utilizam as tags de cabeçalho para entender a estrutura da página e determinar a relevância do conteúdo em uma determina busca.\n",
    "\n",
    "Quando usar as tags de cabeçalho, é importante usá-las na ordem correta e não pular níveis. Por exemplo, o cabeçalho principal da página deve ser `<h1>` e subcabeçalhos subsequentes devem ser `<h2>`, `<h3>`, e assim por diante, em uma ordem hierárquica.\n",
    "\n",
    "Veja um exemplo de como as tags de cabeçalho podem ser usadas no HTML:"
   ]
  },
  {
   "cell_type": "code",
   "execution_count": 1,
   "metadata": {
    "vscode": {
     "languageId": "html"
    }
   },
   "outputs": [
    {
     "data": {
      "text/html": [
       "<body>\n",
       "  <h1>Cabeçalho Principal</h1>\n",
       "  <h2>Subcabeçalho</h2>\n",
       "  <p>O texto do parágrafo vai aqui...</p>\n",
       "  <h2>Outro subcabeçalho</h2>\n",
       "  <p>Mais texto...</p>\n",
       "  <h3>Subsubcabeçalho</h3>\n",
       "  <p>Ainda mais texto...</p>\n",
       "</body>\n"
      ],
      "text/plain": [
       "<IPython.core.display.HTML object>"
      ]
     },
     "metadata": {},
     "output_type": "display_data"
    }
   ],
   "source": [
    "%%html\n",
    "<body>\n",
    "  <h1>Cabeçalho Principal</h1>\n",
    "  <h2>Subcabeçalho</h2>\n",
    "  <p>O texto do parágrafo vai aqui...</p>\n",
    "  <h2>Outro subcabeçalho</h2>\n",
    "  <p>Mais texto...</p>\n",
    "  <h3>Subsubcabeçalho</h3>\n",
    "  <p>Ainda mais texto...</p>\n",
    "</body>"
   ]
  },
  {
   "attachments": {},
   "cell_type": "markdown",
   "metadata": {},
   "source": [
    "Nesse exemplo, a tag `<h1>` define o cabeçalho principal da página, enquanto as tags `<h2>` são usadas para definir subcabeçalhos. A tag `<h3>` é usada para definir um subsubcabeçalho que seria subordinado do cabeçalho `<h2>`.\n",
    "\n",
    "#### Parágrafo\n",
    "A tag `<p>` no HTML significa \"parágrafo\" e é um elemento block-level usado para definir um parágrafo de texto. Qualquer texto envolto por tags `<p>` será renderizado como um único parágrafo com uma linha em branco acima e abaixo dele.\n",
    "\n",
    "Por exemplo, veja o seguinte código HTML:"
   ]
  },
  {
   "cell_type": "code",
   "execution_count": 13,
   "metadata": {
    "vscode": {
     "languageId": "html"
    }
   },
   "outputs": [
    {
     "data": {
      "text/html": [
       "<p>Esse é um parágrafo de texto.</p>\n"
      ],
      "text/plain": [
       "<IPython.core.display.HTML object>"
      ]
     },
     "metadata": {},
     "output_type": "display_data"
    }
   ],
   "source": [
    "%%html\n",
    "<p>Esse é um parágrafo de texto.</p>"
   ]
  },
  {
   "attachments": {},
   "cell_type": "markdown",
   "metadata": {},
   "source": [
    "A tag `<p>` também pode conter outras tags HTML, como links ou imagens. Por exemplo:"
   ]
  },
  {
   "cell_type": "code",
   "execution_count": 14,
   "metadata": {
    "vscode": {
     "languageId": "html"
    }
   },
   "outputs": [
    {
     "data": {
      "text/html": [
       "<p>Clique <a href=\"https://example.edu\">aqui</a> para mais informações.</p>\n"
      ],
      "text/plain": [
       "<IPython.core.display.HTML object>"
      ]
     },
     "metadata": {},
     "output_type": "display_data"
    }
   ],
   "source": [
    "%%html\n",
    "<p>Clique <a href=\"https://example.edu\">aqui</a> para mais informações.</p>"
   ]
  },
  {
   "attachments": {},
   "cell_type": "markdown",
   "metadata": {},
   "source": [
    "No geral, a tag `<p>` é uma tag HTML básica e essencial usada para estruturar e exibir conteúdo textual em uma página web.\n",
    "\n",
    "#### Âncora\n",
    "A tag `<a>` é um elemento inline usado para criar hiperlinks em documentos HTML. É tipicamente usada para vincular uma página da web à outra, mas também pode ser usada para vincular outros tipos de arquivos, como imagens ou documentos.\n",
    "\n",
    "A tag `<a>` possui um atributo `href` que especifica a URL ou o destino do link. O texto do link é colocado entre as tags de abertura e fechamento `<a>` e, quando clicado, o usuário será direcionado para a URL especificada no atributo `href`.\n",
    "\n",
    "No exemplo anterior, o atributo `href` especificou o destino do link como https://www.example.edu. O texto do link, \"aqui\" é exibido na página e age como um elemento clicável que leva o usuário à URL especificada quando clicado.\n",
    "\n",
    "A tag `<a>` também possui diversos atributos opcionais que podem ser usados para modificar o comportamento do link, como o atributo `target` para especificar se o link deve abrir em uma nova janela ou na mesma janela e o atributo `title` para fornecer informações adicionais sobre o link quando o usuário coloca o cursor acima dele.\n",
    "\n",
    "É importante garantir que todos os links de uma página web estejam funcionando propriamente e levem para o destino correto. Além disso, os links devem ser claramente rotulados e descritivos para que os usuários entendam para onde serão direcionados quando clicarem neles.\n",
    "\n",
    "#### Imagem\n",
    "A tag `<img>` é um elemento inline usada para incorporar imagens em um documento HTML. Ela não possui uma tag de fechamento; é uma tag de fechamento automático.\n",
    "\n",
    "A tag `<img>` possui vários atributos, sendo o mais importante o atributo `src`, que especifica a URL do arquivo da imagem. Por exemplo, `<img src=\"picture.jpg\">` exibirá uma imagem nomeada \"picture.jpg\" que está localizada no mesmo diretório que o arquivo HTML.\n",
    "\n",
    "Outros atributos incluem `alt`, que especifica um texto alternativo para exibir se a imagem não puder ser carregada ou se o usuário estiver usando um leitor de tela, e `width` e `height`, que permitem que você defina as dimensões da imagem em pixels.\n",
    "\n",
    "Veja um exemplo de uma tag `<img>` com alguns atributos:"
   ]
  },
  {
   "cell_type": "code",
   "execution_count": 15,
   "metadata": {
    "vscode": {
     "languageId": "html"
    }
   },
   "outputs": [
    {
     "data": {
      "text/html": [
       "<img src=\"picture.jpg\" alt=\"Uma linda paisagem\" width=\"500\" height=\"300\">\n"
      ],
      "text/plain": [
       "<IPython.core.display.HTML object>"
      ]
     },
     "metadata": {},
     "output_type": "display_data"
    }
   ],
   "source": [
    "%%html\n",
    "<img src=\"picture.jpg\" alt=\"Uma linda paisagem\" width=\"500\" height=\"300\">"
   ]
  },
  {
   "attachments": {},
   "cell_type": "markdown",
   "metadata": {},
   "source": [
    "É importante observar que é uma boa prática sempre incluir um atributo `alt` para os propósitos de acessibilidade. A texto `alt` deve descrever o conteúdo da imagem, caso ela não possa ser exibida, carregada ou de outra forma visualizada.\n",
    "\n",
    "#### Divisórias\n",
    "##### A Tag `div`\n",
    "O elemento `<div>` no HTML é um elemento block-level comumente usado como um contêiner para agrupar outros elementos HTML e aplicar estilos à eles. Ele não possui nenhum significado inerente nem valor semântico, mas é útil para criar divisões lógicas de conteúdo em uma página web.\n",
    "\n",
    "Veja um exemplo de como o elemento `<div>` pode ser usado:"
   ]
  },
  {
   "cell_type": "code",
   "execution_count": 2,
   "metadata": {
    "vscode": {
     "languageId": "html"
    }
   },
   "outputs": [
    {
     "data": {
      "text/html": [
       "<div>\n",
       "  <h1>Bem-vindos ao Meu Website!</h1>\n",
       "</div>\n",
       "<div>\n",
       "  <p>Esse é algum texto introdutório sobre o website.</p>\n",
       "</div>\n"
      ],
      "text/plain": [
       "<IPython.core.display.HTML object>"
      ]
     },
     "metadata": {},
     "output_type": "display_data"
    }
   ],
   "source": [
    "%%html\n",
    "<div>\n",
    "  <h1>Bem-vindos ao Meu Website!</h1>\n",
    "</div>\n",
    "<div>\n",
    "  <p>Esse é algum texto no website.</p>\n",
    "</div>"
   ]
  },
  {
   "attachments": {},
   "cell_type": "markdown",
   "metadata": {},
   "source": [
    "Observe que visualmente não há efeito algum, mas foi feita uma divisão lógica entre a parte introdutória do website (o cabeçalho) e seu conteúdo (o parágrafo).\n",
    "\n",
    "##### A Tag `span`\n",
    "A tag `<span>` no HTML é um elemento inline usado para agrupar e aplicar estilos para pequenos pedaços de texto ou outros elementos em linha do HTML dentro de elementos em bloco maiores. Assim como o elemento `<div>`, ele não possui nenhuma significa semântico em relação ao conteúdo e é tipicamente usado em conjunto com CSS para adicionar estilização ou aplicar efeitos para partes específicas do texto.\n",
    "\n",
    "Veja um exemplo de uso do elemento `<span>`:"
   ]
  },
  {
   "cell_type": "code",
   "execution_count": 3,
   "metadata": {
    "vscode": {
     "languageId": "html"
    }
   },
   "outputs": [
    {
     "data": {
      "text/html": [
       "<p>O céu <span>azul</span> está lindo hoje.</p>\n"
      ],
      "text/plain": [
       "<IPython.core.display.HTML object>"
      ]
     },
     "metadata": {},
     "output_type": "display_data"
    }
   ],
   "source": [
    "%%html\n",
    "<p>O céu <span>azul</span> está lindo hoje.</p>"
   ]
  },
  {
   "attachments": {},
   "cell_type": "markdown",
   "metadata": {},
   "source": [
    "Novamente, não há nenhuma mudança visível ao usar o elemento `<span>`, semelhante ao elemento `<div>`. Contudo, ambos poderiam ser estilos CSS aplicados que alterariam o layout ou o texto.\n",
    "\n",
    "É importante observar que o uso de estilos em linha assim (com `<span>`) são desencorajados em favor do uso de folhas de estilo externas ou internas, que fornecem mais controle e organização à estilização da página. O elemento `<div>`, por outro lado, é amplamente utilizado.\n",
    "\n",
    "### Criando um Simples Documento HTML\n",
    "Agora que você já conhece a estrutura básica do HTML, sabe o que são tags e atributos, e conhece as tags básicas da linguagem, é hora de aprender como criar seu próprio documento HTML em seu computador. Utilize o passo-a-passo abaixo e os conhecimentos que adquiriu durante a aula para criar um documento HTML:\n",
    "\n",
    "1. Abra seu editor de texto de escolhe (e.g. Bloco de Notas, Visual Code Studio, Sublime Text, Atom, etc.).\n",
    "2. Crie um novo arquivo selecionando \"Arquivo\" → \"Novo\" ou pressionando `CTRL+N` (Windows) ou `CMD+N` (Mac).\n",
    "    - Caso o caminho e/ou os atalhos não funcionem em seu editor de texto de escolhe, verifique na documentação do mesmo ou investigue a interface gráfica do mesmo para encontrar como se cria um novo arquivo.\n",
    "3. Salve o arquivo com uma extensão **.html** (e.g. index.html, about.html, etc.) selecionando \"Arquivo\" → \"Salvar Como\" ou pressionando `CTRL+SHIFT+S` (Windows) ou `CMD+SHIFT+S` (Mac).\n",
    "4. No novo arquivo, inicie adicionando a declaração doctype, seguida pelas tags de abertura e fechamento `<html>`.\n",
    "5. Dentro das tags `<html>`, adicione as tags `<head>` e `<body>`.\n",
    "6. Dentro das tags `<head>`, adicione a tag `<title>` e quaisquer outros metadados que queira (e saiba como) incluir.\n",
    "7. Dentro das tags `<body>`, adicione o conteúdo de sua página web usando várias tags HTML, como cabeçalhos, parágrafos, links, imagens, etc.\n",
    "8. Salve o arquivo e abra-o em seu navegador de escolha para visualizar sua webpage.\n",
    "\n",
    "Abaixo você encontra um documento HTML básico que utiliza todo o conteúdo apresentado à você nessa aula e um novo elemento que veremos em aulas futuras: listas!"
   ]
  },
  {
   "cell_type": "code",
   "execution_count": 2,
   "metadata": {
    "vscode": {
     "languageId": "html"
    }
   },
   "outputs": [
    {
     "data": {
      "text/html": [
       "<!DOCTYPE html>\n",
       "<html lang=\"pt-BR\">\n",
       "  <head>\n",
       "    <title>Meu Website</title>\n",
       "    <meta charset=\"UTF-8\">\n",
       "  </head>\n",
       "  <body>\n",
       "    <h1>Bem-vindos ao Meu Website</h1>\n",
       "    <p>Aqui você encontrará informações sobre mim e meu trabalho.</p>\n",
       "    <h2>Sobre Mim</h2>\n",
       "    <img src=\"profile.jpg\" alt=\"Foto de Perfil do João\" width=\"250\">\n",
       "    <p>Oi, meu nome é João! Eu sou um desenvolvedor web com mais de 5 anos de experiência.</p>\n",
       "    <h2>Meu Trabalho</h2>\n",
       "    <p>Veja alguns dos meus projetos recentes:</p>\n",
       "    <ul>\n",
       "      <li><a href=\"\">Projeto 1</a></li>\n",
       "      <li><a href=\"\">Projeto 2</a></li>\n",
       "      <li><a href=\"\">Projeto 3</a></li>\n",
       "    </ul>\n",
       "    <h2>Meu Contato</h2>\n",
       "    <p>Sinta-se a vontade para me enviar um e-mail em <a href=\"mailto:joao@example.edu\">joao@example.edu</a>.</p>\n",
       "  </body>\n",
       "</html>\n"
      ],
      "text/plain": [
       "<IPython.core.display.HTML object>"
      ]
     },
     "metadata": {},
     "output_type": "display_data"
    }
   ],
   "source": [
    "%%html\n",
    "<!DOCTYPE html>\n",
    "<html lang=\"pt-BR\">\n",
    "  <head>\n",
    "    <title>Meu Website</title>\n",
    "    <meta charset=\"UTF-8\">\n",
    "  </head>\n",
    "  <body>\n",
    "    <h1>Bem-vindos ao Meu Website</h1>\n",
    "    <p>Aqui você encontrará informações sobre mim e meu trabalho.</p>\n",
    "    <h2>Sobre Mim</h2>\n",
    "    <img src=\"profile.jpg\" alt=\"Foto de Perfil do João\" width=\"250\">\n",
    "    <p>Oi, meu nome é João! Eu sou um desenvolvedor web com mais de 5 anos de experiência.</p>\n",
    "    <h2>Meu Trabalho</h2>\n",
    "    <p>Veja alguns dos meus projetos recentes:</p>\n",
    "    <ul>\n",
    "      <li><a href=\"\">Projeto 1</a></li>\n",
    "      <li><a href=\"\">Projeto 2</a></li>\n",
    "      <li><a href=\"\">Projeto 3</a></li>\n",
    "    </ul>\n",
    "    <h2>Meu Contato</h2>\n",
    "    <p>Sinta-se a vontade para me enviar um e-mail em <a href=\"mailto:joao@example.edu\">joao@example.edu</a>.</p>\n",
    "  </body>\n",
    "</html>"
   ]
  },
  {
   "attachments": {},
   "cell_type": "markdown",
   "metadata": {},
   "source": [
    "### Autoavaliação 1\n",
    "\n",
    "**As perguntas abaixo podem ter mais de uma resposta certa.**\n",
    "\n",
    "1. O que significa HTML?\n",
    "\n",
    "    a. HyperText Markup Language<br/>\n",
    "    b. HighTech Markup Language<br/>\n",
    "    c. HyperType Markup Language<br/>\n",
    "    d. HighType Markup Language<br/>\n",
    "\n",
    "2. Qual o propósito do HTML?\n",
    "\n",
    "    a. Desenvolver webpages<br/>\n",
    "    b. Criar conteúdos multimídia<br/>\n",
    "    c. Estruturar conteúdos em páginas web<br/>\n",
    "    d. Permitir transações comerciais na Internet<br/>\n",
    "\n",
    "3. Qual das seguintes não é uma tag HTML?\n",
    "\n",
    "    a. `<p>`<br/>\n",
    "    b. `<img>`<br/>\n",
    "    c. `<doc>`<br/>\n",
    "    d. `<a>`<br/>\n",
    "\n",
    "4. Qual é o propósito da declaração doctype em um documento HTML?\n",
    "\n",
    "    a. Definir a codificação de caracteres no HTML<br/>\n",
    "    b. Definir a versão do HTML que está sendo usado<br/>\n",
    "    c. Definir o título do documento<br/>\n",
    "    d. Definir a cor de fundo do documento<br/>\n",
    "\n",
    "5. Qual é o propósito da tag `<head>` em um documento HTML?\n",
    "\n",
    "    a. Definir o conteúdo principal do documento<br/>\n",
    "    b. Definir a estrutura do documento<br/>\n",
    "    c. Definir os metadados do documento<br/>\n",
    "    d. Definir o rodapé do documento<br/>\n",
    "\n",
    "6. Qual dos seguintes é um atributo válido para a tag `<img>`?\n",
    "\n",
    "    a. `href`<br/>\n",
    "    b. `src`<br/>\n",
    "    c. `alt`<br/>\n",
    "    d. `style`<br/>\n",
    "\n",
    "7. Qual das seguintes é usada para criar um hiperlink no HTML?\n",
    "\n",
    "    a. `<img>`<br/>\n",
    "    b. `<a>`<br/>\n",
    "    c. `<link>`<br/>\n",
    "    d. `<p>`<br/>\n",
    "\n",
    "8. Qual dos códigos abaixo está correto para inserir uma imagem em uma webpage?\n",
    "\n",
    "    a. `<img src=\"quiz.jpg\" alt=\"Minha Imagem\">`<br/>\n",
    "    b. `<image src=\"quiz.jpg\" alt=\"Minha Imagem\">`<br/>\n",
    "    c. `<img href=\"quiz.jpg\" alt=\"Minha Imagem\">`<br/>\n",
    "    d. `<image href=\"quiz.jpg\" alt=\"Minha Imagem\">`<br/>\n",
    "\n",
    "9. Qual é o propósito da tag `<html>`?\n",
    "\n",
    "    a. Definir o início do documento<br/>\n",
    "    b. Definir o final do documento<br/>\n",
    "    c. Definir o conteúdo do documento<br/>\n",
    "    d. Definir a versão do HTML que está sendo usado<br/>\n",
    "\n",
    "10. Qual tag define o título do documento?\n",
    "\n",
    "    a. `<head>`<br/>\n",
    "    b. `<title>`<br/>\n",
    "    c. `<body>`<br/>\n",
    "    d. `<h1>`<br/>\n",
    "\n",
    "11. Qual é o propósito da tag `<body>`?\n",
    "\n",
    "    a. Definir o final do documento<br/>\n",
    "    b. Definir o conteúdo do documento<br/>\n",
    "    c. Definir o início do documento<br/>\n",
    "    d. Definir os metadados do documento<br/>\n",
    "\n",
    "12. Qual das seguintes é uma tag de fechamento automático?\n",
    "\n",
    "    a. `<p>`<br/>\n",
    "    b. `<a>`<br/>\n",
    "    c. `<title>`<br/>\n",
    "    d. `<img>`<br/>\n",
    "\n",
    "13. Qual é o propósito do elemento `<div>`?\n",
    "\n",
    "    a. Criar elementos infinitos<br/>\n",
    "    b. Criar uma quebra de linha<br/>\n",
    "    c. Agrupar e estilizar elementos block-level<br/>\n",
    "    d. Criar um hiperlink<br/>\n",
    "\n",
    "14. Qual dos seguintes não é um exemplo de um elemento inline?\n",
    "\n",
    "    a. `<a>`<br/>\n",
    "    b. `<img>`<br/>\n",
    "    c. `<p>`<br/>\n",
    "    d. `<span>`<br/>\n",
    "\n",
    "15. Qual dos seguintes é um exemplo de um elemento block-level?\n",
    "\n",
    "    a. `<em>`<br/>\n",
    "    b. `<i>`<br/>\n",
    "    c. `<span>`<br/>\n",
    "    d. `<div>`<br/>\n",
    "\n",
    "17. Crie um documento HTML usando os conteúdos que você aprendeu nessa aula. Sua página deve conter informações sobre você, como se fosse um perfil em uma nova rede social."
   ]
  },
  {
   "attachments": {},
   "cell_type": "markdown",
   "metadata": {},
   "source": [
    "## Aula 2 – Formatação de Texto com HTML\n",
    "### Visão Geral da Aula\n",
    "Esta aula foca na formatação de texto no HTML usando várias tags. Ela abrange as diferentes tags que podem ser usadas para criar textos em negrito e itálico sublinhados e riscados, sobrescritos e subscritos, assim como textos pré-formatados.\n",
    "\n",
    "1. [Introdução à Formatação de Texto com HTML](#Introdução-à-Formatação-de-Texto-com-HTML)\n",
    "2. [Texto em Negrito e Itálico](#Texto-em-Negrito-e-Itálico)\n",
    "3. [Texto Sublinhado e Riscado](#Texto-Sublinhado-e-Riscado)\n",
    "4. [Texto Sobrescrito e Subscrito](#Texto-Sobrescrito-e-Subscrito)\n",
    "5. [Texto Pré-formatado](#Texto-Pré-formatado)\n",
    "6. [Autoavaliação 2](#Autoavaliação-2)\n",
    "\n",
    "### Objetivos de Aprendizagem\n",
    "Ao final dessa aula, você será capaz de:\n",
    "\n",
    "- Identificar as diferentes tags HTML usadas para formatação de texto\n",
    "- Usar as diferentes tags de formatação de texto para formatar sua webpage\n",
    "\n",
    "### Materiais Necessários\n",
    "- Computador com acesso a Internet\n",
    "- Editor de Texto (e.g. Bloco de Notas, Visual Code Studio)\n",
    "- Web browser  (e.g. Chrome, Edge)"
   ]
  },
  {
   "attachments": {},
   "cell_type": "markdown",
   "metadata": {},
   "source": [
    "### Introdução à Formatação de Texto com HTML\n",
    "Formatação de texto é um aspecto essencial do HTML, uma vez que permite que os desenvolvedores web aprimorem a aparência do conteúdo exibido nas páginas web. Com a formatação de texto, você pode criar conteúdos visualmente atraentes e legíveis que podem facilmente transmitir sua mensagem para o público.\n",
    "\n",
    "O HTML fornece várias tags de formatação de texto que podem ser usadas para aplicar vários estilos para seu texto, como negrito, itálico, sublinhado, riscado, sobrescrito, subscrito e texto pré-formatado. Essas tags permitem que você crie diferentes efeitos visuais que podem ajudar a destacar informações importantes, enfatizar pontos principais ou simplesmente tornar seu conteúdo mais atraente.\n",
    "\n",
    "O uso apropriado da formatação de texto também pode aprimorar a acessibilidade de seu website, facilitando a leitura e compreensão de seu conteúdo para usuários com deficiências visuais ou dificuldade de leitura. Por exemplo, ao usar tamanhos de fonte maiores ou texto em negrito você facilita a leitura de seu conteúdo para as pessoas com baixa visão.\n",
    "\n",
    "Com exceção da tag `<pre>` que é um elemento block-level, todas as demais tags de formatação de texto apresentadas nessa aula são elementos inline.\n",
    "\n",
    "### Texto em Negrito e Itálico\n",
    "#### A Tag `strong`\n",
    "A tag `<strong>` é usada para indicar que este texto deve ser exibido em negrito ou receber ênfase adicional. É comumente usada para destacar textos importantes ou para fornecer ênfase para palavras ou frases específicas.\n",
    "\n",
    "Vejamos alguns exemplos de como a tag `<strong>` pode ser usada:"
   ]
  },
  {
   "cell_type": "code",
   "execution_count": 5,
   "metadata": {
    "vscode": {
     "languageId": "html"
    }
   },
   "outputs": [
    {
     "data": {
      "text/html": [
       "<p>Nossa empresa oferece entrega <strong>grátis</strong> em pedidos acima de R$ 50!</p>\n"
      ],
      "text/plain": [
       "<IPython.core.display.HTML object>"
      ]
     },
     "metadata": {},
     "output_type": "display_data"
    }
   ],
   "source": [
    "%%html\n",
    "<p>Nossa empresa oferece entrega <strong>grátis</strong> em pedidos acima de R$ 50!</p>"
   ]
  },
  {
   "attachments": {},
   "cell_type": "markdown",
   "metadata": {},
   "source": [
    "Nesse exemplo, a palavra \"grátis\" é enfatizada usando a tag `<strong>`. Isso chama a atenção do leitor para o fato que a entrega é grátis para pedidos acima de R$ 50."
   ]
  },
  {
   "cell_type": "code",
   "execution_count": 7,
   "metadata": {
    "vscode": {
     "languageId": "html"
    }
   },
   "outputs": [
    {
     "data": {
      "text/html": [
       "<p><strong>Não esqueça:</strong> o prazo para a entrega do seu projeto é na próxima sexta-feira!</p>\n"
      ],
      "text/plain": [
       "<IPython.core.display.HTML object>"
      ]
     },
     "metadata": {},
     "output_type": "display_data"
    }
   ],
   "source": [
    "%%html\n",
    "<p><strong>Não esqueça:</strong> o prazo para a entrega do seu projeto é na próxima sexta-feira!</p>"
   ]
  },
  {
   "attachments": {},
   "cell_type": "markdown",
   "metadata": {},
   "source": [
    "Nesse exemplo, a tag `<strong>` é usada para enfatizar a frase \"Não esqueça\", chamando a atenção para o lembrete importante sobre o prazo do projeto.\n",
    "\n",
    "É importante observar que a tag `<strong>` não deve ser usada exclusivamente para tornar o texto negrito. Ela deve ser usada quando a ênfase é semanticamente importante para o conteúdo, como para indicar um ponto principal ou destacar um alerta.\n",
    "\n",
    "Por fim, vale mencionar que existe uma tag semelhante, `<b>`, que é usada para tornar o texto negrito como um estilo de apresentação, ao invés de por ênfase. Recomenda-se utilizar a tag `<strong>` ao invés da `<b>` quando possível para transmitir o significado semântico do texto enfatizado. O uso da tag `<b>` é desencorajado e recomenda-se utilizar CSS para fins de estilo de apresentação.\n",
    "\n",
    "#### A Tag `em`\n",
    "A tag `<em>` é usada para indicar texto enfatizado no HTML. Essa tag tipicamente renderiza o texto como itálico. Veja um exemplo de uso da tag `<em>`:"
   ]
  },
  {
   "cell_type": "code",
   "execution_count": 8,
   "metadata": {
    "vscode": {
     "languageId": "html"
    }
   },
   "outputs": [
    {
     "data": {
      "text/html": [
       "<p>Esta é uma mensagem <em>muito importante</em>.</p>\n"
      ],
      "text/plain": [
       "<IPython.core.display.HTML object>"
      ]
     },
     "metadata": {},
     "output_type": "display_data"
    }
   ],
   "source": [
    "%%html\n",
    "<p>Esta é uma mensagem <em>muito importante</em>.</p>"
   ]
  },
  {
   "attachments": {},
   "cell_type": "markdown",
   "metadata": {},
   "source": [
    "É importante nota que a tag `<em>` não deve ser usada simplesmente para tornar o texto itálico para propósitos de estilo visual. Ao invés disso, ela deve ser usada apenas para indicar texto que é semanticamente enfatizado dentro do documento. Ela é usada, por exemplo, para definir \"ênfase de estresse\", que é usada para indicar que certas palavras ou frases devem ser lidar com um nível mais alto de ênfase vocal.\n",
    "\n",
    "Assim como existe a tag `<b>` para propósitos exclusivamente visuais, também existia a tag `<i>` para tornar o texto itálico. Contudo, essa tag foi descontinuada no HTML5, embora ainda seja suportada pela maioria dos navegadores modernos. Seu uso deve ser evitado.\n",
    "\n",
    "### Texto Sublinhado e Riscado\n",
    "#### As Tags `u` e `ins`\n",
    "A tag `<u>` é usada para sublinhar textos em HTML. Ela pode ser usada para adicionar ênfase para certas palavras ou frases. Veja um exemplo:"
   ]
  },
  {
   "cell_type": "code",
   "execution_count": 9,
   "metadata": {
    "vscode": {
     "languageId": "html"
    }
   },
   "outputs": [
    {
     "data": {
      "text/html": [
       "<p>Este é um texto <u>sublinhado</u>.</p>\n"
      ],
      "text/plain": [
       "<IPython.core.display.HTML object>"
      ]
     },
     "metadata": {},
     "output_type": "display_data"
    }
   ],
   "source": [
    "%%html\n",
    "<p>Este é um texto <u>sublinhado</u>.</p>"
   ]
  },
  {
   "attachments": {},
   "cell_type": "markdown",
   "metadata": {},
   "source": [
    "Vale mencionar que o uso da tag `<u>` para sublinhar textos não é recomendado em HTML moderno, pois ela pode ser confundida com links. Ao invés disso, CSS deve ser usado para estilizar o texto.\n",
    "\n",
    "Em contrapartida, a tag `<ins>` é usada no HTML para marcar textos que foram inseridos no documento. Ela é tipicamente exibida como texto sublinhado. Veja alguns exemplos:"
   ]
  },
  {
   "cell_type": "code",
   "execution_count": 21,
   "metadata": {
    "vscode": {
     "languageId": "html"
    }
   },
   "outputs": [
    {
     "data": {
      "text/html": [
       "<p>Este é algum texto <ins>novo</ins>.</p>\n"
      ],
      "text/plain": [
       "<IPython.core.display.HTML object>"
      ]
     },
     "metadata": {},
     "output_type": "display_data"
    }
   ],
   "source": [
    "%%html\n",
    "<p>Este é algum texto <ins>novo</ins>.</p>"
   ]
  },
  {
   "attachments": {},
   "cell_type": "markdown",
   "metadata": {},
   "source": [
    "Ela pode ser útil para indicar mudanças em um documento, como um histórico de revisão ou quando se rastreia mudanças em documentos colaborativos. Seu uso é semântico, portanto não deve ser usada apenas para sublinhar o texto."
   ]
  },
  {
   "attachments": {},
   "cell_type": "markdown",
   "metadata": {},
   "source": [
    "#### As Tags `s` e `del`\n",
    "A tag `<s>` é usada em HTML para indicar textos que foram riscados. É comumente usada para indicar algo que não é mais válido ou relevante. Veja um exemplo de uso da tag `<s>`:"
   ]
  },
  {
   "cell_type": "code",
   "execution_count": 24,
   "metadata": {
    "vscode": {
     "languageId": "html"
    }
   },
   "outputs": [
    {
     "data": {
      "text/html": [
       "<p>Esta oferta <s>não é mais válida</s>.</p>\n"
      ],
      "text/plain": [
       "<IPython.core.display.HTML object>"
      ]
     },
     "metadata": {},
     "output_type": "display_data"
    }
   ],
   "source": [
    "%%html\n",
    "<p>Esta oferta <s>não é mais válida</s>.</p>"
   ]
  },
  {
   "attachments": {},
   "cell_type": "markdown",
   "metadata": {},
   "source": [
    "Vale mencionar que a tag `<s>` é frequentemente usada intercambiavelmente com a tag `<del>`, que é funcionalmente equivalente. Embora a tag `<s>` ainda seja válida, recomenda-se o uso da tag `<del>` no HTML5 devido ao seu significado semântico. As tags `<del>` e `<ins>` podem ser usadas em conjunto para melhor indicar que, por exemplo, uma palavra foi removida do texto e outra inserida em seu lugar. Veja um exemplo:"
   ]
  },
  {
   "cell_type": "code",
   "execution_count": 25,
   "metadata": {
    "vscode": {
     "languageId": "html"
    }
   },
   "outputs": [
    {
     "data": {
      "text/html": [
       "<p>O evento foi <del>cancelado</del> <ins>adiado</ins>.</p>\n"
      ],
      "text/plain": [
       "<IPython.core.display.HTML object>"
      ]
     },
     "metadata": {},
     "output_type": "display_data"
    }
   ],
   "source": [
    "%%html\n",
    "<p>O evento foi <del>cancelado</del> <ins>adiado</ins>.</p>"
   ]
  },
  {
   "attachments": {},
   "cell_type": "markdown",
   "metadata": {},
   "source": [
    "### Texto Sobrescrito e Subscrito\n",
    "#### A Tag `sup`\n",
    "A tag `<sup>` é usada para indicar texto sobrescrito, que geralmente é menor e elevado acima do texto adjacente. É comumente usada para indicar expoentes, notas de rodapé ou citações. Veja alguns exemplos de uso da tag `<sup>`:"
   ]
  },
  {
   "cell_type": "code",
   "execution_count": 12,
   "metadata": {
    "vscode": {
     "languageId": "html"
    }
   },
   "outputs": [
    {
     "data": {
      "text/html": [
       "2<sup>3</sup> = 8\n"
      ],
      "text/plain": [
       "<IPython.core.display.HTML object>"
      ]
     },
     "metadata": {},
     "output_type": "display_data"
    }
   ],
   "source": [
    "%%html\n",
    "2<sup>3</sup> = 8"
   ]
  },
  {
   "cell_type": "code",
   "execution_count": 2,
   "metadata": {
    "vscode": {
     "languageId": "html"
    }
   },
   "outputs": [
    {
     "data": {
      "text/html": [
       "<p>À noite, vovô Kowalsky vê o ímã cair no pé do pinguim queixoso e vovó põe açúcar no chá de tâmaras do jabuti feliz<sup>1</sup>.</p>\n",
       "<p>Notas de Rodapé:</p>\n",
       "<ol>\n",
       "  <li>Essa frase é um pangrama<sup>2</sup> comumente usado para exibir e demonstrar como ficariam todas as letras em uma impressão com apenas uma frase.</li>\n",
       "  <li>Uma frase em que são usadas todas as letras do alfabeto de determinada língua. Nesse caso, inclui também todas as letras acentuadas.</li>\n",
       "</ol>\n"
      ],
      "text/plain": [
       "<IPython.core.display.HTML object>"
      ]
     },
     "metadata": {},
     "output_type": "display_data"
    }
   ],
   "source": [
    "%%html\n",
    "<p>À noite, vovô Kowalsky vê o ímã cair no pé do pinguim queixoso e vovó põe açúcar no chá de tâmaras do jabuti feliz<sup>1</sup>.</p>\n",
    "<p>Notas de Rodapé:</p>\n",
    "<ol>\n",
    "  <li>Essa frase é um pangrama<sup>2</sup> comumente usado para exibir e demonstrar como ficariam todas as letras em uma impressão com apenas uma frase.</li>\n",
    "  <li>Uma frase em que são usadas todas as letras do alfabeto de determinada língua. Nesse caso, inclui também todas as letras acentuadas.</li>\n",
    "</ol>"
   ]
  },
  {
   "cell_type": "code",
   "execution_count": 15,
   "metadata": {
    "vscode": {
     "languageId": "html"
    }
   },
   "outputs": [
    {
     "data": {
      "text/html": [
       "<p>De acordo com o estudo<sup>[1]</sup>, 80% da população prefere cachorros em relação aos gatos.</p>\n",
       "<p>Referências:</p>\n",
       "<ol>\n",
       "  <li>Silva, J. (2020). Gatos vs. Cachorros: Um Estudo Comparativo, Periódico dos Estudos sobre Animais de Estimação, 10, 1-10.</li>\n",
       "</ol>\n"
      ],
      "text/plain": [
       "<IPython.core.display.HTML object>"
      ]
     },
     "metadata": {},
     "output_type": "display_data"
    }
   ],
   "source": [
    "%%html\n",
    "<p>De acordo com o estudo<sup>[1]</sup>, 80% da população prefere cachorros em relação aos gatos.</p>\n",
    "<p>Referências:</p>\n",
    "<ol>\n",
    "  <li>Silva, J. (2020). Gatos vs. Cachorros: Um Estudo Comparativo, Periódico dos Estudos sobre Animais de Estimação, 10, 1-10.</li>\n",
    "</ol>"
   ]
  },
  {
   "attachments": {},
   "cell_type": "markdown",
   "metadata": {},
   "source": [
    "#### A Tag `sub`\n",
    "A tag `<sub>` é usada para criar texto subscrito, que é posicionado abaixo da linha de texto normal. É frequentemente usada em expressões científicas e matemáticas, como fórmulas químicas ou equações. Veja um exemplo de uso da tag `<sub>`:"
   ]
  },
  {
   "cell_type": "code",
   "execution_count": 16,
   "metadata": {
    "vscode": {
     "languageId": "html"
    }
   },
   "outputs": [
    {
     "data": {
      "text/html": [
       "<p>A fórmula química para água é H<sub>2</sub>O.</p>\n"
      ],
      "text/plain": [
       "<IPython.core.display.HTML object>"
      ]
     },
     "metadata": {},
     "output_type": "display_data"
    }
   ],
   "source": [
    "%%html\n",
    "<p>A fórmula química para água é H<sub>2</sub>O.</p>"
   ]
  },
  {
   "attachments": {},
   "cell_type": "markdown",
   "metadata": {},
   "source": [
    "Nesse exemplo, o \"2\" em \"H2O\" é subscrito usando a tag `<sub>`, o que cria uma representação visual distinta da composição molecular. Outro exemplo de uso da tag `<sub>` é para representar a parte inferior de uma fração matemática:"
   ]
  },
  {
   "cell_type": "code",
   "execution_count": 17,
   "metadata": {
    "vscode": {
     "languageId": "html"
    }
   },
   "outputs": [
    {
     "data": {
      "text/html": [
       "<p>O valor de x nessa equação é: <sup>1</sup>/<sub>2</sub></p>\n"
      ],
      "text/plain": [
       "<IPython.core.display.HTML object>"
      ]
     },
     "metadata": {},
     "output_type": "display_data"
    }
   ],
   "source": [
    "%%html\n",
    "<p>O valor de x nessa equação é: <sup>1</sup>/<sub>2</sub></p>"
   ]
  },
  {
   "attachments": {},
   "cell_type": "markdown",
   "metadata": {},
   "source": [
    "Nesse exemplo, o numerador e o denominador da fração são sobrescrito e subscrito, respectivamente, para criar uma fração que pareça semelhante à representação matemática tradicional.\n",
    "\n",
    "### Texto Pré-formatado\n",
    "#### A Tag `pre`\n",
    "A tag `<pre>` é usada para definir texto pré-formatado em HTML. Isso significa que o texto dentro do elemento `<pre>` é exibido em uma fonte de formato fixo e o texto é renderizado exatamente como foi digitado, incluindo espaços e quebras de linha. Isso é especialmente útil para exibir fragmentos de códigos, poemas ou quaisquer outros textos onde a formatação é importante.\n",
    "\n",
    "Veja um exemplo de como utilizar a tag `<pre>` para exibir um fragmento de código:"
   ]
  },
  {
   "cell_type": "code",
   "execution_count": 18,
   "metadata": {
    "vscode": {
     "languageId": "html"
    }
   },
   "outputs": [
    {
     "data": {
      "text/html": [
       "<pre>\n",
       "function greet(name) {\n",
       "  console.log('Olá, ${name}!');\n",
       "}\n",
       "\n",
       "greet(\"Alice\");\n",
       "greet(\"Bob\");\n",
       "</pre>\n"
      ],
      "text/plain": [
       "<IPython.core.display.HTML object>"
      ]
     },
     "metadata": {},
     "output_type": "display_data"
    }
   ],
   "source": [
    "%%html\n",
    "<pre>\n",
    "function greet(name) {\n",
    "  console.log('Olá, ${name}!');\n",
    "}\n",
    "\n",
    "greet(\"Alice\");\n",
    "greet(\"Bob\");\n",
    "</pre>"
   ]
  },
  {
   "attachments": {},
   "cell_type": "markdown",
   "metadata": {},
   "source": [
    "Isso exibe o fragmento de código com a indentação e espaçamento apropriados. Você também pode usar a tag `<pre>` para exibir arte ASCII ou outros textos que requeiram formatação precisa. Veja um exemplo:"
   ]
  },
  {
   "cell_type": "code",
   "execution_count": 20,
   "metadata": {
    "vscode": {
     "languageId": "html"
    }
   },
   "outputs": [
    {
     "data": {
      "text/html": [
       "<pre>\n",
       " ___________\n",
       "/           \\\n",
       "| ASCII art |\n",
       "\\___________/\n",
       "</pre>\n"
      ],
      "text/plain": [
       "<IPython.core.display.HTML object>"
      ]
     },
     "metadata": {},
     "output_type": "display_data"
    }
   ],
   "source": [
    "%%html\n",
    "<pre>\n",
    " ___________\n",
    "/           \\\n",
    "| ASCII art |\n",
    "\\___________/\n",
    "</pre>"
   ]
  },
  {
   "attachments": {},
   "cell_type": "markdown",
   "metadata": {},
   "source": [
    "### Autoavaliação 2\n",
    "#### Quiz\n",
    "**As perguntas abaixo possuem apenas UMA resposta correta. Para responder, considere as recomendações explicadas na aula sobre semântica e sintaxe do HTML5.**\n",
    "\n",
    "1. Qual tag HTML é usada para enfatizar os principais pontos de um texto, geralmente sendo renderizada em negrito?<br/>\n",
    "    a. `<strong>`<br/>\n",
    "    b. `<em>`<br/>\n",
    "    c. `<b>`<br/>\n",
    "    d. `<i>`<br/>\n",
    "\n",
    "2. Qual tag HTML é usada para enfatizar o texto, por exemplo para indicar estresse, geralmente sendo renderizada em itálico?<br/>\n",
    "    a. `<strong>`<br/>\n",
    "    b. `<em>`<br/>\n",
    "    c. `<b>`<br/>\n",
    "    d. `<i>`<br/>\n",
    "\n",
    "3. Qual tag HTML é usada para indicar a inclusão de um elemento textual no documento, geralmente sendo renderizada com sublinhado?<br/>\n",
    "    a. `<u>`<br/>\n",
    "    b. `<s>`<br/>\n",
    "    c. `<del>`<br/>\n",
    "    d. `<ins>`<br/>\n",
    "\n",
    "4. Qual tag HTML é usada para indicar a exclusão de um elemento textual no documento, geralmente sendo renderizada com um risco?<br/>\n",
    "    a. `<u>`<br/>\n",
    "    b. `<s>`<br/>\n",
    "    c. `<del>`<br/>\n",
    "    d. `<ins>`<br/>\n",
    "\n",
    "5. Qual tag HTML é usada para criar texto sobrescrito?<br/>\n",
    "    a. `<sub>`<br/>\n",
    "    b. `<sup>`<br/>\n",
    "    c. `<em>`<br/>\n",
    "    d. `<strong>`<br/>   \n",
    "\n",
    "6. Qual tag HTML é usada para criar texto subscrito?<br/>\n",
    "    a. `<sub>`<br/>\n",
    "    b. `<sup>`<br/>\n",
    "    c. `<em>`<br/>\n",
    "    d. `<strong>`<br/>    \n",
    "\n",
    "7. Qual tag HTML é usada para exibir texto pré-formatado?<br/>\n",
    "    a. `<pre>`<br/>\n",
    "    b. `<code>`<br/>\n",
    "    c. `<kdb>`<br/>\n",
    "    d. `<samp>`<br/>   \n",
    "\n",
    "8. Qual das tags abaixo foi descontinuada para formatação de texto?<br/>\n",
    "    a. `<u>`<br/>\n",
    "    b. `<b>`<br/>\n",
    "    c. `<s>`<br/>\n",
    "    d. `<i>`<br/>\n",
    "\n",
    "9. Qual dos seguintes não é um uso válido da tag `<pre>`?<br/>\n",
    "    a. Exibir exemplos de código<br/>\n",
    "    b. Formatar poesia ou letras musicais<br/>\n",
    "    c. Criar uma lista numerada<br/>\n",
    "    d. Exibir arte ASCII<br/>"
   ]
  },
  {
   "attachments": {},
   "cell_type": "markdown",
   "metadata": {},
   "source": [
    "#### Criando Páginas\n",
    "1. Crie uma página web simples que introduza você. Utilize a tag `<h1>` para exibir o seu nome e a tag `<p>` para exibir um curto parágrafo introduzindo você. Utilize a tag `<strong>` para enfatizar detalhes importantes em sua introdução.\n",
    "2. Crie uma webpage de uma receita. Utilize a tag `<h1>` para o nome da receita e a tag `<h2>` para a descrição da receita. Utilize a tag `<p>` (ou uma lista ordenada, se souber como) para descrever os passos da receita. Utilize a tag `<strong>` para enfatizar ingredientes ou etapas importantes e a tag `<em>` para enfatizar o tempo de cozimento.\n",
    "3. Crie uma webpage que liste seus livros favoritos. Utilize a tag `<h1>` para o título da página, `<h2>` para o nome de cada livro. Utilize a tag `<p>` para descrever cada livro e `<em>` para enfatizar o nome do autor.\n",
    "4. Crie uma página web que liste seus filmes favoritos. Utilize a tag `<h1>` para o título da página, `<h2>` para o nome de cada filme. Utilize a tag `<p>` para descrever cada filme e `<strong>` para enfatizar detalhes importantes, como o diretor ou o ator principal.\n",
    "5. Crie uma página web que descreva um evento histórico. Utilize a tag `<h1>` para o título da página, `<h2>` para a data e o local do evento. Utilize a tag `<p>` para descrever o evento e `<u>` para sublinhar termos ou nomes importantes. Utilize a tag `<sup>` para indicar referências no rodapé."
   ]
  },
  {
   "attachments": {},
   "cell_type": "markdown",
   "metadata": {},
   "source": [
    "## Aula 3 – Listas no HTML\n",
    "### Visão Geral da Aula\n",
    "Esta aula abrangerá os diferentes tipos de listas que podem ser criadas no HTML, incluindo listas não-ordenadas, listas ordenadas e listas de definição. A aula abrangerá a sintaxe própria de cada tag e demonstrará como criar listas com estilos e formatos diferentes.\n",
    "\n",
    "1. [Introdução à Listas no HTML](#Introdução-à-Listas-no-HTML)\n",
    "2. [Listas Não-Ordenadas](#Listas-Não-Ordenadas)\n",
    "3. [Listas Ordenadas](#Listas-Ordenadas)\n",
    "4. [Listas de Definição](#Listas-de-Definição)\n",
    "5. [Melhores Práticas para Usar Listas no Desenvolvimento Web](#Melhores-Práticas-para-Usar-Listas-no-Desenvolvimento-Web)\n",
    "6. [Autoavaliação 3](#Autoavaliação-3)\n",
    "\n",
    "### Objetivos de Aprendizagem\n",
    "Ao final dessa aula, você será capaz de:\n",
    "\n",
    "- Entender o propósito das listas no HTML\n",
    "- Identificar a sintaxe para criação de listas não-ordenadas, ordenadas e de definição no HTML\n",
    "- Criar listas com diferentes estilos e formatos\n",
    "- Entender o uso apropriado de cada tipo de lista no desenvolvimento web\n",
    "\n",
    "### Materiais Necessários\n",
    "- Computador com acesso a Internet\n",
    "- Editor de Texto (e.g. Bloco de Notas, Visual Code Studio)\n",
    "- Web browser  (e.g. Chrome, Edge)"
   ]
  },
  {
   "attachments": {},
   "cell_type": "markdown",
   "metadata": {},
   "source": [
    "### Introdução à Listas no HTML\n",
    "Listas no HTML são usadas para organizar conteúdos de uma maneira estruturada e hierárquica. Listas podem ser usadas para agrupar itens relacionados, criar esboços e fornecer uma representação visual da informação. Elas também são úteis para criar menus, diretórios e barras de navegação.\n",
    "\n",
    "Existem três tipos de listas no HTML: listas não-ordenadas, listas ordenadas e listas de definição. Nós veremos cada em detalhes.\n",
    "\n",
    "Todos os elementos apresentados nessa aula são elementos block-level.\n",
    "\n",
    "### Listas Não-Ordenadas\n",
    "Listas não-ordenadas são listas que apresentam uma coleção de itens relacionados em um formato com ou sem marcação. Os itens na lista são exibidos com um marcador precedendo cada item e a ordem dos itens não é significativa.\n",
    "\n",
    "As tags `<ul>` e `<li>` são usadas para criar listas não-ordenadas no HTML. A tag `<ul>` representa a lista não-ordenada como um todo, enquanto a tag `<li>` representa cada item individual na lista.\n",
    "\n",
    "Veja a sintaxe de uma lista não-ordenada:"
   ]
  },
  {
   "cell_type": "code",
   "execution_count": 26,
   "metadata": {
    "vscode": {
     "languageId": "html"
    }
   },
   "outputs": [
    {
     "data": {
      "text/html": [
       "<ul>\n",
       "  <li>Item 1</li>\n",
       "  <li>Item 2</li>\n",
       "  <li>Item 3</li>\n",
       "</ul>\n"
      ],
      "text/plain": [
       "<IPython.core.display.HTML object>"
      ]
     },
     "metadata": {},
     "output_type": "display_data"
    }
   ],
   "source": [
    "%%html\n",
    "<ul>\n",
    "  <li>Item 1</li>\n",
    "  <li>Item 2</li>\n",
    "  <li>Item 3</li>\n",
    "</ul>"
   ]
  },
  {
   "attachments": {},
   "cell_type": "markdown",
   "metadata": {},
   "source": [
    "O código acima cria uma lista não-ordenada com três itens. Cada item é representado por uma tag `<li>` e todos os itens são envoltos por uma única tag `<ul>`. Veja outro exemplo que utiliza as tags `<ul>` e `<li>` para criar uma lista aninhada:"
   ]
  },
  {
   "cell_type": "code",
   "execution_count": 27,
   "metadata": {
    "vscode": {
     "languageId": "html"
    }
   },
   "outputs": [
    {
     "data": {
      "text/html": [
       "<ul>\n",
       "  <li>Item 1</li>\n",
       "  <li>Item 2\n",
       "    <ul>\n",
       "      <li>Subitem 1</li>\n",
       "      <li>Subitem 2</li>\n",
       "      <li>Subitem 3</li>\n",
       "    </ul>\n",
       "  </li>\n",
       "  <li>Item 3</li>\n",
       "</ul>\n"
      ],
      "text/plain": [
       "<IPython.core.display.HTML object>"
      ]
     },
     "metadata": {},
     "output_type": "display_data"
    }
   ],
   "source": [
    "%%html\n",
    "<ul>\n",
    "  <li>Item 1</li>\n",
    "  <li>Item 2\n",
    "    <ul>\n",
    "      <li>Subitem 1</li>\n",
    "      <li>Subitem 2</li>\n",
    "      <li>Subitem 3</li>\n",
    "    </ul>\n",
    "  </li>\n",
    "  <li>Item 3</li>\n",
    "</ul>"
   ]
  },
  {
   "attachments": {},
   "cell_type": "markdown",
   "metadata": {},
   "source": [
    "Nesse exemplo, nós temos uma lista com três itens. O segundo item possui uma lista aninhada com três subitens. Cada subitem também é representado por uma tag `<li>` e eles são envoltos em uma tag `<ul>` aninhada.\n",
    "\n",
    "O marcador de uma lista não-ordenada pode ser personalizado através do atributo `type` na tag `<ul>`. Esse atributo pode receber três valores: `disc`, `circle` e `square`. O estilo padrão é `disc`."
   ]
  },
  {
   "cell_type": "code",
   "execution_count": 28,
   "metadata": {
    "vscode": {
     "languageId": "html"
    }
   },
   "outputs": [
    {
     "data": {
      "text/html": [
       "<ul type=\"disc\">\n",
       "  <li>Item 1</li>\n",
       "  <li>Item 2</li>\n",
       "  <li>Item 3</li>\n",
       "</ul>\n",
       "\n",
       "<ul type=\"circle\">\n",
       "  <li>Item 1</li>\n",
       "  <li>Item 2</li>\n",
       "  <li>Item 3</li>\n",
       "</ul>\n",
       "\n",
       "<ul type=\"square\">\n",
       "  <li>Item 1</li>\n",
       "  <li>Item 2</li>\n",
       "  <li>Item 3</li>\n",
       "</ul>\n"
      ],
      "text/plain": [
       "<IPython.core.display.HTML object>"
      ]
     },
     "metadata": {},
     "output_type": "display_data"
    }
   ],
   "source": [
    "%%html\n",
    "<ul type=\"disc\">\n",
    "  <li>Item 1</li>\n",
    "  <li>Item 2</li>\n",
    "  <li>Item 3</li>\n",
    "</ul>\n",
    "\n",
    "<ul type=\"circle\">\n",
    "  <li>Item 1</li>\n",
    "  <li>Item 2</li>\n",
    "  <li>Item 3</li>\n",
    "</ul>\n",
    "\n",
    "<ul type=\"square\">\n",
    "  <li>Item 1</li>\n",
    "  <li>Item 2</li>\n",
    "  <li>Item 3</li>\n",
    "</ul>"
   ]
  },
  {
   "attachments": {},
   "cell_type": "markdown",
   "metadata": {},
   "source": [
    "### Listas Ordenadas\n",
    "Listas ordenadas são listas usadas para apresentar itens em uma ordem sequencial. São frequentemente usadas para representar uma lista de etapas ou instruções que devem ser seguidas em uma determinada ordem. Por padrão, os itens em uma lista ordenada são numerados, começando de 1.\n",
    "\n",
    "As tags `<ol>` e `<li>` são usadas para criar listas ordenadas no HTML. A tag `<ol>` representa a lista ordenada como um todo, enquanto a tag `<li>` representa cada item individual na lista.\n",
    "\n",
    "Veja a sintaxe de uma lista ordenada:"
   ]
  },
  {
   "cell_type": "code",
   "execution_count": 29,
   "metadata": {
    "vscode": {
     "languageId": "html"
    }
   },
   "outputs": [
    {
     "data": {
      "text/html": [
       "<ol>\n",
       "  <li>Item 1</li>\n",
       "  <li>Item 2</li>\n",
       "  <li>Item 3</li>\n",
       "</ol>\n"
      ],
      "text/plain": [
       "<IPython.core.display.HTML object>"
      ]
     },
     "metadata": {},
     "output_type": "display_data"
    }
   ],
   "source": [
    "%%html\n",
    "<ol>\n",
    "  <li>Item 1</li>\n",
    "  <li>Item 2</li>\n",
    "  <li>Item 3</li>\n",
    "</ol>"
   ]
  },
  {
   "attachments": {},
   "cell_type": "markdown",
   "metadata": {},
   "source": [
    "Nesse exemplo, nós temos uma lista ordenada que contém três itens. A tag `<ol>` é usada para criar a lista ordenada e a tag `<li>` para criar cada item na lista. Listas ordenadas também podem ser aninhadas, da mesma maneira que lista não-ordenadas. Você pode, inclusive, aninhar uma lista não-ordenada em uma lista ordenada e vice-versa. Veja um exemplo:"
   ]
  },
  {
   "cell_type": "code",
   "execution_count": 31,
   "metadata": {
    "vscode": {
     "languageId": "html"
    }
   },
   "outputs": [
    {
     "data": {
      "text/html": [
       "<ul>\n",
       "  <li>Item 1</li>\n",
       "  <li>Item 2</li>\n",
       "  <li>Item 3 com uma lista ordenada:\n",
       "    <ol>\n",
       "      <li>Subitem 1</li>\n",
       "      <li>Subitem 2</li>\n",
       "      <li>Subitem 3</li>\n",
       "    </ol>\n",
       "  </li>\n",
       "  <li>Item 4</li>\n",
       "</ul>\n"
      ],
      "text/plain": [
       "<IPython.core.display.HTML object>"
      ]
     },
     "metadata": {},
     "output_type": "display_data"
    }
   ],
   "source": [
    "%%html\n",
    "<ul>\n",
    "  <li>Item 1</li>\n",
    "  <li>Item 2</li>\n",
    "  <li>Item 3 com uma lista ordenada:\n",
    "    <ol>\n",
    "      <li>Subitem 1</li>\n",
    "      <li>Subitem 2</li>\n",
    "      <li>Subitem 3</li>\n",
    "    </ol>\n",
    "  </li>\n",
    "  <li>Item 4</li>\n",
    "</ul>"
   ]
  },
  {
   "attachments": {},
   "cell_type": "markdown",
   "metadata": {},
   "source": [
    "É possível personalizar o estilo de uma lista ordenada usando o atributo `type` na tag `<ol>`. Ele pode receber os seguintes valores:\n",
    "\n",
    "- \"1\": Valor padrão. Cria uma lista com algarismos arábicos (1, 2, 3, ...)\n",
    "- \"A\": Cria uma lista com letras maiúsculas (A, B, C, ...)\n",
    "- \"a\": Cria uma lista com letras minúsculas (a, b, c, ...)\n",
    "- \"I\": Cria uma lista com algarismos romanos maiúsculos (I, II, III, ...)\n",
    "- \"i\": Cria uma lista com algarismos romanos minúsculos (i, ii, iii, ...)\n",
    "\n",
    "Veja exemplos:"
   ]
  },
  {
   "cell_type": "code",
   "execution_count": 32,
   "metadata": {
    "vscode": {
     "languageId": "html"
    }
   },
   "outputs": [
    {
     "data": {
      "text/html": [
       "<ol type=\"1\">\n",
       "  <li>Item 1</li>\n",
       "  <li>Item 2</li>\n",
       "  <li>Item 3</li>\n",
       "</ol>\n",
       "\n",
       "<ol type=\"A\">\n",
       "  <li>Item 1</li>\n",
       "  <li>Item 2</li>\n",
       "  <li>Item 3</li>\n",
       "</ol>\n",
       "\n",
       "<ol type=\"a\">\n",
       "  <li>Item 1</li>\n",
       "  <li>Item 2</li>\n",
       "  <li>Item 3</li>\n",
       "</ol>\n",
       "\n",
       "<ol type=\"I\">\n",
       "  <li>Item 1</li>\n",
       "  <li>Item 2</li>\n",
       "  <li>Item 3</li>\n",
       "</ol>\n",
       "\n",
       "<ol type=\"i\">\n",
       "  <li>Item 1</li>\n",
       "  <li>Item 2</li>\n",
       "  <li>Item 3</li>\n",
       "</ol>\n"
      ],
      "text/plain": [
       "<IPython.core.display.HTML object>"
      ]
     },
     "metadata": {},
     "output_type": "display_data"
    }
   ],
   "source": [
    "%%html\n",
    "<ol type=\"1\">\n",
    "  <li>Item 1</li>\n",
    "  <li>Item 2</li>\n",
    "  <li>Item 3</li>\n",
    "</ol>\n",
    "\n",
    "<ol type=\"A\">\n",
    "  <li>Item 1</li>\n",
    "  <li>Item 2</li>\n",
    "  <li>Item 3</li>\n",
    "</ol>\n",
    "\n",
    "<ol type=\"a\">\n",
    "  <li>Item 1</li>\n",
    "  <li>Item 2</li>\n",
    "  <li>Item 3</li>\n",
    "</ol>\n",
    "\n",
    "<ol type=\"I\">\n",
    "  <li>Item 1</li>\n",
    "  <li>Item 2</li>\n",
    "  <li>Item 3</li>\n",
    "</ol>\n",
    "\n",
    "<ol type=\"i\">\n",
    "  <li>Item 1</li>\n",
    "  <li>Item 2</li>\n",
    "  <li>Item 3</li>\n",
    "</ol>"
   ]
  },
  {
   "cell_type": "code",
   "execution_count": 33,
   "metadata": {
    "vscode": {
     "languageId": "html"
    }
   },
   "outputs": [
    {
     "data": {
      "text/html": [
       "<ol start=\"5\">\n",
       "  <li>Item 5</li>\n",
       "  <li>Item 6</li>\n",
       "  <li>Item 7</li>\n",
       "</ol>\n"
      ],
      "text/plain": [
       "<IPython.core.display.HTML object>"
      ]
     },
     "metadata": {},
     "output_type": "display_data"
    }
   ],
   "source": [
    "%%html\n",
    "<ol start=\"5\">\n",
    "  <li>Item 5</li>\n",
    "  <li>Item 6</li>\n",
    "  <li>Item 7</li>\n",
    "</ol>"
   ]
  },
  {
   "attachments": {},
   "cell_type": "markdown",
   "metadata": {},
   "source": [
    "Também é possível alterar o valor inicial de uma lista ordenada usando o atributo `start`, assim:\n",
    "\n",
    "### Listas de Definição\n",
    "Listas de definição são usadas para criar uma lista de termos e suas definições correspondentes. Elas consistem de três tags principais: `<dl>` (*definition list* ou lista de definição), `<dt>` (*definition term* ou termo de definição) e `<dd>` (*definition description* ou descrição da definição). Vejamos um exemplo:"
   ]
  },
  {
   "cell_type": "code",
   "execution_count": 34,
   "metadata": {
    "vscode": {
     "languageId": "html"
    }
   },
   "outputs": [
    {
     "data": {
      "text/html": [
       "<dl>\n",
       "  <dt>Termo 1</dt>\n",
       "  <dd>Definição 1</dd>\n",
       "  <dt>Termo 2</dt>\n",
       "  <dd>Definição 2</dd>\n",
       "  <dt>Termo 3</dt>\n",
       "  <dd>Definição 3</dd>\n",
       "</dl>\n"
      ],
      "text/plain": [
       "<IPython.core.display.HTML object>"
      ]
     },
     "metadata": {},
     "output_type": "display_data"
    }
   ],
   "source": [
    "%%html\n",
    "<dl>\n",
    "  <dt>Termo 1</dt>\n",
    "  <dd>Definição 1</dd>\n",
    "  <dt>Termo 2</dt>\n",
    "  <dd>Definição 2</dd>\n",
    "  <dt>Termo 3</dt>\n",
    "  <dd>Definição 3</dd>\n",
    "</dl>"
   ]
  },
  {
   "attachments": {},
   "cell_type": "markdown",
   "metadata": {},
   "source": [
    "No código acima, a tag `<dl>` é usada para definir o início e o fim da lista de definição. A tag `<dt>` é usada para estabelecer o termo que será definido e a tag `<dd>` é usada para estabelecer a definição do termo.\n",
    "\n",
    "Veja um exemplo de uma lista de definição para termos de programação:"
   ]
  },
  {
   "cell_type": "code",
   "execution_count": 35,
   "metadata": {
    "vscode": {
     "languageId": "html"
    }
   },
   "outputs": [
    {
     "data": {
      "text/html": [
       "<dl>\n",
       "  <dt>HTML</dt>\n",
       "  <dd>HyperText Markup Language, usada para criar webpages.</dd>\n",
       "  <dt>CSS</dt>\n",
       "  <dd>Cascading Style Sheets, usada para estilizar webpages.</dd>\n",
       "  <dt>JavaScript</dt>\n",
       "  <dd>Uma linguagem de programação usada para criar webpages interativas.</dd>\n",
       "</dl>\n"
      ],
      "text/plain": [
       "<IPython.core.display.HTML object>"
      ]
     },
     "metadata": {},
     "output_type": "display_data"
    }
   ],
   "source": [
    "%%html\n",
    "<dl>\n",
    "  <dt>HTML</dt>\n",
    "  <dd>HyperText Markup Language, usada para criar webpages.</dd>\n",
    "  <dt>CSS</dt>\n",
    "  <dd>Cascading Style Sheets, usada para estilizar webpages.</dd>\n",
    "  <dt>JavaScript</dt>\n",
    "  <dd>Uma linguagem de programação usada para criar webpages interativas.</dd>\n",
    "</dl>"
   ]
  },
  {
   "attachments": {},
   "cell_type": "markdown",
   "metadata": {},
   "source": [
    "É possível possuir uma descrição (`<dd>`) para vários termos (`<dt>`); também é possível possuir várias descrições para um único termo.\n",
    "\n",
    "Vejamos primeiro: Um `<dd>` para vários elementos `<dt>`:"
   ]
  },
  {
   "cell_type": "code",
   "execution_count": 36,
   "metadata": {
    "vscode": {
     "languageId": "html"
    }
   },
   "outputs": [
    {
     "data": {
      "text/html": [
       "<dl>\n",
       "  <dt>Maçã</dt>\n",
       "  <dt>Laranja</dt>\n",
       "  <dd>Uma fruta redonda com casca vermelha, verde ou amarela e um centro com sementes.</dd>\n",
       "</dl>\n"
      ],
      "text/plain": [
       "<IPython.core.display.HTML object>"
      ]
     },
     "metadata": {},
     "output_type": "display_data"
    }
   ],
   "source": [
    "%%html\n",
    "<dl>\n",
    "  <dt>Maçã</dt>\n",
    "  <dt>Laranja</dt>\n",
    "  <dd>Uma fruta redonda com casca vermelha, verde ou amarela e um centro com sementes.</dd>\n",
    "</dl>"
   ]
  },
  {
   "attachments": {},
   "cell_type": "markdown",
   "metadata": {},
   "source": [
    "Agora vejamos: Vários `<dd>` para um `<dt>`:"
   ]
  },
  {
   "cell_type": "code",
   "execution_count": 38,
   "metadata": {
    "vscode": {
     "languageId": "html"
    }
   },
   "outputs": [
    {
     "data": {
      "text/html": [
       "<dl>\n",
       "  <dt>HTML</dt>\n",
       "  <dd>Uma linguagem de marcação usada para criar webpages.</dd>\n",
       "  <dd>Significa HyperText Markup Language ou Linguagem de Marcação de Hipertexto.</dd>\n",
       "</dl>\n"
      ],
      "text/plain": [
       "<IPython.core.display.HTML object>"
      ]
     },
     "metadata": {},
     "output_type": "display_data"
    }
   ],
   "source": [
    "%%html\n",
    "<dl>\n",
    "  <dt>HTML</dt>\n",
    "  <dd>Uma linguagem de marcação usada para criar webpages.</dd>\n",
    "  <dd>Significa HyperText Markup Language ou Linguagem de Marcação de Hipertexto.</dd>\n",
    "</dl>"
   ]
  },
  {
   "attachments": {},
   "cell_type": "markdown",
   "metadata": {},
   "source": [
    "### Melhores Práticas para Usar Listas no Desenvolvimento Web\n",
    "1. **Utilize listas para organizar o conteúdo:** Utilize listas para organizar o conteúdo em grupos lógicos, ao invés de depender de parágrafos simples.\n",
    "2. **Utilize o tipo de lista apropriado:** Escolha entre listas não-ordenadas, ordenadas ou de definição conforme o tipo de informação que você está apresentando.\n",
    "    1. *Listas Não Ordenadas:*\n",
    "        - Para apresentar uma lista de itens que não possuem uma ordem ou hierarquia específica\n",
    "        - Para apresentar uma lista de pontos, como funcionalidades ou benefícios de um produto\n",
    "        - Para apresentar uma lista de opções ou escolhas que o usuário precisa selecionar\n",
    "    2. *Listas Ordenadas:*\n",
    "        - Para apresentar uma lista de itens que possuem uma ordem ou hierarquia específica\n",
    "        - Para apresentar instruções ou um processo passo-a-passo\n",
    "        - Para apresentar uma contagem regressiva ou uma linha do tempo\n",
    "    3. *Listas de Definição:*\n",
    "        - Para apresentar uma lista de termos e suas definições\n",
    "        - Para apresentar uma lista de nomes e seus detalhes correspondentes, como números de telefone ou endereços de e-mail\n",
    "        - Para apresentar uma lista de atributos ou características de um produto ou serviço\n",
    "3. **Mantenha a formatação consistente:** Garanta que a formatação das listas seja consistente em todo o website. Utilize o mesmo estilo de marcadores ou numeração para cada lista.\n",
    "4. **Utilize indentação apropriada:** indente listas aninhadas apropriadamente para torná-las mais fáceis de ler e compreender.\n",
    "5. **Não utilize listas para estilização:** Evite usar listas puramente para propósitos estéticos. Listas devem ser usadas para organizar conteúdos, não como um elemento de design.\n",
    "6. **Utilize conteúdos descritivos para os itens da lista:** Forneça conteúdos descritivos para cada item na lista, especialmente em listas de definição onde o termo e a definição são usados.\n",
    "7. **Utilize os itens de lista com moderação:** Não utilize muitos itens de lista consecutivamente, pois pode fazer o conteúdo parecer instável e difícil de ler.\n",
    "8. **Utilize CSS para personalizar os estilos das listas:** Utilize CSS para customizar o estilo de suas listas, ao invés de depender dos estilos padrões do navegador.\n",
    "\n",
    "### Autoavaliação 3\n",
    "#### Quiz\n",
    "**Cada pergunta possui apenas UMA resposta correta.**\n",
    "\n",
    "1. Qual tag é usada para criar uma lista não-ordenada?<br/>\n",
    "    a. `<ol>`<br/>\n",
    "    b. `<ul>`<br/>\n",
    "    c. `<dl>`<br/>\n",
    "    d. `<li>`<br/>\n",
    "\n",
    "1. Qual tag é usada para criar uma lista ordenada?<br/>\n",
    "    a. `<ul>`<br/>\n",
    "    b. `<ol>`<br/>\n",
    "    c. `<dl>`<br/>\n",
    "    d. `<li>`<br/>\n",
    "\n",
    "1. Qual tag é usada para criar uma lista de definição?<br/>\n",
    "    a. `<ul>`<br/>\n",
    "    b. `<ol>`<br/>\n",
    "    c. `<dl>`<br/>\n",
    "    d. `<li>`<br/>\n",
    "\n",
    "1. Qual tag é usada para estabelecer o termo a ser definido em uma lista de definição?<br/>\n",
    "    a. `<dd>`<br/>\n",
    "    b. `<dt>`<br/>\n",
    "    c. `<dl>`<br/>\n",
    "    d. `<ol>`<br/>\n",
    "\n",
    "1. Qual tag é usada para definir a descrição de um termo em uma lista de definição?<br/>\n",
    "    a. `<dd>`<br/>\n",
    "    b. `<dt>`<br/>\n",
    "    c. `<dl>`<br/>\n",
    "    d. `<ul>`<br/>\n",
    "\n",
    "1. Qual tag é usada para representar os itens em uma lista?<br/>\n",
    "    a. `<li>`<br/>\n",
    "    b. `<ul>`<br/>\n",
    "    c. `<ol>`<br/>\n",
    "    d. `<dl>`<br/>\n",
    "\n",
    "1. Qual atributo é usado para iniciar a contagem de uma lista ordenada a partir de um número específico?<br/>\n",
    "    a. start<br/>\n",
    "    b. value<br/>\n",
    "    c. counter<br/>\n",
    "    d. type<br/>\n",
    "\n",
    "1. Qual atributo é usado para alterar o estilo de marcação ou numeração em uma lista não-ordenada ou ordenada?<br/>\n",
    "    a. start<br/>\n",
    "    b. type<br/>\n",
    "    c. value<br/>\n",
    "    d. style<br/>\n",
    "\n",
    "1. Que tipo de lista é apropriado para um glossário de termos??<br/>\n",
    "    a. lista não-ordenada<br/>\n",
    "    b. lista de definição<br/>\n",
    "    c. lista ordenada<br/>\n",
    "    d. lista de termos<br/>"
   ]
  },
  {
   "attachments": {},
   "cell_type": "markdown",
   "metadata": {},
   "source": [
    "#### Criação de Listas\n",
    "1. Crie uma lista não-ordenada com cinco itens e aplique as seguintes formatações para cada item:\n",
    "    - *Primeiro item:* texto em negrito e itálico\n",
    "    - *Segundo item:* texto sublinhado\n",
    "    - *Terceiro item:* texto normal\n",
    "    - *Quarto item:* o item é uma imagem com 50 *pixels* de largura e altura\n",
    "    - *Quinto item:* texto em caixa alta\n",
    "    <br/><br/>\n",
    "2. Crie uma lista ordenada com dez itens e aplique as seguinte formatação para cada item:\n",
    "    - Os itens devem ser numerados com algarismos romanos minúsculos\n",
    "    <br/><br/>\n",
    "3. Crie uma lista de definição com três itens e aplique as seguintes formatações para cada item:\n",
    "    - *Primeiro item:* texto em negrito e sublinhado\n",
    "    - *Segundo item:* texto itálico\n",
    "    - *Terceiro item:* texto em negrito e itálico<\n",
    "    <br/><br/>\n",
    "4. Crie uma lista ordenada com cinco itens e aplique as seguinte formatação para cada item:\n",
    "    - Os itens devem ser numerados com letras maiúsculas\n",
    "    - A lista deve começar no número 30"
   ]
  },
  {
   "attachments": {},
   "cell_type": "markdown",
   "metadata": {},
   "source": [
    "## Aula 4 – Tabelas no HTML\n",
    "### Visão Geral da Aula\n",
    "Esta aula lhe ensinará como criar tabelas no HTML. Ela também ensinará como adicionar cabeçalhos e legendas da tabela e estender as células da tabela para ocupar mais de uma linha e/ou coluna.\n",
    "\n",
    "1. [Introdução à Tabelas no HTML](#Introdução-à-Tabelas-no-HTML)\n",
    "2. [Criando Tabelas com HTML](#Criando-Tabelas-no-HTML)\n",
    "3. [Adicionando Cabeçalhos e Legendas](#Adicionando-Cabeçalhos-e-Legendas)\n",
    "4. [Estendendo as Células da Tabela](#Estendendo-as-Células-da-Tabela)\n",
    "5. [Melhores Práticas no Uso de Tabelas](#Melhores-Práticas-no-Uso-de-Tabelas)\n",
    "6. [Autoavaliação 4](#Autoavaliação-4)\n",
    "\n",
    "### Objetivos de Aprendizagem\n",
    "Ao final dessa aula, você será capaz de:\n",
    "\n",
    "- Entender o propósito e a importância das tabelas no desenvolvimento web\n",
    "- Ser capaz de criar tabelas em HTML usando as tags apropriadas\n",
    "- Entender como adicionar cabeçalhos e legendas em tabelas\n",
    "- Saber como estender as células da tabela para ocupar mais de uma linha e/ou coluna\n",
    "\n",
    "### Materiais Necessários\n",
    "- Computador com acesso a Internet\n",
    "- Editor de Texto (e.g. Bloco de Notas, Visual Code Studio)\n",
    "- Web browser  (e.g. Chrome, Edge)"
   ]
  },
  {
   "attachments": {},
   "cell_type": "markdown",
   "metadata": {},
   "source": [
    "### Introdução à Tabelas no HTML\n",
    "No desenvolvimento web, tabelas são usadas para representar dados de maneira estruturada e organizada. Uma tabela é composta de linhas e colunas com cada interseção de uma linha e uma coluna formando uma célula. As tabelas são comumente usadas para exibir dados no formato tabular, como relatórios financeiros, catálogos de produtos, cronogramas e itinerários. Tabelas também podem ser usadas para criar grades ou layouts para o design do website.\n",
    "\n",
    "Todos os elementos apresentados nessa aula são elementos block-level.\n",
    "\n",
    "### Criando Tabelas no HTML\n",
    "O HTML fornece um conjunto de tags para a criação de tabelas, incluindo as tags `<table>`, `<tr>`, `<td>` e `<th>`.\n",
    "\n",
    "A tag `<table>` é usada para criar a tabela no HTML. Veja a sintaxe básica:"
   ]
  },
  {
   "cell_type": "code",
   "execution_count": 3,
   "metadata": {
    "vscode": {
     "languageId": "html"
    }
   },
   "outputs": [
    {
     "data": {
      "text/html": [
       "<table>\n",
       "  <tr>\n",
       "    <th>Coluna 1</th>\n",
       "    <th>Coluna 2</th>\n",
       "  </tr>\n",
       "  <tr>\n",
       "    <td>Dado da tabela</td>\n",
       "    <td>Dado da tabela</td>\n",
       "  </tr>\n",
       "</table>\n"
      ],
      "text/plain": [
       "<IPython.core.display.HTML object>"
      ]
     },
     "metadata": {},
     "output_type": "display_data"
    }
   ],
   "source": [
    "%%html\n",
    "<table>\n",
    "  <tr>\n",
    "    <th>Coluna 1</th>\n",
    "    <th>Coluna 2</th>\n",
    "  </tr>\n",
    "  <tr>\n",
    "    <td>Dado da tabela</td>\n",
    "    <td>Dado da tabela</td>\n",
    "  </tr>\n",
    "</table>"
   ]
  },
  {
   "attachments": {},
   "cell_type": "markdown",
   "metadata": {},
   "source": [
    "Esse código cria uma tabela com duas linhas e duas colunas, cada célula da linha contendo o texto \"Dado da tabela\" e \"Coluna 1\" e \"Coluna 2\" como os cabeçalhos de cada coluna.\n",
    "\n",
    "Vamos dar uma olhada mais de perto nas tags usadas:\n",
    "\n",
    "#### A Tag `table`\n",
    "A tag `<table>` é um elemento HTML fundamental que é usado para criar tabelas em uma página web. Ela é um elemento contêiner que mantém os outros elementos relacionados da tabela, como `<tr>` (*table row* ou linha da tabela), `<th>` (*table header cell* ou célula cabeçalho da tabela) e `<td>` (*table data cell* ou célula de dados da tabela).\n",
    "\n",
    "Por padrão, as tabelas possuem uma borda e cada célula um preenchimento e espaçamento entre si. Contudo, essas propriedades podem ser personalizadas usando CSS para alcançar estilos e designs de tabela diferentes.\n",
    "\n",
    "#### A Tag `tr`\n",
    "A tag `<tr>` é usada para definir uma linha de células em uma tabela HTML. A tag deve estar dentro de um elemento `<table>`. Cada linha pode conter uma ou mais células que são definidas usando as tags `<td>` ou `<th>`.\n",
    "\n",
    "#### A Tag `th`\n",
    "A tag `<th>` é usada para definir uma célula de cabeçalho em uma tabela HTML. Uma célula de cabeçalho é usada para descrever o conteúdo que está sendo apresentado em uma determinada coluna ou linha na tabela. Geralmente, as células de cabeçalho são exibidas em negrito e centralizadas horizontalmente.\n",
    "\n",
    "#### A Tag `td`\n",
    "A tag `<td>` representa uma célula da tabela. Ela é usada para definir o conteúdo de uma célula específica ena linha de uma tabela. Cada célula em uma linha deve possui uma célula correspondente em todas as outras linhas. O elemento `<td>` deve ser um filho de um elemento `<tr>` que por sua vez deve ser um filho de um elemento `<table>`.\n",
    "\n",
    "A tag `<td>` pode conter vários tipos de conteúdo, como texto, imagens, links, formulários e outros elementos HTML. Ela possui vários atributos para definir suas características, como `colspan` e `rowspan` que são usados para estender uma célula sobre várias colunas ou linhas, respectivamente.\n",
    "\n",
    "Veja um exemplo de uma tabela um pouco mais complexa com três linhas e três colunas:"
   ]
  },
  {
   "cell_type": "code",
   "execution_count": 4,
   "metadata": {
    "vscode": {
     "languageId": "html"
    }
   },
   "outputs": [
    {
     "data": {
      "text/html": [
       "<table>\n",
       "  <tr>\n",
       "    <th>Produto</th>\n",
       "    <th>Preço</th>\n",
       "    <th>Quantidade</th>\n",
       "  </tr>\n",
       "  <tr>\n",
       "    <td>Ferramenta</td>\n",
       "    <td>R$ 10</td>\n",
       "    <td>5</td>\n",
       "  </tr>\n",
       "  <tr>\n",
       "    <td>Dispositivo</td>\n",
       "    <td>R$ 20</td>\n",
       "    <td>3</td>\n",
       "  </tr>\n",
       "</table>\n"
      ],
      "text/plain": [
       "<IPython.core.display.HTML object>"
      ]
     },
     "metadata": {},
     "output_type": "display_data"
    }
   ],
   "source": [
    "%%html\n",
    "<table>\n",
    "  <tr>\n",
    "    <th>Produto</th>\n",
    "    <th>Preço</th>\n",
    "    <th>Quantidade</th>\n",
    "  </tr>\n",
    "  <tr>\n",
    "    <td>Ferramenta</td>\n",
    "    <td>R$ 10</td>\n",
    "    <td>5</td>\n",
    "  </tr>\n",
    "  <tr>\n",
    "    <td>Dispositivo</td>\n",
    "    <td>R$ 20</td>\n",
    "    <td>3</td>\n",
    "  </tr>\n",
    "</table>"
   ]
  },
  {
   "attachments": {},
   "cell_type": "markdown",
   "metadata": {},
   "source": [
    "### Adicionando Cabeçalhos e Legendas\n",
    "#### Estrutura da Tabela\n",
    "A tag `<thead>` é usada para agrupar o conteúdo do cabeçalho em uma tabela HTML. O conteúdo do cabeçalho geralmente contém os cabeçalhos de coluna da tabela.\n",
    "\n",
    "Veja a sintaxe para a tag `<thead>`:"
   ]
  },
  {
   "cell_type": "code",
   "execution_count": 6,
   "metadata": {
    "vscode": {
     "languageId": "html"
    }
   },
   "outputs": [
    {
     "data": {
      "text/html": [
       "<table>\n",
       "  <thead>\n",
       "    <tr>\n",
       "      <th>Cabeçalho da Coluna 1</th>\n",
       "      <th>Cabeçalho da Coluna 2</th>\n",
       "      <th>Cabeçalho da Coluna 3</th>\n",
       "    </tr>\n",
       "  </thead>\n",
       "  <tbody>\n",
       "    <tr>\n",
       "      <td>Linha 1, Coluna 1</td>\n",
       "      <td>Linha 1, Coluna 2</td>\n",
       "      <td>Linha 1, Coluna 3</td>\n",
       "    </tr>\n",
       "    <tr>\n",
       "      <td>Linha 2, Coluna 1</td>\n",
       "      <td>Linha 2, Coluna 2</td>\n",
       "      <td>Linha 2, Coluna 3</td>\n",
       "    </tr>\n",
       "  </tbody>\n",
       "  <tfoot>\n",
       "    <tr>\n",
       "      <td>Rodapé 1</td>\n",
       "      <td>Rodapé 2</td>\n",
       "      <td>Rodapé 3</td>\n",
       "    </tr>\n",
       "  </tfoot>\n",
       "</table>\n"
      ],
      "text/plain": [
       "<IPython.core.display.HTML object>"
      ]
     },
     "metadata": {},
     "output_type": "display_data"
    }
   ],
   "source": [
    "%%html\n",
    "<table>\n",
    "  <thead>\n",
    "    <tr>\n",
    "      <th>Cabeçalho da Coluna 1</th>\n",
    "      <th>Cabeçalho da Coluna 2</th>\n",
    "      <th>Cabeçalho da Coluna 3</th>\n",
    "    </tr>\n",
    "  </thead>\n",
    "  <tbody>\n",
    "    <tr>\n",
    "      <td>Linha 1, Coluna 1</td>\n",
    "      <td>Linha 1, Coluna 2</td>\n",
    "      <td>Linha 1, Coluna 3</td>\n",
    "    </tr>\n",
    "    <tr>\n",
    "      <td>Linha 2, Coluna 1</td>\n",
    "      <td>Linha 2, Coluna 2</td>\n",
    "      <td>Linha 2, Coluna 3</td>\n",
    "    </tr>\n",
    "  </tbody>\n",
    "  <tfoot>\n",
    "    <tr>\n",
    "      <td>Rodapé 1</td>\n",
    "      <td>Rodapé 2</td>\n",
    "      <td>Rodapé 3</td>\n",
    "    </tr>\n",
    "  </tfoot>\n",
    "</table>"
   ]
  },
  {
   "attachments": {},
   "cell_type": "markdown",
   "metadata": {},
   "source": [
    "A tag `<tbody>` é usada para agrupar as linhas do corpo da tabela.\n",
    "\n",
    "A tag `<tfoot>` é usada para agrupar o conteúdo de rodapé em uma tabela. Ela geralmente é usada para especificar um sumário ou uma linha de rodapé para a tabela. Ela deve ser usada após os elementos `<thead>` e `<tbody>`.\n",
    "\n",
    "Geralmente, as tags `<thead>`, `<tbody>` e `<tfoot>` são usadas em conjunto para separar as seções de cabeçalho, corpo e rodapé da tabela. Elas são opcionais, mas considera-se uma boa prática usá-las para estruturar a tabela e aprimorar a acessibilidade. Além disso, usar essas tags permite uma manipulação mais eficiente da tabela com CSS e JavaScript.\n",
    "\n",
    "#### A Legenda\n",
    "A tag `<caption>` é usada para definir uma legenda de tabela no HTML. Uma legenda de tabela é usada para fornecer um breve resumo sobre o que a tabela contém. Ela aparece no topo da tabela e geralmente é centralizada.\n",
    "\n",
    "A tag `<caption>` deve ser colocada imediatamente após a tag `<table>` no documento HTML.\n",
    "\n",
    "Veja a sintaxe da tag `<caption>`:"
   ]
  },
  {
   "cell_type": "code",
   "execution_count": 7,
   "metadata": {
    "vscode": {
     "languageId": "html"
    }
   },
   "outputs": [
    {
     "data": {
      "text/html": [
       "<table>\n",
       "  <caption>A Legenda  da Tabela Vai Aqui</caption>\n",
       "  <thead>\n",
       "    <tr>\n",
       "      <th>Cabeçalho 1</th>\n",
       "      <th>Cabeçalho 2</th>\n",
       "    </tr>\n",
       "  </thead>\n",
       "  <tbody>\n",
       "    <tr>\n",
       "      <td>Dado 1</td>\n",
       "      <td>Dado 2</td>\n",
       "    </tr>\n",
       "    <tr>\n",
       "      <td>Dado 3</td>\n",
       "      <td>Dado 4</td>\n",
       "    </tr>\n",
       "  </tbody>\n",
       "</table>\n"
      ],
      "text/plain": [
       "<IPython.core.display.HTML object>"
      ]
     },
     "metadata": {},
     "output_type": "display_data"
    }
   ],
   "source": [
    "%%html\n",
    "<table>\n",
    "  <caption>A Legenda  da Tabela Vai Aqui</caption>\n",
    "  <thead>\n",
    "    <tr>\n",
    "      <th>Cabeçalho 1</th>\n",
    "      <th>Cabeçalho 2</th>\n",
    "    </tr>\n",
    "  </thead>\n",
    "  <tbody>\n",
    "    <tr>\n",
    "      <td>Dado 1</td>\n",
    "      <td>Dado 2</td>\n",
    "    </tr>\n",
    "    <tr>\n",
    "      <td>Dado 3</td>\n",
    "      <td>Dado 4</td>\n",
    "    </tr>\n",
    "  </tbody>\n",
    "</table>"
   ]
  },
  {
   "attachments": {},
   "cell_type": "markdown",
   "metadata": {},
   "source": [
    "### Estendendo as Células da Tabela\n",
    "#### O Atributo `rowspan`\n",
    "O atributo `rowspan` é usado para definir o número de linhas que uma célula deve ocupar ou abranger em uma tabela.\n",
    "\n",
    "Veja um exemplo de como usar `rowspan` para estender uma célula por várias linhas:"
   ]
  },
  {
   "cell_type": "code",
   "execution_count": 8,
   "metadata": {
    "vscode": {
     "languageId": "html"
    }
   },
   "outputs": [
    {
     "data": {
      "text/html": [
       "<table>\n",
       "  <tr>\n",
       "    <td rowspan=\"2\">Esta célula estende-se por duas linhas</td>\n",
       "    <td>Célula 1</td>\n",
       "    <td>Célula 2</td>\n",
       "  </tr>\n",
       "  <tr>\n",
       "    <td>Célula 3</td>\n",
       "    <td>Célula 4</td>\n",
       "  </tr>\n",
       "  <tr>\n",
       "    <td>Célula 5</td>\n",
       "    <td>Célula 6</td>\n",
       "    <td>Célula 7</td>\n",
       "  </tr>\n",
       "</table>\n"
      ],
      "text/plain": [
       "<IPython.core.display.HTML object>"
      ]
     },
     "metadata": {},
     "output_type": "display_data"
    }
   ],
   "source": [
    "%%html\n",
    "<table>\n",
    "  <tr>\n",
    "    <td rowspan=\"2\">Esta célula estende-se por duas linhas</td>\n",
    "    <td>Célula 1</td>\n",
    "    <td>Célula 2</td>\n",
    "  </tr>\n",
    "  <tr>\n",
    "    <td>Célula 3</td>\n",
    "    <td>Célula 4</td>\n",
    "  </tr>\n",
    "  <tr>\n",
    "    <td>Célula 5</td>\n",
    "    <td>Célula 6</td>\n",
    "    <td>Célula 7</td>\n",
    "  </tr>\n",
    "</table>"
   ]
  },
  {
   "attachments": {},
   "cell_type": "markdown",
   "metadata": {},
   "source": [
    "Nesse exemplo, a primeira célula na primeira linha estende-se por duas linhas usando `rowspan=\"2\"`. Como resultado, ela cobre a primeira célula na segunda linha.\n",
    "\n",
    "Observe que o valor de `rowspan` deve ser um número inteiro positivo e não pode exceder o número de linhas na tabela.\n",
    "\n",
    "#### O Atributo `colspan`\n",
    "O atributo `colspan` especifica o número de colunas que uma célula deve cobrir. Ele é usado para mesclar duas ou mais colunas em uma única célula.\n",
    "\n",
    "Veja um exemplo de uma tabela que utiliza o atributo `colspan`:"
   ]
  },
  {
   "cell_type": "code",
   "execution_count": 9,
   "metadata": {
    "vscode": {
     "languageId": "html"
    }
   },
   "outputs": [
    {
     "data": {
      "text/html": [
       "<table>\n",
       "  <tr>\n",
       "    <th>Mês</th>\n",
       "    <th colspan=\"2\">Vendas</th>\n",
       "  </tr>\n",
       "  <tr>\n",
       "    <td>Janeiro</td>\n",
       "    <td>R$ 100</td>\n",
       "    <td>R$ 200</td>\n",
       "  </tr>\n",
       "  <tr>\n",
       "    <td>Fevereiro</td>\n",
       "    <td colspan=\"2\">R$ 300</td>\n",
       "  </tr>\n",
       "</table>\n"
      ],
      "text/plain": [
       "<IPython.core.display.HTML object>"
      ]
     },
     "metadata": {},
     "output_type": "display_data"
    }
   ],
   "source": [
    "%%html\n",
    "<table>\n",
    "  <tr>\n",
    "    <th>Mês</th>\n",
    "    <th colspan=\"2\">Vendas</th>\n",
    "  </tr>\n",
    "  <tr>\n",
    "    <td>Janeiro</td>\n",
    "    <td>R$ 100</td>\n",
    "    <td>R$ 200</td>\n",
    "  </tr>\n",
    "  <tr>\n",
    "    <td>Fevereiro</td>\n",
    "    <td colspan=\"2\">R$ 300</td>\n",
    "  </tr>\n",
    "</table>"
   ]
  },
  {
   "attachments": {},
   "cell_type": "markdown",
   "metadata": {},
   "source": [
    "Nesse exemplo, a segunda célula de cabeçalho estende-se por duas colunas usando `colspan=\"2\"`. A segunda linha possui duas células para as vendas de Janeiro e a terceira linha uma única célula para as vendas de Fevereiro que estende-se por duas colunas.\n",
    "\n",
    "Observe que o valor de `colspan` deve ser um número inteiro positivo e não pode exceder o número de colunas na linha atual.\n",
    "\n",
    "Por fim, vamos ver um exemplo prático de tabela HTML que utiliza tudo que você aprendeu sobre tabelas:"
   ]
  },
  {
   "cell_type": "code",
   "execution_count": 11,
   "metadata": {
    "vscode": {
     "languageId": "html"
    }
   },
   "outputs": [
    {
     "data": {
      "text/html": [
       "<table>\n",
       "  <caption>Vendas Mensais</caption>\n",
       "  <thead>\n",
       "    <tr>\n",
       "      <th>Mês</th>\n",
       "      <th colspan=\"2\">Vendas</th>\n",
       "    </tr>\n",
       "  </thead>\n",
       "  <tbody>\n",
       "    <tr>\n",
       "      <td rowspan=\"3\">Janeiro</td>\n",
       "      <td>Produto A</td>\n",
       "      <td>R$ 10.000</td>\n",
       "    </tr>\n",
       "    <tr>\n",
       "      <td>Produto B</td>\n",
       "      <td>R$ 7.500</td>\n",
       "    </tr>\n",
       "    <tr>\n",
       "      <td>Produto C</td>\n",
       "      <td>R$ 12.500</td>\n",
       "    </tr>\n",
       "    <tr>\n",
       "      <td rowspan=\"2\">Fevereiro</td>\n",
       "      <td>Produto A</td>\n",
       "      <td>R$ 8.000</td>\n",
       "    </tr>\n",
       "    <tr>\n",
       "      <td>Produto C</td>\n",
       "      <td>R$ 11.000</td>\n",
       "    </tr>\n",
       "  </tbody>\n",
       "  <tfoot>\n",
       "    <tr>\n",
       "      <td>Total</td>\n",
       "      <td colspan=\"2\">R$ 49.000</td>\n",
       "    </tr>\n",
       "  </tfoot>\n",
       "</table>\n"
      ],
      "text/plain": [
       "<IPython.core.display.HTML object>"
      ]
     },
     "metadata": {},
     "output_type": "display_data"
    }
   ],
   "source": [
    "%%html\n",
    "<table>\n",
    "  <caption>Vendas Mensais</caption>\n",
    "  <thead>\n",
    "    <tr>\n",
    "      <th>Mês</th>\n",
    "      <th colspan=\"2\">Vendas</th>\n",
    "    </tr>\n",
    "  </thead>\n",
    "  <tbody>\n",
    "    <tr>\n",
    "      <td rowspan=\"3\">Janeiro</td>\n",
    "      <td>Produto A</td>\n",
    "      <td>R$ 10.000</td>\n",
    "    </tr>\n",
    "    <tr>\n",
    "      <td>Produto B</td>\n",
    "      <td>R$ 7.500</td>\n",
    "    </tr>\n",
    "    <tr>\n",
    "      <td>Produto C</td>\n",
    "      <td>R$ 12.500</td>\n",
    "    </tr>\n",
    "    <tr>\n",
    "      <td rowspan=\"2\">Fevereiro</td>\n",
    "      <td>Produto A</td>\n",
    "      <td>R$ 8.000</td>\n",
    "    </tr>\n",
    "    <tr>\n",
    "      <td>Produto C</td>\n",
    "      <td>R$ 11.000</td>\n",
    "    </tr>\n",
    "  </tbody>\n",
    "  <tfoot>\n",
    "    <tr>\n",
    "      <td>Total</td>\n",
    "      <td colspan=\"2\">R$ 49.000</td>\n",
    "    </tr>\n",
    "  </tfoot>\n",
    "</table>"
   ]
  },
  {
   "attachments": {},
   "cell_type": "markdown",
   "metadata": {},
   "source": [
    "Nesse exemplo, a tabela possui uma legenda \"Vendas Mensais\" usando a tag `<caption>`. A tabela também utiliza uma seção de cabeçalho definida usando a tag `<thead>`, com uma linha contendo duas colunas com os cabeçalhos \"Mês\" e \"Vendas\". O cabeçalho \"Vendas\" estende-se por duas colunas usando o atributo `colspan`.\n",
    "\n",
    "O corpo principal da tabela é definido usando a tag `<tbody>`. Ele possui três linhas para Janeiro e duas linhas para Fevereiro. A primeira coluna para cada mês utiliza o atributo `rowspan` para estender as células em três e duas linhas, respectivamente. A segunda e a terceira colunas contêm as vendas para cada produto.\n",
    "\n",
    "A tag `<tfoot>` é usada para definir uma linha de rodapé no final da tabela, contendo as vendas totais para todos os produtos. O valor das vendas estende-se por duas colunas usando o atributo `colspan`.\n",
    "\n",
    "### Melhores Práticas no Uso de Tabelas\n",
    "As tabelas pode ser úteis para apresentar dados em um formato organizado e fácil de ler, mas também apresentam desafios para acessibilidade e design responsivo. Abaixo você encontra algumas das melhores práticas para ter em mente quando estiver usando tabelas no desenvolvimento web:\n",
    "\n",
    "1. **Utilize tabelas apenas para dados tabulares:** As tabelas devem ser usadas para apresentar dados que sejam inerentemente tabulares em natureza, como dados financeiros, pontuações esportivas ou resultados de pesquisa. Não utilize tabelas para os propósitos de layout, uma vez que isso causa problemas para leitores de tela e outras tecnologias de acessibilidade.\n",
    "2. **Torne as tabelas acessíveis:** Utilize os cabeçalhos, sumários e legendas apropriados para fornecer contexto e aprimorar a acessibilidade. Garanta que a tabela possa ser navegada com um teclado e evite usar tabelas para visualizações de dados complexos que possam necessitar de métodos de apresentação alternativos.\n",
    "3. **Mantenha as tabelas simples:** Utilize o mínimo de linhas e colunas possíveis para transmitir as informações necessárias e evite usar tabelas aninhadas ou mesclar células excessivamente. Isso pode tornar a tabela mais difícil de ler e navegar, especialmente em dispositivos móveis.\n",
    "4. **Utilize CSS para a estilização da tabela:** Evite utilizar estilos em linha ou atributos descontinuados para estilização de tabelas. Ao invés disso, utilize CSS para estilizar a tabela e seus componentes, como fontes, cores e bordas.\n",
    "5. **Teste sua tabela:** Teste sua tabela em vários dispositivos e tamanhos de tela para garantir que ela é legível e acessível. Considere usar técnicas de design responsivo para fazer a tabela se adaptar aos diferentes tamanhos de tela."
   ]
  },
  {
   "attachments": {},
   "cell_type": "markdown",
   "metadata": {},
   "source": [
    "### Autoavaliação 4\n",
    "#### Quiz\n",
    "**Cada pergunta possui apenas UMA resposta correta.**\n",
    "\n",
    "1. Qual é a tag HTML usada para criar uma tabela?<br/>\n",
    "  a. `<td>`<br/>\n",
    "  b. `<table>`<br/>\n",
    "  c. `<tr>`<br/>\n",
    "  d. `<th>`<br/>\n",
    "\n",
    "1. Qual é a tag HTML usada para criar cabeçalhos de tabela?<br/>\n",
    "  a. `<td>`<br/>\n",
    "  b. `<td>`<br/>\n",
    "  c. `<thead>`<br/>\n",
    "  d. `<tr>`<br/>\n",
    "\n",
    "1. Qual é a tag HTML usada para criar uma linha de tabela?<br/>\n",
    "  a. `<tr>`<br/>\n",
    "  b. `<td>`<br/>\n",
    "  c. `<th>`<br/>\n",
    "  d. `<tbody>`<br/>\n",
    "\n",
    "1. Qual é o atributo usado para estender as células de uma tabela horizontalmente?<br/>\n",
    "  a. `rowspan`<br/>\n",
    "  b. `colspan`<br/>\n",
    "  c. `border`<br/>\n",
    "  d. `size`<br/>\n",
    "\n",
    "1. Qual é a tag HTML usada para adicionar uma legenda para uma tabela?<br/>\n",
    "  a. `<table>`<br/>\n",
    "  b. `<caption>`<br/>\n",
    "  c. `<h1>`<br/>\n",
    "  d. `<title>`<br/>\n",
    "\n",
    "1. Como você cria uma célula de tabela que estende-se por várias colunas?<br/>\n",
    "  a. Adicionando o atributo `colspan` na tag `<td>` com o valor definido como o número de colunas para se estender.<br/>\n",
    "  b. Adicionando o atributo `rowspan` na tag `<td>` com o valor definido como o número de colunas para se estender.<br/>\n",
    "  c. Envolvendo a tag `<td>` em uma tag `<th>`<br/>\n",
    "  d. Adicionando o atributo `size` na tag `<td>` com o valor definido como o número de colunas para se estender.<br/>\n",
    "\n",
    "1. Qual é a tag HTML usada para agrupar os conteúdos de cabeçalho de uma tabela?<br/>\n",
    "  a. `<tfoot>`<br/>\n",
    "  b. `<th>`<br/>\n",
    "  c. `<tbody>`<br/>\n",
    "  d. `<thead>`<br/>\n",
    "\n",
    "1. Qual é a tag HTML usada para agrupar o conteúdo principal de uma tabela?<br/>\n",
    "  a. `<thead>`<br/>\n",
    "  b. `<tfoot>`<br/>\n",
    "  c. `<tbody>`<br/>\n",
    "  d. `<tr>`<br/>\n",
    "\n",
    "1. Qual das seguintes não é uma boa prática recomendada quando se usa tabelas em HTML?<br/>\n",
    "  a. Usar tabelas para os propósitos de layout<br/>\n",
    "  b. Utilizar as tags `<thead>`, `<tbody>` e `<tfoot>` para agrupar o conteúdo da tabela<br/>\n",
    "  c. Utilize a tag `<th>` para os cabeçalhos da tabela<br/>\n",
    "  d. Usar a marcação de tabela apropriada para criar tabelas acessíveis e legíveis<br/>\n",
    "\n",
    "1. Qual é o atributo usado para estender as células de uma tabela verticalmente?<br/>\n",
    "  a. `rowspan`<br/>\n",
    "  b. `colspan`<br/>\n",
    "  c. `size`<br/>\n",
    "  d. `border`<br/>"
   ]
  },
  {
   "attachments": {},
   "cell_type": "markdown",
   "metadata": {},
   "source": [
    "#### Criando Tabelas\n",
    "1. Crie uma tabela que apresente o cronograma diária de uma conferência com as seguintes colunas: Hora, Atividade, Orador e Local. Utilize as tags `<thead>`, `<tbody>` e `<tfoot>` para organizar a tabela. A tabela deve possuir uma legenda que se lê \"Cronograma da Conferência\". A primeira linha da tabela deve possuir uma única célula que estende-se pelas quatro colunas e diz \"Dia 1\". A última linha da tabela deve possuir uma única célula que estende-se pelas quatro colunas e diz \"Fim do Dia 1\".\n",
    "2. Crie uma tabela que apresente os 5 filmes de maior bilheteria de todos os tempos, com as seguintes colunas: Classificação, Título do File, Diretor e Bilheteria Mundial Bruta. Utilize as tags `<thead>`, `<tbody>` e `<tfoot>` para organizar a tabela. A tabela deve possuir uma legenda que se lê \"Top 5 Filmes de Maior Bilheteria\". A primeira linha da tabela deve possuir uma única célula que estende-se pelas quatro colunas e diz \"Ranking\".\n",
    "3. Crie uma tabela que apresente o valor nutricional de frutas diferentes, com as seguintes colunas: Fruta, Calorias, Carboidratos, Proteínas e Gordura. Utilize as tags `<thead>`, `<tbody>` e `<tfoot>` para organizar a tabela. A tabela deve possuir uma legenda que se lê \"Valor Nutricional das Frutas\". Na primeira linha da tabela, a primeira célula deve estender-se por duas colunas e dizer \"Tipo de Fruta e Tamanho da Porção\".\n",
    "4. Crie uma tabela que apresente os preços de diferentes voos, com as seguintes colunas: Companhia Aérea, Cidade de Origem, Cidade de Destino e Preço. Utilize as tags `<thead>`, `<tbody>` e `<tfoot>` para organizar a tabela. A tabela deve possuir uma legenda que se lê \"Preço dos Voos\". Na primeira linha da tabela, a segunda célula deve estender-se por duas colunas e dizer \"Cidades de Origem e Destino\".\n",
    "5. Crie uma tabela que apresente as notas de estudantes em uma classe, com as seguintes colunas: Nome do Estudante, Prova 1, Prova 2, Prova 3 e Nota Final. Utilize as tags `<thead>`, `<tbody>` e `<tfoot>` para organizar a tabela. A tabela deve possuir uma legenda que se lê \"Notas da Classe\". Na primeira linha da tabela, a primeira célula deve estende-se por cinco colunas e dizer \"Pontuações nas Provas e Nota Final\"."
   ]
  },
  {
   "attachments": {},
   "cell_type": "markdown",
   "metadata": {},
   "source": [
    "## Aula 5 – HTML Semântico\n",
    "### Visão Geral da Aula\n",
    "Esta aula abrangerá a importância do uso do HTML semântico e os diferentes elementos do HTMl semântico que podem ser usados para aprimorar a acessibilidade e a estrutura das páginas web. Você aprenderá sobre os benefícios de usar o HTML semântico e como aprimorar o SEO do website e a experiência do usuário. Por fim, esta aula discutirá considerações de acessibilidade com HTML semântico e como criar páginas web que sejam acessíveis para todos os usuários.\n",
    "\n",
    "1. [Introdução ao HTML Semântico](#Introdução-ao-HTML-Semântico)\n",
    "2. [Elementos do HTML Semântico](#Elementos-do-HTML-Semântico)\n",
    "3. [Criando Páginas Web Acessíveis com HTML Semântico](#Criando-Páginas-Web-Acessíveis-com-HTML-Semântico)\n",
    "4. [Autoavaliação 5](#Autoavaliação-5)\n",
    "\n",
    "### Objetivos de Aprendizagem\n",
    "Ao final dessa aula, você será capaz de:\n",
    "\n",
    "- Entender a importância do uso do HTML semântico\n",
    "- Identificar e usar diferentes elementos do HTML semântico\n",
    "- Explicar como o HTML semântico pode aprimorar o SEO e a experiência do usuário\n",
    "- Descrever considerações de acessibilidade com HTML semântico\n",
    "- Criar webpages acessíveis usando elementos do HTML semântico\n",
    "\n",
    "### Materiais Necessários\n",
    "- Computador com acesso a Internet\n",
    "- Editor de Texto (e.g. Bloco de Notas, Visual Code Studio)\n",
    "- Web browser  (e.g. Chrome, Edge)"
   ]
  },
  {
   "attachments": {},
   "cell_type": "markdown",
   "metadata": {},
   "source": [
    "### Introdução ao HTML Semântico\n",
    "HTML semântico refere-se ao uso de tags HTML que possuem um significado claro e específico para descrever o conteúdo que elas contêm. Isso torna o conteúdo mais significativo e compreensível, tanto para humanos quanto para máquinas. Em contraste, o HTML não-semântico depende fortemente da estilização e da apresentação para transmitir significado, o que pode tornar o conteúdo menos acessível para pessoas com deficiências e difícil para os mecanismos de busca compreenderem.\n",
    "\n",
    "Veja alguns dos benefícios de usar HTML semântico:\n",
    "\n",
    "1. **Acessibilidade Aprimorada:** O HTML semântico permite que tecnologias de assistência, como leitores de tela, entendam propriamente o conteúdo e a estrutura da página web, facilitando a navegação e o consumo do conteúdo para usuários com deficiências.\n",
    "2. **SEO Aprimorado:** Os mecanismos de buscas são capazes de entender melhor o conteúdo da webpage quando o HTML semântico é usado, o que pode aprimorar a classificação e a visibilidade da página nos resultados de pesquisa.\n",
    "3. **Manutenção Facilitada:** O HTML semântico torna mais fácil manter e atualizar as páginas web, uma vez que o significado e a estrutura do conteúdo é mais claro e mais fácil de entender.\n",
    "4. **Estilização Consistente:** O HTML semântico pode ajudar a garantir que as webpages possuam um estilo e um layout consistentes, uma vez que o conteúdo está estruturado e estilizado de acordo com seu significado.\n",
    "\n",
    "### Elementos do HTML Semântico\n",
    "Todos os elementos semânticos do HTML são elementos block-level.\n",
    "\n",
    "#### O Elemento `header`\n",
    "O elemento `<header>` no HTML é uma tag semântica que representa o conteúdo introdutório para uma página ou seção. Ele geralmente contém um logo, links de navegação e outros conteúdos introdutórios. O elemento `<header>` pode ser usado várias vezes dentro de uma página ou seção.\n",
    "\n",
    "Veja alguns exemplos de como usar o elemento `<header>`:\n",
    "\n",
    "##### Exemplo 1: `header` simples"
   ]
  },
  {
   "cell_type": "code",
   "execution_count": 20,
   "metadata": {
    "vscode": {
     "languageId": "html"
    }
   },
   "outputs": [
    {
     "data": {
      "text/html": [
       "<header>\n",
       "  <h1>Meu Website</h1>\n",
       "</header>\n"
      ],
      "text/plain": [
       "<IPython.core.display.HTML object>"
      ]
     },
     "metadata": {},
     "output_type": "display_data"
    }
   ],
   "source": [
    "%%html\n",
    "<header>\n",
    "  <h1>Meu Website</h1>\n",
    "</header>"
   ]
  },
  {
   "attachments": {},
   "cell_type": "markdown",
   "metadata": {},
   "source": [
    "Nesse exemplo, o elemento `<header>` contém o nome do website, que é marcado com o elemento `<h1>`.\n",
    "\n",
    "##### Exemplo 2: `header` com links de navegação"
   ]
  },
  {
   "cell_type": "code",
   "execution_count": 21,
   "metadata": {
    "vscode": {
     "languageId": "html"
    }
   },
   "outputs": [
    {
     "data": {
      "text/html": [
       "<header>\n",
       "  <nav>\n",
       "    <ul>\n",
       "      <li><a href=\"\">Home</a></li>\n",
       "      <li><a href=\"\">Sobre</a></li>\n",
       "      <li><a href=\"\">Contato</a></li>\n",
       "    </ul>\n",
       "  </nav>\n",
       "</header>\n"
      ],
      "text/plain": [
       "<IPython.core.display.HTML object>"
      ]
     },
     "metadata": {},
     "output_type": "display_data"
    }
   ],
   "source": [
    "%%html\n",
    "<header>\n",
    "  <nav>\n",
    "    <ul>\n",
    "      <li><a href=\"\">Home</a></li>\n",
    "      <li><a href=\"\">Sobre</a></li>\n",
    "      <li><a href=\"\">Contato</a></li>\n",
    "    </ul>\n",
    "  </nav>\n",
    "</header>"
   ]
  },
  {
   "attachments": {},
   "cell_type": "markdown",
   "metadata": {},
   "source": [
    "Nesse exemplo, o elemento `<header>` contém uma barra de navegação, marcada com o elemento `<nav>` que será discutido adiante. A barra de navegação contém uma lista não-ordenada de links para páginas diferentes no site.\n",
    "\n",
    "##### Exemplo 3: `header` com logo e texto"
   ]
  },
  {
   "cell_type": "code",
   "execution_count": 26,
   "metadata": {
    "vscode": {
     "languageId": "html"
    }
   },
   "outputs": [
    {
     "data": {
      "text/html": [
       "<header>\n",
       "  <img src=\"logo.png\" alt=\"Logo\" width=\"100\">\n",
       "  <h1>Meu Website</h1>\n",
       "</header>\n"
      ],
      "text/plain": [
       "<IPython.core.display.HTML object>"
      ]
     },
     "metadata": {},
     "output_type": "display_data"
    }
   ],
   "source": [
    "%%html\n",
    "<header>\n",
    "  <img src=\"logo.png\" alt=\"Logo\" width=\"100\">\n",
    "  <h1>Meu Website</h1>\n",
    "</header>"
   ]
  },
  {
   "attachments": {},
   "cell_type": "markdown",
   "metadata": {},
   "source": [
    "Nesse exemplo, o elemento `<header>` contem um logo e o nome do website, marcado com o elemento `<h1>`. O logo é inserido usando o elemento `<img>`.\n",
    "\n",
    "#### O Elemento `nav`\n",
    "O elemento `<nav>` é usado para definir um conjunto de links de navegação dentro de um documento ou página web. É geralmente usado para criar um menu de navegação, que pode ajudar os usuários a encontrar e acessar diferentes seções do website facilmente.\n",
    "\n",
    "Veja um exemplo de como usar o elemento `<nav>`:"
   ]
  },
  {
   "cell_type": "code",
   "execution_count": 28,
   "metadata": {
    "vscode": {
     "languageId": "html"
    }
   },
   "outputs": [
    {
     "data": {
      "text/html": [
       "<header>\n",
       "  <h1>Meu Website</h1>\n",
       "  <nav>\n",
       "    <ul>\n",
       "      <li><a href=\"#home\">Home</a></li>\n",
       "      <li><a href=\"#sobre\">Sobre</a></li>\n",
       "      <li><a href=\"#serviços\">Serviços</a></li>\n",
       "      <li><a href=\"#contato\">Contato</a></li>\n",
       "    </ul>\n",
       "  </nav>\n",
       "</header>\n"
      ],
      "text/plain": [
       "<IPython.core.display.HTML object>"
      ]
     },
     "metadata": {},
     "output_type": "display_data"
    }
   ],
   "source": [
    "%%html\n",
    "<header>\n",
    "  <h1>Meu Website</h1>\n",
    "  <nav>\n",
    "    <ul>\n",
    "      <li><a href=\"#home\">Home</a></li>\n",
    "      <li><a href=\"#sobre\">Sobre</a></li>\n",
    "      <li><a href=\"#serviços\">Serviços</a></li>\n",
    "      <li><a href=\"#contato\">Contato</a></li>\n",
    "    </ul>\n",
    "  </nav>\n",
    "</header>"
   ]
  },
  {
   "attachments": {},
   "cell_type": "markdown",
   "metadata": {},
   "source": [
    "Nesse exemplo, o elemento `<nav>` é colocado dentro do elemento `<header>` para criar um menu de navegação para o website. Os links de navegação são definidos usando uma lista não-ordenada (`<ul>`) com cada link representado como um item de lista (`<li>`) e uma tag de âncora (`<a>`).\n",
    "\n",
    "Quando usar o elemento `<nav>`, é importante garantir que os links contidos dentro dele são relacionados com o conteúdo principal da página web e fornecem uma experiência de navegação significativa e útil para os usuários. Além disso, o uso de textos descritivos para os links pode aprimorar ainda mais a acessibilidade e usabilidade do menu de navegação.\n",
    "\n",
    "#### O Elemento `main`\n",
    "O elemento `<main>` no HTML5 é um contêiner semântico que representa o conteúdo principal de uma página web. Sua intenção é armazenar o conteúdo que é único da página e não compartilhado com várias páginas.\n",
    "\n",
    "Um dos benefícios de usar o elemento `<main>` é a acessibilidade aprimorada: leitores de tela podem usar o elemento `<main>` para identificar e pular diretamente para o conteúdo primário da página, o que pode ajudar usuários com deficiências a navegar mais eficientemente.\n",
    "\n",
    "Veja um exemplo de como o elemento `<main>` pode ser usado em uma webpage:"
   ]
  },
  {
   "cell_type": "code",
   "execution_count": 29,
   "metadata": {
    "vscode": {
     "languageId": "html"
    }
   },
   "outputs": [
    {
     "data": {
      "text/html": [
       "<!DOCTYPE html>\n",
       "<html>\n",
       "  <head>\n",
       "    <title>Minha Página Web</title>\n",
       "  </head>\n",
       "  <body>\n",
       "    <header>\n",
       "      <!-- Conteúdo introdutório vai aqui -->\n",
       "    </header>\n",
       "    <nav>\n",
       "      <!-- Links de navegação vão aqui -->\n",
       "    </nav>\n",
       "    <main>\n",
       "      <h1>Bem-vindos à Minha Página Web!</h1>\n",
       "      <p>Este é o conteúdo principal da minha página.</p>\n",
       "      <p>Ela poderia incluir artigos, postagens de blog ou outros conteúdos únicos.</p>\n",
       "    </main>\n",
       "    <aside>\n",
       "      <!-- Barra lateral vai aqui -->\n",
       "    </aside>\n",
       "    <footer>\n",
       "      <!-- Conteúdo de rodapé vai aqui -->\n",
       "    </footer>\n",
       "  </body>\n",
       "</html>\n"
      ],
      "text/plain": [
       "<IPython.core.display.HTML object>"
      ]
     },
     "metadata": {},
     "output_type": "display_data"
    }
   ],
   "source": [
    "%%html\n",
    "<!DOCTYPE html>\n",
    "<html>\n",
    "  <head>\n",
    "    <title>Minha Página Web</title>\n",
    "  </head>\n",
    "  <body>\n",
    "    <header>\n",
    "      <!-- Conteúdo introdutório vai aqui -->\n",
    "    </header>\n",
    "    <nav>\n",
    "      <!-- Links de navegação vão aqui -->\n",
    "    </nav>\n",
    "    <main>\n",
    "      <h1>Bem-vindos à Minha Página Web!</h1>\n",
    "      <p>Este é o conteúdo principal da minha página.</p>\n",
    "      <p>Ela poderia incluir artigos, postagens de blog ou outros conteúdos únicos.</p>\n",
    "    </main>\n",
    "    <aside>\n",
    "      <!-- Barra lateral vai aqui -->\n",
    "    </aside>\n",
    "    <footer>\n",
    "      <!-- Conteúdo de rodapé vai aqui -->\n",
    "    </footer>\n",
    "  </body>\n",
    "</html>"
   ]
  },
  {
   "attachments": {},
   "cell_type": "markdown",
   "metadata": {},
   "source": [
    "No exemplo acima, você notará alguns elementos semânticos que ainda serão discutidos nessa aula: `<aside>` e `<footer>`. Porém, vamos parar um minuto para entender o que os seguintes caracteres significam: `<!-- -->`.\n",
    "\n",
    "##### Comentários\n",
    "Comentários no HTML são pedaços de texto que não são exibidos na página, mas usados para fornecer informações sobre o código ou para remover temporariamente algum código da página. Eles são uma forma para os desenvolvedores deixarem anotações para si próprios ou para outros desenvolvedores sobre como o código funciona ou porquê ele foi escrito de uma determinada maneira.\n",
    "\n",
    "Os comentários no HTML são envoltos dentro de tags `<!--` e `-->`. Qualquer texto entre essas tags será tratado como um comentário e não será exibido pelo navegador.\n",
    "\n",
    "Veja um exemplo de comentário no HTML:"
   ]
  },
  {
   "cell_type": "code",
   "execution_count": 30,
   "metadata": {
    "vscode": {
     "languageId": "html"
    }
   },
   "outputs": [
    {
     "data": {
      "text/html": [
       "<!-- Isso é um comentário. Ele não será exibido na página -->\n"
      ],
      "text/plain": [
       "<IPython.core.display.HTML object>"
      ]
     },
     "metadata": {},
     "output_type": "display_data"
    }
   ],
   "source": [
    "%%html\n",
    "<!-- Isso é um comentário. Ele não será exibido na página -->"
   ]
  },
  {
   "attachments": {},
   "cell_type": "markdown",
   "metadata": {},
   "source": [
    "É importante observar que comentários devem ser usados com moderação e adicionados apenas quando necessário. Muitos comentários podem tornar o código difícil de ler e podem torná-lo difícil de compreender. É importante encontrar um equilíbrio entre adicionar comentários suficientes para tornar o código compreensível e não adicionar comentários demais para torná-lo confuso.\n",
    "\n",
    "#### O Elemento `section`\n",
    "O elemento `<section>` no HTML é usado para dividir o conteúdo de uma página web em seções ou grupos diferentes, geralmente com um cabeçalho. Ele ajuda a estruturar o conteúdo e torná-lo mais significativo e fácil de entender, tanto para humanos quanto para mecanismos de busca.\n",
    "\n",
    "Veja um exemplo de como o elemento `<section>` pode ser usado:"
   ]
  },
  {
   "cell_type": "code",
   "execution_count": 31,
   "metadata": {
    "vscode": {
     "languageId": "html"
    }
   },
   "outputs": [
    {
     "data": {
      "text/html": [
       "<section>\n",
       "  <h2>Introdução</h2>\n",
       "  <p>Bem-vindo(a) ao nosso website. Nós nos especializamos em vender frutas e vegetais orgânicos cultivados em nossa própria fazenda. Nosso objetivo é fornecer produtos frescos e saudáveis para nossos clientes.</p>\n",
       "</section>\n",
       "\n",
       "<section>\n",
       "  <h2>Nossos Produtos</h2>\n",
       "  <p>Nós oferecemos uma ampla variedade de frutas e vegetais orgânicos, incluindo:</p>\n",
       "  <ul>\n",
       "    <li>Maçãs</li>\n",
       "    <li>Laranjas</li>\n",
       "    <li>Tomates</li>\n",
       "    <li>Cenouras</li>\n",
       "  </ul>\n",
       "</section>\n",
       "\n",
       "<section>\n",
       "  <h2>Como Fazer o Pedido</h2>\n",
       "  <p>Você pode fazer um pedido através de nossa loja online ou ligando diretamente para nós. Nós oferecemos entrega gratuita para pedidos acima de R$ 50.</p>\n",
       "</section>\n"
      ],
      "text/plain": [
       "<IPython.core.display.HTML object>"
      ]
     },
     "metadata": {},
     "output_type": "display_data"
    }
   ],
   "source": [
    "%%html\n",
    "<section>\n",
    "  <h2>Introdução</h2>\n",
    "  <p>Bem-vindo(a) ao nosso website. Nós nos especializamos em vender frutas e vegetais orgânicos cultivados em nossa própria fazenda. Nosso objetivo é fornecer produtos frescos e saudáveis para nossos clientes.</p>\n",
    "</section>\n",
    "\n",
    "<section>\n",
    "  <h2>Nossos Produtos</h2>\n",
    "  <p>Nós oferecemos uma ampla variedade de frutas e vegetais orgânicos, incluindo:</p>\n",
    "  <ul>\n",
    "    <li>Maçãs</li>\n",
    "    <li>Laranjas</li>\n",
    "    <li>Tomates</li>\n",
    "    <li>Cenouras</li>\n",
    "  </ul>\n",
    "</section>\n",
    "\n",
    "<section>\n",
    "  <h2>Como Fazer o Pedido</h2>\n",
    "  <p>Você pode fazer um pedido através de nossa loja online ou ligando diretamente para nós. Nós oferecemos entrega gratuita para pedidos acima de R$ 50.</p>\n",
    "</section>"
   ]
  },
  {
   "attachments": {},
   "cell_type": "markdown",
   "metadata": {},
   "source": [
    "Nesse exemplo, o conteúdo é dividido em três seções: Introdução, Nossos Produtos e Como Fazer o Pedido. Cada seção possui um cabeçalho que descreve o conteúdo da seção, tornando mais fácil para os leitores entender a estrutura geral da página.\n",
    "\n",
    "#### O Elemento `article`\n",
    "O elemento `<article>` é uma tag semântica do HTML que é usada para representar uma parte do conteúdo independente e autônoma que pode ser distribuída e reusada. Ele é tipicamente usado para representar uma postagem de blog, notícias, postagem de fórum ou qualquer outro tipo de conteúdo que possa se manter sozinho.\n",
    "\n",
    "Veja um exemplo de uso do `<article>` onde cada postagem de blog pode ser contida dentro de seu próprio elemento `<article>`, tornando-a mais fácil de estilizar e formatar separadamente das outras partes da página:"
   ]
  },
  {
   "cell_type": "code",
   "execution_count": 34,
   "metadata": {
    "vscode": {
     "languageId": "html"
    }
   },
   "outputs": [
    {
     "data": {
      "text/html": [
       "<main>\n",
       "  <article>\n",
       "    <header>\n",
       "      <h2>Minha Postagem no Blog 2</h2>\n",
       "      <p>Escrita por João Silva</p>\n",
       "    </header>\n",
       "    <p>Aqui está o conteúdo da minha segunda postagem no blog.</p>\n",
       "    <p>Ele também pode conter vários parágrafos e outros elementos HTML.</p>\n",
       "    <footer>\n",
       "      <p>Publicado em 1º de Junho de 2023</p>\n",
       "    </footer>\n",
       "  </article>\n",
       "  <article>\n",
       "    <header>\n",
       "      <h2>Minha Postagem no Blog</h2>\n",
       "      <p>Escrita por João Silva</p>\n",
       "    </header>\n",
       "    <p>Aqui está o conteúdo da minha primeira postagem no blog.</p>\n",
       "    <p>Ele pode conter vários parágrafos e outros elementos HTML.</p>\n",
       "    <footer>\n",
       "      <p>Publicado em 24 de Maio de 2023</p>\n",
       "    </footer>\n",
       "  </article>\n",
       "</main>\n"
      ],
      "text/plain": [
       "<IPython.core.display.HTML object>"
      ]
     },
     "metadata": {},
     "output_type": "display_data"
    }
   ],
   "source": [
    "%%html\n",
    "<main>\n",
    "  <article>\n",
    "    <header>\n",
    "      <h2>Minha Postagem no Blog 2</h2>\n",
    "      <p>Escrita por João Silva</p>\n",
    "    </header>\n",
    "    <p>Aqui está o conteúdo da minha segunda postagem no blog.</p>\n",
    "    <p>Ele também pode conter vários parágrafos e outros elementos HTML.</p>\n",
    "    <footer>\n",
    "      <p>Publicado em 1º de Junho de 2023</p>\n",
    "    </footer>\n",
    "  </article>\n",
    "  <article>\n",
    "    <header>\n",
    "      <h2>Minha Postagem no Blog</h2>\n",
    "      <p>Escrita por João Silva</p>\n",
    "    </header>\n",
    "    <p>Aqui está o conteúdo da minha primeira postagem no blog.</p>\n",
    "    <p>Ele pode conter vários parágrafos e outros elementos HTML.</p>\n",
    "    <footer>\n",
    "      <p>Publicado em 24 de Maio de 2023</p>\n",
    "    </footer>\n",
    "  </article>\n",
    "</main>"
   ]
  },
  {
   "attachments": {},
   "cell_type": "markdown",
   "metadata": {},
   "source": [
    "##### A diferença entre `section` e `article`\n",
    "É muito comum que novos desenvolvedores confundam-se sobre quando usar `<section>` e quando usar `<article>`. Pois, vamos tentar sanar essa dúvida aqui e agora!\n",
    "\n",
    "Ambos são elementos usados para estruturar semanticamente o conteúdo do HTML, mas possuem significados e casos de uso diferentes.\n",
    "\n",
    "O elemento `<section>` é usado para **agrupar conteúdos relacionados**, como um grupo de parágrafos sobre um determinado assunto ou um grupo de links de navegação relacionados. Ele não possui qualquer significa inerente sobre a **importância** ou **hierarquia** do conteúdo e pode ser usado para organizar conteúdos de qualquer forma que faça sentido.\n",
    "\n",
    "Por outro lado, o elemento `<article>` é usado para representar **uma parte do conteúdo independente e autônoma que possa se manter sozinha**. Ele é frequentemente usado dentro de um elemento `<section>`, mas também pode ser usado por conta própria. Ele é visto como **mais importante** ou **hierarquicamente mais alto** do que uma `<section>`.\n",
    "\n",
    "#### O Elemento `aside`\n",
    "O elemento `<aside>` é um elemento semântico do HTML5 usado para definir conteúdos que estão indiretamente relacionados com o conteúdo principal de uma página web. Ele pode ser usado para barras laterais, textos explicativos e outros tipos de conteúdo que não são essenciais para o conteúdo principal, mas fornecem contexto adicional.\n",
    "\n",
    "Veja alguns usos e benefícios do elemento `<aside>`:\n",
    "\n",
    "- **Barras Laterais:** O elemento `<aside>` pode ser usado para definir uma barra lateral que contém informações adicionais que não são críticas para o conteúdo principal. Isso pode incluir menus de navegação, links relacionados ou propagandas."
   ]
  },
  {
   "cell_type": "code",
   "execution_count": 35,
   "metadata": {
    "vscode": {
     "languageId": "html"
    }
   },
   "outputs": [
    {
     "data": {
      "text/html": [
       "<main>\n",
       "  <article>\n",
       "    <h2>Título do Artigo</h2>\n",
       "    <p>Conteúdo do artigo...</p>\n",
       "  </article>\n",
       "  <aside>\n",
       "    <h3>Artigos Relacionados</h3>\n",
       "    <ul>\n",
       "      <li><a href=\"\">Artigo 1</a></li>\n",
       "      <li><a href=\"\">Artigo 2</a></li>\n",
       "      <li><a href=\"\">Artigo 3</a></li>\n",
       "    </ul>\n",
       "  </aside>\n",
       "</main>\n"
      ],
      "text/plain": [
       "<IPython.core.display.HTML object>"
      ]
     },
     "metadata": {},
     "output_type": "display_data"
    }
   ],
   "source": [
    "%%html\n",
    "<main>\n",
    "  <article>\n",
    "    <h2>Título do Artigo</h2>\n",
    "    <p>Conteúdo do artigo...</p>\n",
    "  </article>\n",
    "  <aside>\n",
    "    <h3>Artigos Relacionados</h3>\n",
    "    <ul>\n",
    "      <li><a href=\"\">Artigo 1</a></li>\n",
    "      <li><a href=\"\">Artigo 2</a></li>\n",
    "      <li><a href=\"\">Artigo 3</a></li>\n",
    "    </ul>\n",
    "  </aside>\n",
    "</main>"
   ]
  },
  {
   "attachments": {},
   "cell_type": "markdown",
   "metadata": {},
   "source": [
    "- **Textos Explicativos:** O elemento `<aside>` pode ser usado para destacar um texto explicativo, como uma citação, um fato ou uma anotação. Isso pode ajudar a chamar a atenção do leitor para informações importantes sem interromper o fluxo do conteúdo principal."
   ]
  },
  {
   "cell_type": "code",
   "execution_count": 36,
   "metadata": {
    "vscode": {
     "languageId": "html"
    }
   },
   "outputs": [
    {
     "data": {
      "text/html": [
       "<main>\n",
       "  <article>\n",
       "    <h2>Título do Artigo</h2>\n",
       "    <p>Conteúdo do artigo...</p>\n",
       "  </article>\n",
       "  <aside>\n",
       "    <blockquote>\n",
       "      <p>\"Citação do artigo.\"</p>\n",
       "      <cite>- Nome do Autor</cite>\n",
       "    </blockquote>\n",
       "  </aside>\n",
       "</main>\n"
      ],
      "text/plain": [
       "<IPython.core.display.HTML object>"
      ]
     },
     "metadata": {},
     "output_type": "display_data"
    }
   ],
   "source": [
    "%%html\n",
    "<main>\n",
    "  <article>\n",
    "    <h2>Título do Artigo</h2>\n",
    "    <p>Conteúdo do artigo...</p>\n",
    "  </article>\n",
    "  <aside>\n",
    "    <blockquote>\n",
    "      <p>\"Citação do artigo.\"</p>\n",
    "      <cite>- Nome do Autor</cite>\n",
    "    </blockquote>\n",
    "  </aside>\n",
    "</main>"
   ]
  },
  {
   "attachments": {},
   "cell_type": "markdown",
   "metadata": {},
   "source": [
    "- **Conteúdo Adaptativo:** O elemento `<aside>` também pode ser usado para design web responsivo para adaptar-se em tamanhos de tela diferentes. Em telas maiores, o elemento `<aside>` pode ser usado para exibir uma barra lateral com informações adicionais, enquanto em telas menores, ele pode ser ocultado ou exibido abaixo do conteúdo principal. Isso ficará mais claro quando entrarmos em CSS e Design Responsivo.\n",
    "\n",
    "#### O Elemento `footer`\n",
    "O elemento `<footer>` é uma tag semântica do HTML que é usada para representar a seção de rodapé de uma página web ou de uma seção de um documento. Ele geralmente fica localizado na parte inferior da webpage e frequentemente contém informações sobre o autor, direitos autorais, links de páginas relacionadas ou links de redes sociais.\n",
    "\n",
    "Seu propósito principal é fornecer informações e contexto adicionais sobre o conteúdo de uma página web ou documento.\n",
    "\n",
    "Veja um exemplo simples de como o elemento `<footer>` pode ser usado:"
   ]
  },
  {
   "cell_type": "code",
   "execution_count": 37,
   "metadata": {
    "vscode": {
     "languageId": "html"
    }
   },
   "outputs": [
    {
     "data": {
      "text/html": [
       "<footer>\n",
       "  <p>Direitos Reservados &copy; 2023 Nome da Empresa</p>\n",
       "</footer>\n"
      ],
      "text/plain": [
       "<IPython.core.display.HTML object>"
      ]
     },
     "metadata": {},
     "output_type": "display_data"
    }
   ],
   "source": [
    "%%html\n",
    "<footer>\n",
    "  <p>Direitos Reservados &copy; 2023 Nome da Empresa</p>\n",
    "</footer>"
   ]
  },
  {
   "attachments": {},
   "cell_type": "markdown",
   "metadata": {},
   "source": [
    "Esse exemplo mostra um elemento `<footer>` básico com uma simples declaração de direitos autorais. A expressão `&copy;` trata-se de uma entidade HTML.\n",
    "\n",
    "##### Entidades HTML\n",
    "Entidades HTML são códigos de caracteres especiais que são usados para exibir caracteres reservados ou caracteres com significados especiais em documentos HTML. Por exemplo, se você quiser exibir o sinal \"menor que\" (<) em seu documento HTML, você não pode simplesmente digitar o símbolo \"<\", uma vez que ele será interpretado como uma tag de abertura. Ao invés disso, você terá que usar a entidade HTML para \"menor que\", que é `&lt;`.\n",
    "\n",
    "As entidades HTML sempre inicial com e comercial (`&`) e terminal com ponto-e-vírgula (`;`). Existem muitas entidades HTML predefinidas, incluindo:\n",
    "\n",
    "- `&lt;` para o símbolo \"menor que\" (<)\n",
    "- `&gt;` para o símbolo \"maior que\" (>)\n",
    "- `&amp;` para o símbolo \"e comercial\" (&)\n",
    "- `&quot;` para o símbolo \"aspas duplas\" (\")\n",
    "- `&apos;` para o símbolo \"aspas simples\" (')\n",
    "- `&copy;` para o símbolo \"direito autoral\" (&copy;)\n",
    "- `&reg;` para o símbolo \"marca registrada\" (&reg;)\n",
    "- `&nbsp;` para o símbolo \"espaço em branco\" (&nbsp;)\n",
    "\n",
    "Também é possível usar valores decimais ou hexadecimais para representar caracteres usando entidades. Por exemplo, a entidade `&#169;` representa o símbolo de direito autoral (&copy;) usando valor decimal e a entidade `&#xA9;` representa o mesmo símbolo usando valor hexadecimal.\n",
    "\n",
    "Existem diversos websites que listam todas as entidades HTML. Você pode encontrar um deles em [FreeFormatter.com](https://www.freeformatter.com/html-entities.html).\n",
    "\n",
    "### Criando Páginas Web Acessíveis com HTML Semântico\n",
    "Criar páginas web acessíveis é importante, pois garante que todos, incluindo pessoas com deficiências, possam acessar e usar seu conteúdo. Acessibilidade na Web significa projetar e desenvolver sites e aplicações web para que possam ser usados por pessoas com várias habilidades e deficiências, incluindo deficientes visuais, auditivos ou com deficiências cognitivas, físicas ou neurológicas.\n",
    "\n",
    "Existem várias razões importantes para se criar webpages acessíveis:\n",
    "\n",
    "1. **Requisitos Legais:** Em muitos países, incluindo os Estados Unidos e a União Europeia, existem requisitos legais para que websites e aplicações web sejam acessíveis para pessoas com deficiências.\n",
    "2. **Responsabilidade Ética e Social:** Tornar o seu site acessível é uma responsabilidade ética e social. Isso ajuda a criar uma sociedade inclusiva onde todos, independentemente da habilidade, podem participar e contribuir no mundo digital.\n",
    "3. **Melhor Experiência do Usuário:** Websites acessíveis são projetados com a experiência do usuário em mente. Ao tornar seu website acessível, você poderá aprimorar a experiência do usuário para todos, incluindo pessoas com deficiências.\n",
    "4. **Público Aumentado:** Ao tornar seu website acessível, você pode alcançar um público maior, incluindo pessoas com deficiências que teriam sido excluídas de seu conteúdo no passado.\n",
    "5. **Otimização dos Mecanismos de Busca Aprimorada:** Websites acessíveis são mais fáceis para os mecanismos de buscas encontrar e indexar, o que pode aprimorar suas classificações nos sites de pesquisa.\n",
    "\n",
    "#### Melhores Práticas no Uso de HTML Semântico para Acessibilidade\n",
    "Utilizar HTML semântico é uma parte essencial da criação de páginas web acessíveis. Abaixo você encontra algumas das melhores práticas para usar HTML semântico para aprimorar a acessibilidade:\n",
    "\n",
    "1. **Utilize elementos de cabeçalho para criar um esboço lógico do documento:** Utilize `<h1>` como o cabeçalho principal da página, seguido por subcabeçalhos `<h2>` e assim por diante. Isso ajuda os usuários com leitores de tela a compreender a estrutura da página.\n",
    "2. **Utilize os elementos semânticos HTML5 apropriados:** Utilize `<header>` para conteúdos introdutórios, `<nav>` para menus de navegação, `<main>` para o conteúdo principal da página, `<article>` para conteúdos independentes que podem se manter sozinhos, `<section>` para agrupar conteúdos relacionados, `<aside>` para conteúdos suplementares e `<footer>` para o rodapé da página.\n",
    "3. **Utilize textos descritivos e significativos para links e botões:** Utilize textos que descrevam claramente a ação ou destino de um link ou botão. Evite usar textos genéricos como \"clique aqui\" ou \"leia mais\".\n",
    "4. **Utilize o atributo `alt` para imagens:** Utilize o atributo `alt` para descrever o conteúdo da imagem para usuários que não conseguem enxergá-la. Isso também é importante para mecanismos de busca e pode aprimorar a SEO do website.\n",
    "5. **Utilize o elemento `<label>` para controles de formulário:** Utilize o elemento `<label>` para associar controles de formulários e seus rótulos. Isso ajuda os usuários com leitores de tela a compreender o propósito do controle.\n",
    "6. **Utilize o atributo `title` para dicas:** Utilize o atributo `title` para fornecer informações adicionais sobre um link ou imagem quando o usuário coloca o mouse acima deles.\n",
    "\n",
    "<sup>P.S. Você ainda estudará sobre botões, formulários e rótulos no Módulo 3, mas mantenha essas práticas em mente para quando chegar lá.</sup>\n",
    "\n",
    "##### ARIA\n",
    "ARIA significa *Accessible Rich Internet Applications* ou Aplicações para a Internet Ricas em Acessibilidade é um conjunto de atributos que podem ser adicionados aos elementos do HTML para tornar o conteúdo da web mais acessível para pessoas com deficiências. Esses atributos fornecem informações adicionais para tecnologias de assistência, como leitores de tela, para a compreensão do significado e propósito das diferentes partes de uma página web.\n",
    "\n",
    "O estudo dos atributo ARIA foge do escopo desse curso, mas se você tiver interesse sugiro que leia mais sobre o tema em [MDN Web Docs](https://developer.mozilla.org/pt-BR/docs/Web/Accessibility/ARIA)."
   ]
  },
  {
   "attachments": {},
   "cell_type": "markdown",
   "metadata": {},
   "source": [
    "### Autoavaliação 5\n",
    "#### Questionário\n",
    "1. Como o uso do HTML semântico aprimora o SEO de um website?\n",
    "2. De que maneiras o HTML semântico aprimora a experiência do usuário de um website?\n",
    "3. Como o uso de HTML semântico pode impactar positivamente na acessibilidade de um website para usuários com deficiências?\n",
    "4. Quais são alguns exemplos de elementos semânticos do HTML que podem aprimorar a estrutura e legibilidade do conteúdo de um website?\n",
    "5. Como o uso do HTML semântico beneficia os desenvolvedores de websites em termos de manutenção e atualizações futuras?"
   ]
  },
  {
   "attachments": {},
   "cell_type": "markdown",
   "metadata": {},
   "source": [
    "## Avaliação Final do Módulo 1\n",
    "### Criação de um Portfólio Pessoal\n",
    "Nesta avaliação final, você criará uma página web de um portfólio pessoal usando HTML. Sua webpage deve incluir os seguintes elementos:\n",
    "\n",
    "1. Uma seção introdutória que contém seu nome e um menu de navegação com links para as diferente seções de sua página.\n",
    "2. Uma seção principal que contém três seções:\n",
    "    - Uma seção \"Sobre Mim\" que inclui uma biografia curta e uma imagem de perfil.\n",
    "    - Uma seção \"Projetos\" que inclui descrições e imagens de pelo menos três projetos nos quais você trabalhou.\n",
    "    - Uma seção \"Contatos\" que inclui suas informações de contato.\n",
    "3. Uma seção de rodapé que inclui seu nome e informações de direitos autorais.\n",
    "\n",
    "Certifique-se de usar elementos semânticos do HTML, como `<header>`, `<nav>`, `<main>`, `<section>`, `<article>`, `<aside>` e `<footer>` (não necessariamente todos eles), para estruturar sua página web. Além disso, garanta que sua webpage é acessível seguindo as melhores práticas para HTML semântico e, se desejar, atributos ARIA.\n",
    "\n",
    "Quando completar sua página de portfólio pessoal, faça upload dela em algum lugar de sua escolha (e.g. Github) e me envie o link de acesso. Ou, se preferir, compacte a pasta que contenha os arquivos de sua webpage e me envie o arquivo compactado (e.g. .zip, .rar).\n",
    "\n",
    "Boa sorte!"
   ]
  },
  {
   "attachments": {},
   "cell_type": "markdown",
   "metadata": {},
   "source": [
    "## Considerações Finais\n",
    "Parabéns por completar o Módulo 1! Você deu um passo importante para se tornar um desenvolvedor web. Com HTML, você aprendeu como criar a estrutura e o conteúdo das páginas web. Agora você possui o conhecimento fundamental para começar a construir suas próprias webpages e continuar sua jornada para se tornar um desenvolvedor web proficiente.\n",
    "\n",
    "Lembre-se que criar páginas web não é apenas sobre torná-las bonitas, mas também acessíveis para todos os usuários. Usando HTML semântico, você pode aprimorar a acessibilidade de suas páginas, aprimorar a experiência do usuário para todos, incluindo pessoas com deficiências.\n",
    "\n",
    "No Módulo 2, você aprenderá sobre CSS, o que lhe permitirá adicionar estilo e layout para suas webpages. Então continue o bom trabalho e feliz codificação!"
   ]
  }
 ],
 "metadata": {
  "kernelspec": {
   "display_name": "Python 3",
   "language": "python",
   "name": "python3"
  },
  "language_info": {
   "codemirror_mode": {
    "name": "ipython",
    "version": 3
   },
   "file_extension": ".py",
   "mimetype": "text/x-python",
   "name": "python",
   "nbconvert_exporter": "python",
   "pygments_lexer": "ipython3",
   "version": "3.11.3"
  },
  "orig_nbformat": 4
 },
 "nbformat": 4,
 "nbformat_minor": 2
}
