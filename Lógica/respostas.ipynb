{
 "cells": [
  {
   "attachments": {},
   "cell_type": "markdown",
   "metadata": {},
   "source": [
    "# Respostas dos Exercícios\n",
    "\n",
    "1. Escreva uma função que recebe dois inteiros e retorna sua soma. Chame a função e imprima o valor retornado na tela."
   ]
  },
  {
   "cell_type": "code",
   "execution_count": 1,
   "metadata": {},
   "outputs": [
    {
     "name": "stdout",
     "output_type": "stream",
     "text": [
      "5\n"
     ]
    }
   ],
   "source": [
    "def sum(a, b):\n",
    "  return a + b\n",
    "\n",
    "result = sum(2, 3)\n",
    "print(result)"
   ]
  },
  {
   "attachments": {},
   "cell_type": "markdown",
   "metadata": {},
   "source": [
    "2. Escreva um programa que imprima todos os valores pares de 1 até 20."
   ]
  },
  {
   "cell_type": "code",
   "execution_count": 2,
   "metadata": {},
   "outputs": [
    {
     "name": "stdout",
     "output_type": "stream",
     "text": [
      "2\n",
      "4\n",
      "6\n",
      "8\n",
      "10\n",
      "12\n",
      "14\n",
      "16\n",
      "18\n",
      "20\n"
     ]
    }
   ],
   "source": [
    "i = 2\n",
    "while i <= 20:\n",
    "    print(i)\n",
    "    i += 2"
   ]
  },
  {
   "attachments": {},
   "cell_type": "markdown",
   "metadata": {},
   "source": [
    "3. Escreva um programa que solicite a idade do usuário e lhes informe se ele tem idade suficiente para votar."
   ]
  },
  {
   "cell_type": "code",
   "execution_count": 5,
   "metadata": {},
   "outputs": [
    {
     "name": "stdout",
     "output_type": "stream",
     "text": [
      "Você tem idade suficiente para votar e seu voto é obrigatório!\n"
     ]
    }
   ],
   "source": [
    "age = int(input(\"Digite sua idade: \"))\n",
    "\n",
    "if age >= 16 and age < 18:\n",
    "  print(\"Você tem idade suficiente para votar, mas seu voto é facultativo.\")\n",
    "elif age >= 18:\n",
    "  print(\"Você tem idade suficiente para votar e seu voto é obrigatório!\")\n",
    "else:\n",
    "  print(\"Você ainda não tem idade suficiente para votar.\")"
   ]
  },
  {
   "attachments": {},
   "cell_type": "markdown",
   "metadata": {},
   "source": [
    "4. Escreva um programa que receba uma lista de inteiros e retorne a soma de todos os números positivos na lista."
   ]
  },
  {
   "cell_type": "code",
   "execution_count": 6,
   "metadata": {},
   "outputs": [
    {
     "name": "stdout",
     "output_type": "stream",
     "text": [
      "23\n"
     ]
    }
   ],
   "source": [
    "def sum_positive_numbers(numbers):\n",
    "  total = 0\n",
    "  for num in numbers:\n",
    "    if num > 0:\n",
    "      total += num\n",
    "  return total\n",
    "\n",
    "my_list = [-3, 5, -1, 10, 8, -4]\n",
    "result = sum_positive_numbers(my_list)\n",
    "print(result)"
   ]
  },
  {
   "attachments": {},
   "cell_type": "markdown",
   "metadata": {},
   "source": [
    "5. Escreva um programa que receba uma string e conte o número de vogais nela. <b>Desafio:</b> Consegue incluir na contagem vogais com acentos? (á, ã, é, etc.)"
   ]
  },
  {
   "cell_type": "code",
   "execution_count": 7,
   "metadata": {},
   "outputs": [
    {
     "name": "stdout",
     "output_type": "stream",
     "text": [
      "O número de vogais em 'Olá, mundo!' é: 3\n"
     ]
    }
   ],
   "source": [
    "def count_vowels(s):\n",
    "  \"\"\"\n",
    "  Essa função recebe uma string como entrada e retorna o número de vogais na string.\n",
    "  \"\"\"\n",
    "  vowels = ['a', 'e', 'i', 'o', 'u'] # lista de vogais\n",
    "  count = 0 # variável para manter o registro do número de vogais\n",
    "  for char in s:\n",
    "    if char.lower() in vowels:\n",
    "      count += 1\n",
    "  return count\n",
    "\n",
    "s = \"Olá, mundo!\"\n",
    "num_vowels = count_vowels(s)\n",
    "print(f\"O número de vogais em '{s}' é: {num_vowels}\")"
   ]
  },
  {
   "attachments": {},
   "cell_type": "markdown",
   "metadata": {},
   "source": [
    "E vamos ao <b>desafio</b>:"
   ]
  },
  {
   "cell_type": "code",
   "execution_count": 9,
   "metadata": {},
   "outputs": [
    {
     "name": "stdout",
     "output_type": "stream",
     "text": [
      "O número de vogais em 'Olá, mundo!' é: 4\n"
     ]
    }
   ],
   "source": [
    "def count_vowels(s):\n",
    "  \"\"\"\n",
    "  Essa função recebe uma string como entrada e retorna o número de vogais na string.\n",
    "  \"\"\"\n",
    "  vowels = \"aeiouáéíóúãẽĩõũ\"\n",
    "  count = 0 # variável para manter o registro do número de vogais\n",
    "  for char in s:\n",
    "    if char.lower() in vowels:\n",
    "      count += 1\n",
    "  return count\n",
    "\n",
    "s = \"Olá, mundo!\"\n",
    "num_vowels = count_vowels(s)\n",
    "print(f\"O número de vogais em '{s}' é: {num_vowels}\")"
   ]
  },
  {
   "attachments": {},
   "cell_type": "markdown",
   "metadata": {},
   "source": [
    "6. Escreva um programa que imprima todos os números primos entre 1 e 100."
   ]
  },
  {
   "cell_type": "code",
   "execution_count": 13,
   "metadata": {},
   "outputs": [
    {
     "name": "stdout",
     "output_type": "stream",
     "text": [
      "2\n",
      "3\n",
      "5\n",
      "7\n",
      "11\n",
      "13\n",
      "17\n",
      "19\n",
      "23\n",
      "29\n",
      "31\n",
      "37\n",
      "41\n",
      "43\n",
      "47\n",
      "53\n",
      "59\n",
      "61\n",
      "67\n",
      "71\n",
      "73\n",
      "79\n",
      "83\n",
      "89\n",
      "97\n"
     ]
    }
   ],
   "source": [
    "for num in range(2, 101):\n",
    "  # checa se o número é primo\n",
    "  for i in range(2, num):\n",
    "    if (num % i) == 0:\n",
    "      break\n",
    "  else:\n",
    "    print(num)"
   ]
  },
  {
   "attachments": {},
   "cell_type": "markdown",
   "metadata": {},
   "source": [
    "7. Escreva um programa que solicite que o usuário digite um número e diga se o número digitado é par ou ímpar."
   ]
  },
  {
   "cell_type": "code",
   "execution_count": 14,
   "metadata": {},
   "outputs": [
    {
     "name": "stdout",
     "output_type": "stream",
     "text": [
      "O número digitado é ímpar.\n"
     ]
    }
   ],
   "source": [
    "num = int(input(\"Digite um número: \"))\n",
    "if num % 2 == 0:\n",
    "  print(\"O número digitado é par.\")\n",
    "else:\n",
    "  print(\"O número digitado é ímpar.\")"
   ]
  },
  {
   "attachments": {},
   "cell_type": "markdown",
   "metadata": {},
   "source": [
    "8. Escreva um programa que receba uma lista de inteiros e retorne o número mais alto na lista."
   ]
  },
  {
   "cell_type": "code",
   "execution_count": 16,
   "metadata": {},
   "outputs": [
    {
     "name": "stdout",
     "output_type": "stream",
     "text": [
      "O número máximo na lista é: 9\n"
     ]
    }
   ],
   "source": [
    "def find_max(numbers):\n",
    "  max_num = numbers[0]\n",
    "  for num in numbers:\n",
    "    if num > max_num:\n",
    "      max_num = num\n",
    "  return max_num\n",
    "\n",
    "numbers = [3, 7, 1, 9, 2, 5]\n",
    "max_number = find_max(numbers)\n",
    "print(\"O número máximo na lista é:\", max_number)"
   ]
  },
  {
   "attachments": {},
   "cell_type": "markdown",
   "metadata": {},
   "source": [
    "9. Escreva um programa que receba uma lista de inteiros e retorne a soma de todos os números pares na lista."
   ]
  },
  {
   "cell_type": "code",
   "execution_count": 17,
   "metadata": {},
   "outputs": [
    {
     "name": "stdout",
     "output_type": "stream",
     "text": [
      "A soma dos números pares na lista é: 24\n"
     ]
    }
   ],
   "source": [
    "def sum_even_numbers(numbers):\n",
    "  total = 0\n",
    "  for num in numbers:\n",
    "    if num % 2 == 0:\n",
    "      total += num\n",
    "  return total\n",
    "\n",
    "numbers = [2, 5, 8, 11, 14]\n",
    "print(\"A soma dos números pares na lista é:\", sum_even_numbers(numbers))"
   ]
  },
  {
   "attachments": {},
   "cell_type": "markdown",
   "metadata": {},
   "source": [
    "10. Escreva um programa que receba uma lista de inteiros e retorne uma nova lista onde cada elemento é o inteiro original multiplicado por 2, se ele for par, ou dividido por 2, se ele for ímpar."
   ]
  },
  {
   "cell_type": "code",
   "execution_count": 19,
   "metadata": {},
   "outputs": [
    {
     "name": "stdout",
     "output_type": "stream",
     "text": [
      "[0.5, 4, 1.5, 8, 2.5, 12, 3.5, 16, 4.5, 20]\n"
     ]
    }
   ],
   "source": [
    "def modify_list(numbers):\n",
    "  new_list = []\n",
    "  for num in numbers:\n",
    "    if num % 2 == 0:\n",
    "      new_list.append(num * 2)\n",
    "    else:\n",
    "      new_list.append(num / 2)\n",
    "  return new_list\n",
    "\n",
    "numbers = [1, 2, 3, 4, 5, 6, 7, 8, 9, 10]\n",
    "new_numbers = modify_list(numbers)\n",
    "print(new_numbers)"
   ]
  }
 ],
 "metadata": {
  "kernelspec": {
   "display_name": "Python 3",
   "language": "python",
   "name": "python3"
  },
  "language_info": {
   "codemirror_mode": {
    "name": "ipython",
    "version": 3
   },
   "file_extension": ".py",
   "mimetype": "text/x-python",
   "name": "python",
   "nbconvert_exporter": "python",
   "pygments_lexer": "ipython3",
   "version": "3.10.6"
  },
  "orig_nbformat": 4
 },
 "nbformat": 4,
 "nbformat_minor": 2
}
