{
 "cells": [
  {
   "attachments": {},
   "cell_type": "markdown",
   "metadata": {},
   "source": [
    "# Introdução à Lógica de Programação"
   ]
  },
  {
   "attachments": {},
   "cell_type": "markdown",
   "metadata": {},
   "source": [
    "## Lógica\n",
    "Lógica de programação é a técnica de encadear pensamentos para atingir determinado objetivo.\n",
    "\n",
    "## Sequência Lógica\n",
    "Sequência Lógica são passos executados até atingir um objetivo ou solução de um problema.\n",
    "\n",
    "## Instruções\n",
    "Instruções são um conjunto de regras ou normas definidas para a realização ou emprego de algo. Em informática, é o que indica a um computador uma ação elementar a executar.\n",
    "\n",
    "## Algoritmo\n",
    "É uma sequência finita de passos que levam a execução de uma tarefa; uma receita, uma sequência de instruções que dão cabo de uma meta específica. Tais tarefas devem ser claras e precisas.\n",
    "\n",
    "## Programas\n",
    "São algoritmos escritos em uma linguagem de computador e que são interpretados e executados por uma máquina, no caso um computador. Em natureza, é muito específico e rígido em relação aos algoritmos da vida real.\n",
    "\n",
    "# Desenvolvendo Algoritmos\n",
    "## Pseudocódigo\n",
    "Os algoritmos são descritos em uma linguagem chamada <u><b>pseudocódigo</b></u>. O algoritmo deve ser fácil de interpretar e fácil de codificar; deve ser um intermediário entre a linguagem falada e a linguagem de programação.\n",
    "\n",
    "## Fases\n",
    "Ao montar um algoritmo, precisamos primeiro dividir o problema apresentado em três fases fundamentais:\n",
    "\n",
    "### Entrada\n",
    "São os dados de entrada do algoritmo.\n",
    "\n",
    "### Processamento\n",
    "São os procedimentos utilizados para chegar ao resultado final.\n",
    "\n",
    "### Saída\n",
    "São os dados já processados.\n",
    "\n",
    "# Estruturas de Programação\n",
    "## Conceitos\n",
    "### Variável\n",
    "Um algoritmo recebe dados. Tais dados precisam ser armazenados na memória do computador para serem utilizados no processamento. Para isso, utilizam-se as variáveis, que nada mais são que espaços reservados na memória do computador.\n",
    "\n",
    "Cada variável possui um nome e um tipo.\n",
    "\n",
    "#### Tipos de Dados\n",
    "|Tipo|Exemplos|\n",
    "|-|-|\n",
    "|Inteiros (`int`)|-2 147 483 -648|\n",
    "|Reais (`float`)|-1.7 30.89 23.45 -80.33|\n",
    "|Lógico (`boolean`)|Verdadeiro (`True`) ou Falso (`False`)|\n",
    "|Caractere (`char`)|'a' 'b' 'c'|\n",
    "|Cadeia (`string`)|\"aluno\", \"bola1\", \"0,33\"|\n",
    "\n",
    "### Operadores Aritméticos\n",
    "Símbolos utilizados para realizar as operações aritméticas elementares. Os mais utilizados são:\n",
    "\n",
    "|Operador|Significado|\n",
    "|-|-|\n",
    "|+|Adição|\n",
    "|-|Subtração|\n",
    "|/|Divisão|\n",
    "|*|Multiplicação|\n",
    "\n",
    "#### Precedência de Operadores\n",
    "São, geralmente, iguais às regras da álgebra.\n",
    "\n",
    "1. <b>():</b> Expressões contidas nos parênteses são calculadas primeiro. Em caso de parênteses aninhados, o mais interno é resolvido primeiro. Em caso de parênteses no mesmo nível, resolve-se da esquerda para direita.\n",
    "2. <b>* /:</b> As operações de multiplicação e divisão são calculadas em segundo lugar. Em caso de várias, resolve-se da esquerda para direita.\n",
    "3. <b>+ -:</b> As operações de adição e subtração são calculadas por último. Em caso de várias, resolve-se da esquerda para direita.\n",
    "\n",
    "## Estrutura Sequencial\n",
    "Um conjunto de instruções no qual cada instrução será executada em sequência.\n",
    "\n",
    "1. Inicia-se com a declaração de variáveis (entrada)\n",
    "2. São executados os comandos de entrada e/ou de atribuição (entrada)\n",
    "3. Realiza-se o processamento dos dados (processamento)\n",
    "4. Realiza-se a saída de dados (saída)\n",
    "\n",
    "### Declaração de Variáveis\n",
    "As variáveis são declaradas logo após se determinar qual será o seu tipo. Em algumas linguagens de programação, como Python, não é necessário especificar o tipo, pois a linguagem faz isso automaticamente conforme o tipo de dado armazenado na variável. Veja abaixo a declaração de variáveis em pseudocódigo:"
   ]
  },
  {
   "attachments": {},
   "cell_type": "markdown",
   "metadata": {},
   "source": [
    "INTEIRO x, y, num <br/>\n",
    "REAL K, Z, CONS <br/>\n",
    "CARACTERE x1, x2, x3"
   ]
  },
  {
   "attachments": {},
   "cell_type": "markdown",
   "metadata": {},
   "source": [
    "Acima foram declaradas:\n",
    "\n",
    "- 3 variáveis do tipo inteiro\n",
    "- 3 variáveis do tipo real\n",
    "- 3 variáveis do tipo caractere\n",
    "\n",
    "### Comando de Atribuição\n",
    "É utilizado para atribuir valores ou operações à variáveis. Em pseudocódigo:"
   ]
  },
  {
   "attachments": {},
   "cell_type": "markdown",
   "metadata": {},
   "source": [
    "x ← 4 <br/>\n",
    "y ← x+3 <br/>\n",
    "Z ← 2.5 <br/>\n",
    "x1 ← 'F'"
   ]
  },
  {
   "attachments": {},
   "cell_type": "markdown",
   "metadata": {},
   "source": [
    "Os comandos de atribuição foram:\n",
    "- A variável `x` recebe o valor 4\n",
    "- A variável `y` recebe o resultado da operação `x+3`, ou seja, 4+3\n",
    "- A variável `Z` recebe o valor 2.5\n",
    "- A variável `x1` recebe o caracter F\n",
    "\n",
    "### Comando de Entrada\n",
    "É utilizado para receber dados digitados pelo usuário. Os dados recebidos são armazenados em variáveis. Em pseudocódigo:"
   ]
  },
  {
   "attachments": {},
   "cell_type": "markdown",
   "metadata": {},
   "source": [
    "LEIA x <br/>\n",
    "LEIA y <br/>\n",
    "LEIA x,y"
   ]
  },
  {
   "attachments": {},
   "cell_type": "markdown",
   "metadata": {},
   "source": [
    "Os comandos de entrada foram:\n",
    "- Entrada de dados pelo teclado, a variável `x` recebe o valor que será digitado\n",
    "- Entrada de dados pelo teclado, a variável `y` recebe o valor que será digitado\n",
    "- Entrada de dados pelo teclado, as variáveis `x` e `y` recebem os valores que serão digitados\n",
    "\n",
    "### Comando de Saída\n",
    "Utilizado para mostrar dados na tela. Estes dados podem ser conteúdos de variáveis e/ou mensagens. Em pseudocódigo:"
   ]
  },
  {
   "attachments": {},
   "cell_type": "markdown",
   "metadata": {},
   "source": [
    "ESCREVA x <br/>\n",
    "ESCREVA (\"Valor de x:\", x)"
   ]
  },
  {
   "attachments": {},
   "cell_type": "markdown",
   "metadata": {},
   "source": [
    "Os comandos de saída foram:\n",
    "- Saída de dados na tela será o valor de `x`\n",
    "- Saída de dados na tela será a expressão \"O valor de x:\" seguida pelo valor da variável `x`\n",
    "\n",
    "Agora, vamos ver um pseudocódigo completo de um programa que calcula a média de três valores:"
   ]
  },
  {
   "attachments": {},
   "cell_type": "markdown",
   "metadata": {},
   "source": [
    "INÍCIO <br/>\n",
    "&nbsp;&nbsp;&nbsp;&nbsp;INTEIRO n1, n2, n3, resultado; <br/>\n",
    "&nbsp;&nbsp;&nbsp;&nbsp;LEIA n1; <br/>\n",
    "&nbsp;&nbsp;&nbsp;&nbsp;LEIA n2; <br/>\n",
    "&nbsp;&nbsp;&nbsp;&nbsp;n3 ← 20; <br/>\n",
    "&nbsp;&nbsp;&nbsp;&nbsp;resultado ← (n1+n2+n3) / 3; <br/>\n",
    "&nbsp;&nbsp;&nbsp;&nbsp;ESCREVA (\"Valor da média:\", resultado); <br/>\n",
    "FIM"
   ]
  },
  {
   "attachments": {},
   "cell_type": "markdown",
   "metadata": {},
   "source": [
    "Agora, vamos ver como esse mesmo programa seria escrito em duas linguagens de programações diferentes: C e Python."
   ]
  },
  {
   "attachments": {},
   "cell_type": "markdown",
   "metadata": {},
   "source": [
    "```C\n",
    "#include <stdio.h>\n",
    "/* função main inicia a execução do programa */\n",
    "int main() {\n",
    "  /* declaração das variáveis */\n",
    "  int n1, n2, n3;\n",
    "  float result;\n",
    "  scanf(\"%d\", &n1) /* comando de entrada, será digitado o valor de n1 */\n",
    "  scanf(\"%d\", &n2) /* comando de entrada, será digitado o valor de n2 */\n",
    "  n3 = 20; /* comando de atribuição, n3 recebe o valor 20 */\n",
    "  result = (n1 + n2 + n3) / 3; /* result recebe o valor da soma n1+n2+n3 dividido por 3; a soma está entre parênteses devido às regras de precedência */\n",
    "  printf(\"Valor da média: %d\", result) /* comando de saída, impressão do valor da média */\n",
    "  return 0; /* valor de retorno caso o programa seja executado com sucesso */\n",
    "}\n",
    "```"
   ]
  },
  {
   "attachments": {},
   "cell_type": "markdown",
   "metadata": {},
   "source": [
    "- `#include <stdio.h>`: inclusão da biblioteca no arquivo. Bibliotecas são arquivos contendo várias funções que podem ser incorporadas aos programas em C. A biblioteca `stdio.h` solicita as funções da biblioteca padrão de entrada/saída.\n",
    "- `int main()`: faz parte de todo programa em C. Todos os programas em C começam a executar a partir da função `main`. A palavra `int` representa que o tipo de valor que a função deve retornar é um inteiro.\n",
    "- `return 0`: Incluída no fim de toda função `main`. Neste caso, se o programa foi concluído com sucesso, mostrará ao final o valor 0 (um inteiro, como estabelecido pela função `main`)."
   ]
  },
  {
   "cell_type": "code",
   "execution_count": 3,
   "metadata": {},
   "outputs": [
    {
     "name": "stdout",
     "output_type": "stream",
     "text": [
      "Valor da média: 24.0\n"
     ]
    }
   ],
   "source": [
    "# declaração, entrada e atribuição das variáveis\n",
    "n1 = int(input()) # será digitado o valor de n1 e convertido para o tipo inteiro\n",
    "n2 = int(input()) # será digitado o valor de n2 e convertido para o tipo inteiro\n",
    "n3 = 20 # n3 recebe o valor 20\n",
    "result = (n1 + n2 + n3) / 3 # result recebe o valor da soma n1+n2+n3 dividido por 3; a soma está entre parênteses devido às regras de precedência\n",
    "print(\"Valor da média:\", result) # comando de saída, impressão do valor da média"
   ]
  },
  {
   "attachments": {},
   "cell_type": "markdown",
   "metadata": {},
   "source": [
    "## Lógica Booleana\n",
    "É um ramo da lógica algébrica que lida com variáveis que podem possuir apenas dois valores possíveis, geralmente verdadeiro ou falso.\n",
    "\n",
    "É usada extensivamente na ciência da computação e em programação para representar e manipular valores e expressões lógicos. Ela é baseada em três operações fundamentais utilizando os seguintes <b>operadores lógicos</b>:\n",
    "\n",
    "1. <b>AND (E):</b> Essa operação pega dois valores Booleanos como entrada e retorna verdadeiro se ambas forem verdadeiras e, caso contrário, falso. É tipicamente representada pelo símbolo `&&`.<br/>Veja exemplos da sintaxe em pseudocódigo e em Python:"
   ]
  },
  {
   "attachments": {},
   "cell_type": "markdown",
   "metadata": {},
   "source": [
    "SE (a E b) <br/>\n",
    "&nbsp;&nbsp;&nbsp;&nbsp;ENTAO <br/>\n",
    "&nbsp;&nbsp;&nbsp;&nbsp;&nbsp;&nbsp;INÍCIO <br/>\n",
    "&nbsp;&nbsp;&nbsp;&nbsp;&nbsp;&nbsp;&nbsp;&nbsp;comando1; <br/>\n",
    "&nbsp;&nbsp;&nbsp;&nbsp;&nbsp;&nbsp;&nbsp;&nbsp;comando2; <br/>\n",
    "&nbsp;&nbsp;&nbsp;&nbsp;&nbsp;&nbsp;FIM"
   ]
  },
  {
   "cell_type": "code",
   "execution_count": 15,
   "metadata": {},
   "outputs": [
    {
     "name": "stdout",
     "output_type": "stream",
     "text": [
      "True\n",
      "False\n",
      "False\n"
     ]
    }
   ],
   "source": [
    "# Verdadeiro e Verdadeiro\n",
    "print(True and True) # Saída: True\n",
    "\n",
    "# Verdadeiro e Falso\n",
    "print(True and False) # Saída: False\n",
    "\n",
    "# Falso e Falso\n",
    "print(False and False) # Saída: False"
   ]
  },
  {
   "attachments": {},
   "cell_type": "markdown",
   "metadata": {},
   "source": [
    "2. <b>OR (OU):</b> Essa operação pega dois valores Booleanos como entrada e retorna verdadeiro se pelo menos uma delas for verdadeira e, caso contrário, falso. É tipicamente representada pelo símbolo `||`"
   ]
  },
  {
   "attachments": {},
   "cell_type": "markdown",
   "metadata": {},
   "source": [
    "SE (a OU b) <br/>\n",
    "&nbsp;&nbsp;&nbsp;&nbsp;ENTAO <br/>\n",
    "&nbsp;&nbsp;&nbsp;&nbsp;&nbsp;&nbsp;&nbsp;&nbsp;INÍCIO <br/>\n",
    "&nbsp;&nbsp;&nbsp;&nbsp;&nbsp;&nbsp;&nbsp;&nbsp;&nbsp;&nbsp;&nbsp;&nbsp;comando1; <br/>\n",
    "&nbsp;&nbsp;&nbsp;&nbsp;&nbsp;&nbsp;&nbsp;&nbsp;&nbsp;&nbsp;&nbsp;&nbsp;comando2; <br/>\n",
    "&nbsp;&nbsp;&nbsp;&nbsp;&nbsp;&nbsp;&nbsp;&nbsp;FIM <br/>"
   ]
  },
  {
   "cell_type": "code",
   "execution_count": 16,
   "metadata": {},
   "outputs": [
    {
     "name": "stdout",
     "output_type": "stream",
     "text": [
      "True\n",
      "True\n",
      "False\n"
     ]
    }
   ],
   "source": [
    "# Verdadeiro ou Verdadeiro\n",
    "print(True or True) # Saída: True\n",
    "\n",
    "# Verdadeiro ou Falso\n",
    "print(True or False) # Saída: True\n",
    "\n",
    "# Falso ou Falso\n",
    "print(False or False) # Saída: False"
   ]
  },
  {
   "attachments": {},
   "cell_type": "markdown",
   "metadata": {},
   "source": [
    "3. <b>NOT (NÃO):</b> Essa operação pega um único valor Booleano como entrada e retorna o valor oposto (verdadeiro se torna falso, falso se torna verdadeiro). É tipicamente representada pelo símbolo `!`"
   ]
  },
  {
   "attachments": {},
   "cell_type": "markdown",
   "metadata": {},
   "source": [
    "SE (NÃO a) <br/>\n",
    "&nbsp;&nbsp;&nbsp;&nbsp;&nbsp;&nbsp;ENTAO <br/>\n",
    "&nbsp;&nbsp;&nbsp;&nbsp;&nbsp;&nbsp;&nbsp;&nbsp;&nbsp;&nbsp;INÍCIO <br/>\n",
    "&nbsp;&nbsp;&nbsp;&nbsp;&nbsp;&nbsp;&nbsp;&nbsp;&nbsp;&nbsp;&nbsp;&nbsp;&nbsp;&nbsp;comando1; <br/>\n",
    "&nbsp;&nbsp;&nbsp;&nbsp;&nbsp;&nbsp;&nbsp;&nbsp;&nbsp;&nbsp;&nbsp;&nbsp;&nbsp;&nbsp;comando2; <br/>\n",
    "&nbsp;&nbsp;&nbsp;&nbsp;&nbsp;&nbsp;&nbsp;&nbsp;&nbsp;&nbsp;FIM"
   ]
  },
  {
   "cell_type": "code",
   "execution_count": 17,
   "metadata": {},
   "outputs": [
    {
     "name": "stdout",
     "output_type": "stream",
     "text": [
      "False\n",
      "True\n"
     ]
    }
   ],
   "source": [
    "# Não Verdadeiro\n",
    "print(not True) # Saída: False\n",
    "\n",
    "# Não Falso\n",
    "print(not False) # Saída: Verdadeiro"
   ]
  },
  {
   "attachments": {},
   "cell_type": "markdown",
   "metadata": {},
   "source": [
    "A lógica Booleana é a fundação de muitas estruturas de programação, como instruções condicionais, repetições e funções.\n",
    "\n",
    "### Operadores Relacionais\n",
    "Os operadores relacionais realizam comparações entre variáveis e são essenciais na lógica Booleana. Eles são:\n",
    "\n",
    "|Operador|Nome|Exemplo|Significado|\n",
    "|-|-|-|-|\n",
    "|>|Maior que|x > y|x é maior que y|\n",
    "|>=|Maior ou igual|x >= y|x é maior ou igual a y|\n",
    "|<|Menor que|x < y|x é menor que y|\n",
    "|<=|Menor ou igual|x <= y|x é menor ou igual a y|\n",
    "|==|Igualdade|x == y|x é igual a y|\n",
    "|!=|Diferença|x != y|x é diferente de y|\n",
    "\n",
    "## Estrutura Condicional\n",
    "São instruções em programação que permitem que o programa tome decisões baseadas em certas condições; permitem que o programa execute códigos diferentes dependendo se uma determinada condição é verdadeira ou falsa.\n",
    "\n",
    "### Estrutura Condicional Simples\n",
    "Expõe que uma instrução ou bloco de instruções só sejam executados se determinada condição for verdadeira. Uma condição é uma comparação que possui dois valores possíveis: verdadeiro ou falso. Veja a estrutura básica em pseudocódigo:"
   ]
  },
  {
   "attachments": {},
   "cell_type": "markdown",
   "metadata": {},
   "source": [
    "SE condição <br/>\n",
    "&nbsp;&nbsp;&nbsp;&nbsp;ENTAO <br/>\n",
    "&nbsp;&nbsp;&nbsp;&nbsp;&nbsp;&nbsp;INÍCIO <br/>\n",
    "&nbsp;&nbsp;&nbsp;&nbsp;&nbsp;&nbsp;&nbsp;&nbsp;comando1; <br/>\n",
    "&nbsp;&nbsp;&nbsp;&nbsp;&nbsp;&nbsp;&nbsp;&nbsp;comando2; <br/>\n",
    "&nbsp;&nbsp;&nbsp;&nbsp;&nbsp;&nbsp;FIM"
   ]
  },
  {
   "attachments": {},
   "cell_type": "markdown",
   "metadata": {},
   "source": [
    "Em Python:"
   ]
  },
  {
   "cell_type": "code",
   "execution_count": 18,
   "metadata": {},
   "outputs": [],
   "source": [
    "condition = True\n",
    "if condition:\n",
    "    # código para executar se a condição for verdadeira\n",
    "    pass"
   ]
  },
  {
   "attachments": {},
   "cell_type": "markdown",
   "metadata": {},
   "source": [
    "Nessa sintaxe, `condition` é uma expressão Booleana que resulta em verdadeiro ou falso. Se a condição for verdadeira, o código dentro da instrução `if` é executada. Se a condição for falsa, o código dentro da instrução `if` é ignorado.\n",
    "\n",
    "Agora vamos a um exemplo mais prático em pseudocódigo e depois em Python:"
   ]
  },
  {
   "attachments": {},
   "cell_type": "markdown",
   "metadata": {},
   "source": [
    "INÍCIO <br/>\n",
    "&nbsp;&nbsp;&nbsp;&nbsp;INTEIRO idade; <br/>\n",
    "&nbsp;&nbsp;&nbsp;&nbsp;LEIA (idade); <br/>\n",
    "&nbsp;&nbsp;&nbsp;&nbsp;SE (idade >= 18) <br/>\n",
    "&nbsp;&nbsp;&nbsp;&nbsp;&nbsp;&nbsp;ENTÃO <br/>\n",
    "&nbsp;&nbsp;&nbsp;&nbsp;&nbsp;&nbsp;&nbsp;&nbsp;INÍCIO <br/>\n",
    "&nbsp;&nbsp;&nbsp;&nbsp;&nbsp;&nbsp;&nbsp;&nbsp;&nbsp;&nbsp;ESCREVA(\"Você é maior de idade!\"); <br/>\n",
    "&nbsp;&nbsp;&nbsp;&nbsp;&nbsp;&nbsp;&nbsp;&nbsp;FIM <br/>\n",
    "FIM"
   ]
  },
  {
   "cell_type": "code",
   "execution_count": 1,
   "metadata": {},
   "outputs": [
    {
     "name": "stdout",
     "output_type": "stream",
     "text": [
      "Você é maior de idade!\n"
     ]
    }
   ],
   "source": [
    "age = int(input())\n",
    "if age > 18:\n",
    "    print(\"Você é maior de idade!\")"
   ]
  },
  {
   "attachments": {},
   "cell_type": "markdown",
   "metadata": {},
   "source": [
    "Nesse exemplo, a condição é `age > 18`. Se o usuário digitar um valor maior que 18, o código dentro da instrução `if` será executado. Como resultado, a saída desse programa seria \"Você é maior de idade!\".\n",
    "\n",
    "### Estruturas Condicionais Compostas\n",
    "Expõe que uma instrução ou bloco de instruções só sejam executados se determinada condição for satisfeita. Caso essa condição seja falsa, é executada uma outra instrução ou um bloco de instruções diferente. Existem dois tipos de estruturas condicionais compostas: uma estrutura com apenas dois casos possíveis (`if-else`) e uma estrutura com vários casos possíveis (`if-elif-else`).\n",
    "\n",
    "#### `else` (senão)\n",
    "\n",
    "Estrutura básica em pseudocódigo:"
   ]
  },
  {
   "attachments": {},
   "cell_type": "markdown",
   "metadata": {},
   "source": [
    "SE condição <br/>\n",
    "&nbsp;&nbsp;&nbsp;&nbsp;ENTÃO <br/>\n",
    "&nbsp;&nbsp;&nbsp;&nbsp;&nbsp;&nbsp;INÍCIO <br/>\n",
    "&nbsp;&nbsp;&nbsp;&nbsp;&nbsp;&nbsp;&nbsp;&nbsp;comando1; <br/>\n",
    "&nbsp;&nbsp;&nbsp;&nbsp;&nbsp;&nbsp;&nbsp;&nbsp;comando2; <br/>\n",
    "&nbsp;&nbsp;&nbsp;&nbsp;&nbsp;&nbsp;FIM <br/>\n",
    "&nbsp;&nbsp;&nbsp;&nbsp;SENÃO <br/>\n",
    "&nbsp;&nbsp;&nbsp;&nbsp;&nbsp;&nbsp;INÍCIO <br/>\n",
    "&nbsp;&nbsp;&nbsp;&nbsp;&nbsp;&nbsp;&nbsp;&nbsp;comando3; <br/>\n",
    "&nbsp;&nbsp;&nbsp;&nbsp;&nbsp;&nbsp;&nbsp;&nbsp;comando4; <br/>\n",
    "&nbsp;&nbsp;&nbsp;&nbsp;&nbsp;&nbsp;FIM"
   ]
  },
  {
   "attachments": {},
   "cell_type": "markdown",
   "metadata": {},
   "source": [
    "Exemplo prático em pseudocódigo e em Python:"
   ]
  },
  {
   "attachments": {},
   "cell_type": "markdown",
   "metadata": {},
   "source": [
    "INÍCIO <br/>\n",
    "&nbsp;&nbsp;&nbsp;&nbsp;REAL n1, n2, n3, media; <br/>\n",
    "&nbsp;&nbsp;&nbsp;&nbsp;LEIA (n1); <br/>\n",
    "&nbsp;&nbsp;&nbsp;&nbsp;LEIA (n2); <br/>\n",
    "&nbsp;&nbsp;&nbsp;&nbsp;LEIA (n3); <br/>\n",
    "&nbsp;&nbsp;&nbsp;&nbsp;media ← (n1 + n2 + n3) / 3; <br/>\n",
    "&nbsp;&nbsp;&nbsp;&nbsp;SE (media >= 6): <br/>\n",
    "&nbsp;&nbsp;&nbsp;&nbsp;&nbsp;&nbsp;ENTÃO <br/>\n",
    "&nbsp;&nbsp;&nbsp;&nbsp;&nbsp;&nbsp;&nbsp;&nbsp;INÍCIO <br/>\n",
    "&nbsp;&nbsp;&nbsp;&nbsp;&nbsp;&nbsp;&nbsp;&nbsp;&nbsp;&nbsp;ESCREVA(\"Média =\", media); <br/>\n",
    "&nbsp;&nbsp;&nbsp;&nbsp;&nbsp;&nbsp;&nbsp;&nbsp;&nbsp;&nbsp;ESCREVA(\"APROVADO!\") <br/>\n",
    "&nbsp;&nbsp;&nbsp;&nbsp;&nbsp;&nbsp;&nbsp;&nbsp;FIM <br/>\n",
    "&nbsp;&nbsp;&nbsp;&nbsp;&nbsp;&nbsp;SENÃO <br/>\n",
    "&nbsp;&nbsp;&nbsp;&nbsp;&nbsp;&nbsp;&nbsp;&nbsp;INÍCIO <br/>\n",
    "&nbsp;&nbsp;&nbsp;&nbsp;&nbsp;&nbsp;&nbsp;&nbsp;&nbsp;&nbsp;ESCREVA(\"Média =\", media); <br/>\n",
    "&nbsp;&nbsp;&nbsp;&nbsp;&nbsp;&nbsp;&nbsp;&nbsp;&nbsp;&nbsp;ESCREVA(\"REPROVADO!\"); <br/>\n",
    "&nbsp;&nbsp;&nbsp;&nbsp;&nbsp;&nbsp;&nbsp;&nbsp;FIM <br/>\n",
    "FIM"
   ]
  },
  {
   "cell_type": "code",
   "execution_count": 2,
   "metadata": {},
   "outputs": [
    {
     "name": "stdout",
     "output_type": "stream",
     "text": [
      "Média = 7.666666666666667\n",
      "APROVADO!\n"
     ]
    }
   ],
   "source": [
    "n1 = float(input())\n",
    "n2 = float(input())\n",
    "n3 = float(input())\n",
    "average = (n1 + n2 + n3) / 3;\n",
    "if average >= 6:\n",
    "    print(\"Média =\", average)\n",
    "    print(\"APROVADO!\")\n",
    "else:\n",
    "    print(\"Média =\", average)\n",
    "    print(\"REPROVADO!\")"
   ]
  },
  {
   "attachments": {},
   "cell_type": "markdown",
   "metadata": {},
   "source": [
    "Nesse exemplo, existem dois casos possíveis, dependendo do valor de `average`. Se `average` for maior ou igual a 6, a primeira instrução `if` é executada. Caso contrário (`x` sendo menor que 6), a instrução `else` é executada.\n",
    "\n",
    "### `else if` (senão se)\n",
    "Estrutura básica em pseudocódigo:"
   ]
  },
  {
   "attachments": {},
   "cell_type": "markdown",
   "metadata": {},
   "source": [
    "SE condição <br/>\n",
    "&nbsp;&nbsp;&nbsp;&nbsp;ENTÃO <br/>\n",
    "&nbsp;&nbsp;&nbsp;&nbsp;&nbsp;&nbsp;INÍCIO <br/>\n",
    "&nbsp;&nbsp;&nbsp;&nbsp;&nbsp;&nbsp;&nbsp;&nbsp;comando1; <br/>\n",
    "&nbsp;&nbsp;&nbsp;&nbsp;&nbsp;&nbsp;&nbsp;&nbsp;comando2; <br/>\n",
    "&nbsp;&nbsp;&nbsp;&nbsp;&nbsp;&nbsp;FIM <br/>\n",
    "&nbsp;&nbsp;&nbsp;&nbsp;SENÃO SE condição <br/>\n",
    "&nbsp;&nbsp;&nbsp;&nbsp;&nbsp;&nbsp;INÍCIO <br/>\n",
    "&nbsp;&nbsp;&nbsp;&nbsp;&nbsp;&nbsp;&nbsp;&nbsp;comando3; <br/>\n",
    "&nbsp;&nbsp;&nbsp;&nbsp;&nbsp;&nbsp;&nbsp;&nbsp;comando4; <br/>\n",
    "&nbsp;&nbsp;&nbsp;&nbsp;&nbsp;&nbsp;FIM <br/>\n",
    "&nbsp;&nbsp;&nbsp;&nbsp;SENÃO <br/>\n",
    "&nbsp;&nbsp;&nbsp;&nbsp;&nbsp;&nbsp;INÍCIO <br/>\n",
    "&nbsp;&nbsp;&nbsp;&nbsp;&nbsp;&nbsp;&nbsp;&nbsp;comando5; <br/>\n",
    "&nbsp;&nbsp;&nbsp;&nbsp;&nbsp;&nbsp;&nbsp;&nbsp;comando6; <br/>\n",
    "&nbsp;&nbsp;&nbsp;&nbsp;&nbsp;&nbsp;FIM <br/>"
   ]
  },
  {
   "cell_type": "markdown",
   "metadata": {},
   "source": [
    "Exemplo prático em pseudocódigo e em Python:"
   ]
  },
  {
   "attachments": {},
   "cell_type": "markdown",
   "metadata": {},
   "source": [
    "INÍCIO <br/>\n",
    "&nbsp;&nbsp;&nbsp;&nbsp;INTEIRO x; <br/>\n",
    "&nbsp;&nbsp;&nbsp;&nbsp;LEIA (x); <br/>\n",
    "&nbsp;&nbsp;&nbsp;&nbsp;SE (x > 10): <br/>\n",
    "&nbsp;&nbsp;&nbsp;&nbsp;&nbsp;&nbsp;ENTÃO <br/>\n",
    "&nbsp;&nbsp;&nbsp;&nbsp;&nbsp;&nbsp;&nbsp;&nbsp;INÍCIO <br/>\n",
    "&nbsp;&nbsp;&nbsp;&nbsp;&nbsp;&nbsp;&nbsp;&nbsp;&nbsp;&nbsp;ESCREVA(\"x é maior que 10\"); <br/>\n",
    "&nbsp;&nbsp;&nbsp;&nbsp;&nbsp;&nbsp;&nbsp;&nbsp;FIM <br/>\n",
    "&nbsp;&nbsp;&nbsp;&nbsp;&nbsp;&nbsp;SENÃO SE (x > 5) <br/>\n",
    "&nbsp;&nbsp;&nbsp;&nbsp;&nbsp;&nbsp;&nbsp;&nbsp;INÍCIO <br/>\n",
    "&nbsp;&nbsp;&nbsp;&nbsp;&nbsp;&nbsp;&nbsp;&nbsp;&nbsp;&nbsp;ESCREVA(\"x é maior que 5, mas menor ou igual a 10\"); <br/>\n",
    "&nbsp;&nbsp;&nbsp;&nbsp;&nbsp;&nbsp;&nbsp;&nbsp;FIM <br/>\n",
    "&nbsp;&nbsp;&nbsp;&nbsp;&nbsp;&nbsp;SENÃO <br/>\n",
    "&nbsp;&nbsp;&nbsp;&nbsp;&nbsp;&nbsp;&nbsp;&nbsp;INÍCIO <br/>\n",
    "&nbsp;&nbsp;&nbsp;&nbsp;&nbsp;&nbsp;&nbsp;&nbsp;&nbsp;&nbsp;ESCREVA(\"x é menor ou igual a 5\"); <br/>\n",
    "&nbsp;&nbsp;&nbsp;&nbsp;&nbsp;&nbsp;&nbsp;&nbsp;FIM <br/>\n",
    "FIM"
   ]
  },
  {
   "cell_type": "code",
   "execution_count": 3,
   "metadata": {},
   "outputs": [
    {
     "name": "stdout",
     "output_type": "stream",
     "text": [
      "x é maior que 5, mas menor ou igual a 10\n"
     ]
    }
   ],
   "source": [
    "x = int(input())\n",
    "if x > 10:\n",
    "    print(\"x é maior que 10\")\n",
    "elif x > 5:\n",
    "    print(\"x é maior que 5, mas menor ou igual a 10\")\n",
    "else:\n",
    "    print(\"x é menor ou igual a 5\")"
   ]
  },
  {
   "attachments": {},
   "cell_type": "markdown",
   "metadata": {},
   "source": [
    "Nesse exemplo, existem três casos possíveis, dependendo do valor de `x`. Se `x` for maior que 10, a primeira instrução `if` é executada. Se `x` for maior que 5, mas menor que ou igual a 10, a segunda instrução `elif` é executada. Se nenhuma das condições forem verdadeiras, a instrução `else` é executada.\n",
    "\n",
    "## Estrutura de Repetição\n",
    "São uma estrutura de programação que permitem que uma seção de código seja executada repetidamente enquanto certas condições forem atendidas. Servem para evitar que o programador escreva códigos repetitivos, automatizando o processo de execução do mesmo bloco de código várias vezes.\n",
    "\n",
    "### Estrutura de Repetição para número definido de repetições\n",
    "Utilizada quando se sabe o número de vezes em que um trecho do algoritmo ou do código deverá ser repetido. Em pseudocódigo utiliza-se a estrutura PARA (`for`):"
   ]
  },
  {
   "attachments": {},
   "cell_type": "markdown",
   "metadata": {},
   "source": [
    "PARA i <- valor inicial ATÉ valor final FAÇA <br/>\n",
    "&nbsp;&nbsp;&nbsp;&nbsp;comando1;"
   ]
  },
  {
   "attachments": {},
   "cell_type": "markdown",
   "metadata": {},
   "source": [
    "O `comando1` será executado utilizando a variável `i` como controle, cujo conteúdo vai variar do valor inicial até o valor final, de 1 em 1, incrementando automaticamente.\n",
    "\n",
    "Vejamos um exemplo prático em pseudocódigo e em Python:"
   ]
  },
  {
   "attachments": {},
   "cell_type": "markdown",
   "metadata": {},
   "source": [
    "PARA i <- 1 ATÉ 10 FAÇA <br/>\n",
    "&nbsp;&nbsp;&nbsp;&nbsp;ESCREVA (i);"
   ]
  },
  {
   "cell_type": "code",
   "execution_count": 9,
   "metadata": {},
   "outputs": [
    {
     "name": "stdout",
     "output_type": "stream",
     "text": [
      "1\n",
      "2\n",
      "3\n",
      "4\n",
      "5\n",
      "6\n",
      "7\n",
      "8\n",
      "9\n"
     ]
    }
   ],
   "source": [
    "for i in range(1,10):\n",
    "  print(i)"
   ]
  },
  {
   "attachments": {},
   "cell_type": "markdown",
   "metadata": {},
   "source": [
    "Esse tipo de repetição também pode ser usado para iterar entre os elementos de uma sequência, como uma lista por exemplo:"
   ]
  },
  {
   "cell_type": "code",
   "execution_count": 11,
   "metadata": {},
   "outputs": [
    {
     "name": "stdout",
     "output_type": "stream",
     "text": [
      "maçã\n",
      "banana\n",
      "cereja\n"
     ]
    }
   ],
   "source": [
    "fruits = [\"maçã\", \"banana\", \"cereja\"]\n",
    "for fruit in fruits:\n",
    "    print(fruit)"
   ]
  },
  {
   "attachments": {},
   "cell_type": "markdown",
   "metadata": {},
   "source": [
    "Nesse exemplo, a sequência é uma lista de frutas e o código dentro da repetição simplesmente imprime cada fruta, uma por vez.\n",
    "\n",
    "### Estrutura de Repetição para número indefinido de repetições\n",
    "Utilizada quando não se sabe o número de vezes em que um trecho do algoritmo ou do código deverá ser repetido (embora possa ser usada quando se sabe esse número).\n",
    "\n",
    "Existem situações em que o teste condicional da estrutura de repetição, que fica no início, resulta em um valor falso logo na primeira comparação. Nestes casos, as instruções dentro da estrutura não são executadas.\n",
    "\n",
    "Utiliza-se a estrutura ENQUANTO (`while`):"
   ]
  },
  {
   "attachments": {},
   "cell_type": "markdown",
   "metadata": {},
   "source": [
    "ENQUANTO condição FAÇA <br/>\n",
    "&nbsp;&nbsp;&nbsp;&nbsp;INÍCIO <br/>\n",
    "&nbsp;&nbsp;&nbsp;&nbsp;&nbsp;&nbsp;comando1; <br/>\n",
    "&nbsp;&nbsp;&nbsp;&nbsp;&nbsp;&nbsp;comando2; <br/>\n",
    "&nbsp;&nbsp;&nbsp;&nbsp;FIM"
   ]
  },
  {
   "attachments": {},
   "cell_type": "markdown",
   "metadata": {},
   "source": [
    "Vejamos exemplos práticos em pseudocódigo e em Python:"
   ]
  },
  {
   "attachments": {},
   "cell_type": "markdown",
   "metadata": {},
   "source": [
    "x ← 1; <br/>\n",
    "y ← 5; <br/>\n",
    "ENQUANTO x < y FAÇA <br/>\n",
    "&nbsp;&nbsp;&nbsp;&nbsp;INÍCIO <br/>\n",
    "&nbsp;&nbsp;&nbsp;&nbsp;&nbsp;&nbsp;x ← x + 2; <br/>\n",
    "&nbsp;&nbsp;&nbsp;&nbsp;&nbsp;&nbsp;y ← y + 1; <br/>\n",
    "&nbsp;&nbsp;&nbsp;&nbsp;&nbsp;&nbsp;ESCREVA (\"x =\", x); <br/>\n",
    "&nbsp;&nbsp;&nbsp;&nbsp;&nbsp;&nbsp;ESCREVA (\"y =\", y); <br/>\n",
    "&nbsp;&nbsp;&nbsp;&nbsp;FIM"
   ]
  },
  {
   "cell_type": "code",
   "execution_count": 1,
   "metadata": {},
   "outputs": [
    {
     "name": "stdout",
     "output_type": "stream",
     "text": [
      "x = 3\n",
      "y = 6\n",
      "x = 5\n",
      "y = 7\n",
      "x = 7\n",
      "y = 8\n",
      "x = 9\n",
      "y = 9\n"
     ]
    }
   ],
   "source": [
    "x = 1\n",
    "y = 5\n",
    "while x < y:\n",
    "  x = x + 2\n",
    "  y = y + 1\n",
    "  print(\"x =\", x)\n",
    "  print(\"y =\", y)"
   ]
  },
  {
   "attachments": {},
   "cell_type": "markdown",
   "metadata": {},
   "source": [
    "## Funções\n",
    "É um bloco de código independente que realiza uma tarefa específica. É uma forma de modular o código; quebrar o programa em pedaços menores e mais administráveis que podem ser testados, depurados e mantidos individual e independentemente.\n",
    "\n",
    "As funções podem receber parâmetros e retornar valores de saída ou podem simplesmente executar uma ação sem retornar um valor.\n",
    "\n",
    "Em Python, uma função é definida pela palavra-chave `def`, seguida pelo nome da função e quaisquer parâmetros de entrada entre parênteses. O corpo da função é indentado e pode conter qualquer código Python válido. Veja a sintaxe básica de uma função, em Python:"
   ]
  },
  {
   "cell_type": "code",
   "execution_count": 26,
   "metadata": {},
   "outputs": [],
   "source": [
    "def function_name(parameters):\n",
    "    # código para ser executado\n",
    "    value = 0\n",
    "    return value"
   ]
  },
  {
   "attachments": {},
   "cell_type": "markdown",
   "metadata": {},
   "source": [
    "Nessa sintaxe, `function_name` é o nome da função e `parameters` são os argumentos de entrada que a função pode aceitar. O código dentro da função pode realizar quaisquer operações que sejam necessárias para alcançar o objetivo para o qual a função foi criada. A instrução `return` é usada para retornar um valor da função, se necessário.\n",
    "\n",
    "Veja um exemplo de uma simples função que recebe dois argumentos e retorna sua soma:"
   ]
  },
  {
   "cell_type": "code",
   "execution_count": 27,
   "metadata": {},
   "outputs": [],
   "source": [
    "def add_numbers(a, b):\n",
    "    return a + b"
   ]
  },
  {
   "attachments": {},
   "cell_type": "markdown",
   "metadata": {},
   "source": [
    "Nesse exemplo, a função é chamada `add_numbers` e ela recebe dois argumentos, `a` e `b`. O código dentro da função simplesmente soma esses dois argumentos e retorna o resultado.\n",
    "\n",
    "Vamos ver algumas chamadas dessa função:"
   ]
  },
  {
   "cell_type": "code",
   "execution_count": 28,
   "metadata": {},
   "outputs": [
    {
     "name": "stdout",
     "output_type": "stream",
     "text": [
      "6\n",
      "14\n",
      "52\n"
     ]
    }
   ],
   "source": [
    "x = add_numbers(1, 5)\n",
    "print(x)\n",
    "\n",
    "x = add_numbers(5, 9)\n",
    "print(x)\n",
    "\n",
    "print(add_numbers(22, 30))"
   ]
  },
  {
   "attachments": {},
   "cell_type": "markdown",
   "metadata": {},
   "source": [
    "# Revisão\n",
    "## Lógica Booleana"
   ]
  },
  {
   "cell_type": "code",
   "execution_count": 29,
   "metadata": {},
   "outputs": [
    {
     "name": "stdout",
     "output_type": "stream",
     "text": [
      "Ambos, x e y, são positivos.\n",
      "Pelo menos um, entre x e y, é positivo.\n",
      "x é verdadeiro\n"
     ]
    }
   ],
   "source": [
    "# Operador AND\n",
    "x = 5\n",
    "y = 10\n",
    "if x > 0 and y > 0:\n",
    "    print(\"Ambos, x e y, são positivos.\")\n",
    "\n",
    "# Operador OR\n",
    "x = -5\n",
    "y = 10\n",
    "if x > 0 or y > 0:\n",
    "    print(\"Pelo menos um, entre x e y, é positivo.\")\n",
    "\n",
    "# Operador NOT\n",
    "x = True\n",
    "if not x:\n",
    "    print(\"x é falso.\")\n",
    "else:\n",
    "    print(\"x é verdadeiro\")"
   ]
  },
  {
   "attachments": {},
   "cell_type": "markdown",
   "metadata": {},
   "source": [
    "## Instruções Condicionais"
   ]
  },
  {
   "cell_type": "code",
   "execution_count": 30,
   "metadata": {},
   "outputs": [
    {
     "name": "stdout",
     "output_type": "stream",
     "text": [
      "x é positivo\n",
      "x não é positivo.\n",
      "x é zero.\n"
     ]
    }
   ],
   "source": [
    "# Instrução if\n",
    "x = 5\n",
    "if x > 0:\n",
    "    print(\"x é positivo\")\n",
    "\n",
    "# Instrução if-else\n",
    "x = -5\n",
    "if x > 0:\n",
    "    print(\"x é positivo.\")\n",
    "else:\n",
    "    print(\"x não é positivo.\")\n",
    "\n",
    "# Instrução if-elif-else\n",
    "x = 0\n",
    "if x > 0:\n",
    "    print(\"x é positivo.\")\n",
    "elif x == 0:\n",
    "    print(\"x é zero.\")\n",
    "else:\n",
    "    print(\"x é negativo.\")"
   ]
  },
  {
   "attachments": {},
   "cell_type": "markdown",
   "metadata": {},
   "source": [
    "## Repetições"
   ]
  },
  {
   "cell_type": "code",
   "execution_count": 31,
   "metadata": {},
   "outputs": [
    {
     "name": "stdout",
     "output_type": "stream",
     "text": [
      "5\n",
      "4\n",
      "3\n",
      "2\n",
      "1\n",
      "maçã\n",
      "banana\n",
      "cereja\n"
     ]
    }
   ],
   "source": [
    "# Repetição while\n",
    "x = 5\n",
    "while x > 0:\n",
    "    print(x)\n",
    "    x -= 1\n",
    "\n",
    "# Repetição for\n",
    "fruits = [\"maçã\", \"banana\", \"cereja\"]\n",
    "for fruit in fruits:\n",
    "    print(fruit)"
   ]
  },
  {
   "attachments": {},
   "cell_type": "markdown",
   "metadata": {},
   "source": [
    "## Funções"
   ]
  },
  {
   "cell_type": "code",
   "execution_count": 32,
   "metadata": {},
   "outputs": [
    {
     "name": "stdout",
     "output_type": "stream",
     "text": [
      "25\n"
     ]
    }
   ],
   "source": [
    "# Definindo uma função\n",
    "def square(x):\n",
    "    return x * x\n",
    "\n",
    "# Chamando uma função\n",
    "result = square(5)\n",
    "print(result)"
   ]
  },
  {
   "attachments": {},
   "cell_type": "markdown",
   "metadata": {},
   "source": [
    "# Exercícios\n",
    "Os exercícios abaixo servem para fixar as informações aprendidas nesta aula. O ideal seria que você respondesse cada um com um pseudocódigo e, se possível, com uma versão do mesmo algoritmo usando uma linguagem de programação de sua preferência (recomendo C ou Python).\n",
    "\n",
    "1. Escreva uma função que recebe dois inteiros e retorna sua soma. Chame a função e imprima o valor retornado na tela.\n",
    "2. Escreva um programa que imprima todos os valores pares de 1 até 20.\n",
    "3. Escreva um programa que solicite a idade do usuário e lhes informe se ele tem idade suficiente para votar.\n",
    "4. Escreva um programa que receba uma lista de inteiros e retorne a soma de todos os números positivos na lista.\n",
    "5. Escreva um programa que receba uma string e conte o número de vogais nela. <b>Desafio:</b> Consegue incluir na contagem vogais com acentos? (á, ã, é, etc.)\n",
    "6. Escreva um programa que imprima todos os números primos entre 1 e 100.\n",
    "7. Escreva um programa que solicite que o usuário digite um número e diga se o número digitado é par ou ímpar.\n",
    "8. Escreva um programa que receba uma lista de inteiros e retorne o número mais alto na lista.\n",
    "9. Escreva um programa que receba uma lista de inteiros e retorne a soma de todos os números pares na lista.\n",
    "10. Escreva um programa que receba uma lista de inteiros e retorne uma nova lista onde cada elemento é o inteiro original multiplicado por 2, se ele for par, ou dividido por 2, se ele for ímpar.\n",
    " "
   ]
  }
 ],
 "metadata": {
  "kernelspec": {
   "display_name": "Python 3",
   "language": "python",
   "name": "python3"
  },
  "language_info": {
   "codemirror_mode": {
    "name": "ipython",
    "version": 3
   },
   "file_extension": ".py",
   "mimetype": "text/x-python",
   "name": "python",
   "nbconvert_exporter": "python",
   "pygments_lexer": "ipython3",
   "version": "3.11.2"
  },
  "orig_nbformat": 4,
  "vscode": {
   "interpreter": {
    "hash": "54b979d01b6d2c57857864e6e49e83a8c0a75cd18f2fc727f4fa39872cb8b9a7"
   }
  }
 },
 "nbformat": 4,
 "nbformat_minor": 2
}
