{
 "cells": [
  {
   "attachments": {},
   "cell_type": "markdown",
   "metadata": {},
   "source": [
    "# Módulo 2 – Variáveis e Tipos de Dados Simples"
   ]
  },
  {
   "attachments": {},
   "cell_type": "markdown",
   "metadata": {},
   "source": [
    "Nesse módulo você aprenderá sobre os diferentes tipos de dados que pode trabalhar em seus programas Python. Você também aprenderá a usar variáveis para representar dados em seus programas.\n",
    "\n",
    "## Variáveis\n",
    "Vamos modificar nosso programa `hello_world.py` para incluir uma variável."
   ]
  },
  {
   "cell_type": "code",
   "execution_count": 2,
   "metadata": {},
   "outputs": [
    {
     "name": "stdout",
     "output_type": "stream",
     "text": [
      "Olá mundo do Python!\n"
     ]
    }
   ],
   "source": [
    "message = \"Olá mundo do Python!\"\n",
    "print(message)"
   ]
  },
  {
   "attachments": {},
   "cell_type": "markdown",
   "metadata": {},
   "source": [
    "Como você pode ver, o resultado é o mesmo.\n",
    "\n",
    "Nós adicionamos a <i>variável</i> chamada `message`. Cada variável é conectado à um <i>valor</i>, que é a informação associada com essa variável.\n",
    "\n",
    "Agora, vamos expandir esse programa para imprimir uma segunda mensagem."
   ]
  },
  {
   "cell_type": "code",
   "execution_count": 1,
   "metadata": {},
   "outputs": [
    {
     "name": "stdout",
     "output_type": "stream",
     "text": [
      "Olá mundo do Python!\n",
      "Estamos estudando Python!\n"
     ]
    }
   ],
   "source": [
    "message = \"Olá mundo do Python!\"\n",
    "print(message)\n",
    "\n",
    "message = \"Estamos estudando Python!\"\n",
    "print(message)"
   ]
  },
  {
   "attachments": {},
   "cell_type": "markdown",
   "metadata": {},
   "source": [
    "Agora nós temos duas linhas de saída.\n",
    "\n",
    "O valor de uma variável pode ser alterado em seu programa em qualquer momento e o Python sempre manterá o registro do valor atual.\n",
    "\n",
    "### Nomeando e Usando Variáveis\n",
    "É necessário aderir à algumas regras e diretrizes para usar variáveis em Python. Quebrar algumas dessas regras causará erros; outras diretrizes apenas ajudam você a escrever códigos que são mais fáceis de ler e compreender.\n",
    "\n",
    "- Os nomes das variáveis podem conter letras, números e underscores (sublinhados).\n",
    "  - Eles podem começar com uma letra ou um sublinhado, mas não com um número.\n",
    "    - `message_1` é um nome válido, mas `1_message` não.\n",
    "- Espaços não são permitidos nos nomes das variáveis, mas sublinhados podem ser usados para separar palavras.\n",
    "  - `greeting_message` é um nome válido, mas `greeting message` não.\n",
    "- Evite usar palavras-chaves do Python e nomes de funções como nomes de variáveis.\n",
    "  - Não use a palavra `print` como um nome de variável; o Python reservou essa palavra para um propósito específico.\n",
    "- Os nomes das variáveis devem ser curtos, mas descritivos.\n",
    "  - `name` é melhor do que `n`, `student_name` é melhor que `s_n` e `name_length` é melhor que `length_of_persons_name`.\n",
    "- Cuidado ao usar a letra minúscula `l` e a letra maiúscula `O`, pois elas tendem a ser confundidas com os números `1` e `0`, dependendo da fonte usada.\n",
    "\n",
    "#### Erro: `NameError`\n",
    "Quando se está programando é muito importante saber analisar os erros que você inevitavelmente encontrará no caminho. Todo programador comete erros, geralmente todos os dias. A diferença é que um bom programador sabe como responder à esses erros de maneira eficiente. Vamos dar uma olhada em um erro que você já deve ter visto ou, em breve, veria de qualquer forma."
   ]
  },
  {
   "cell_type": "code",
   "execution_count": 2,
   "metadata": {},
   "outputs": [
    {
     "ename": "NameError",
     "evalue": "name 'mesage' is not defined",
     "output_type": "error",
     "traceback": [
      "\u001b[1;31m---------------------------------------------------------------------------\u001b[0m",
      "\u001b[1;31mNameError\u001b[0m                                 Traceback (most recent call last)",
      "Cell \u001b[1;32mIn[2], line 2\u001b[0m\n\u001b[0;32m      1\u001b[0m message \u001b[39m=\u001b[39m \u001b[39m\"\u001b[39m\u001b[39mOlá caro estudante de Python!\u001b[39m\u001b[39m\"\u001b[39m\n\u001b[1;32m----> 2\u001b[0m \u001b[39mprint\u001b[39m(mesage)\n",
      "\u001b[1;31mNameError\u001b[0m: name 'mesage' is not defined"
     ]
    }
   ],
   "source": [
    "message = \"Olá caro estudante de Python!\"\n",
    "print(mesage)"
   ]
  },
  {
   "attachments": {},
   "cell_type": "markdown",
   "metadata": {},
   "source": [
    "Quando um erro ocorre em seu programa, o interpretador do Python faz o melhor que pode para desvender onde está o problema. O interpretador fornece um <i>traceback</i> (rastreamento) quando um programa não consegue rodar com sucesso. Esse traceback é um registro de onde o interpretador encontrou um problema durante a execução do seu código.\n",
    "\n",
    "Vamos analisar o traceback acima.\n",
    "\n",
    "```Python\n",
    "NameError                                 Traceback (most recent call last)\n",
    "➀ Cell In[2], line 2\n",
    "      1 message = \"Olá caro estudante de Python!\"\n",
    "➁ ----> 2 print(mesage)\n",
    "\n",
    "➂ NameError: name 'mesage' is not defined\n",
    "```\n",
    "- ➀ A saída reporta que um erro ocorreu na linha 2 da célula.\n",
    "  - No caso de um arquivo, como `hello_world.py` o traceback seria assim: `File \"hello_world.py\", line 2, in <module>`, indicando que o erro ocorreu na linha 2 do arquivo mencionado.\n",
    "- ➁ O interpretador mostra essa linha para ajudá-lo a encontrar o erro rapidamente.\n",
    "- ➂ Por fim, ele diz qual foi o tipo de erro encontrado.\n",
    "  - Nesse caso, é um <i>name error</i> ou erro de nome e reporta que a variável sendo impressa, `mesage`, não foi definida. O Python não consegue identificar o nome fornecido.\n",
    "    - Um erro desse tipo geralmente significa que você esqueceu de estabelecer o valor de uma variável antes de usá-la ou cometeu um erro de digitação no nome da variável.\n",
    "      - Se o Python encontrar um nome de variável semelhante ao que ele não reconheceu, ele perguntará se você não quis dizer outro nome, da seguinte forma: `Did you mean: 'message'?`\n",
    "\n",
    "### Tente Você\n",
    "Escreva um programa separado para completar cada um dos exercícios abaixo. Salve cada um com um nome de arquivo que siga as convenções padrões do Python, usando letras minúsculas e sublinhados, como `simple_message.py` e `simple_messages.py`.\n",
    "\n",
    "1. <b>Mensagem Simples:</b> Atribua uma mensagem à uma variável e então imprima essa mensagem.\n",
    "2. <b>Mensagens Simples:</b> Atribua uma mensagem à uma variável e então imprima essa mensagem. Então, altere o valor da variável para uma nova mensagem e imprima a nova mensagem.\n",
    "\n",
    "## Strings\n",
    "O primeiro tipo de dado que iremos aprender é a <i>string</i> (cadeia). Uma string é uma série de caracteres. Qualquer coisa dentro de aspas é considerada uma string em Python e você pode usar aspas simples ou duplas ao redor de suas strings:\n",
    "\n",
    "```Python\n",
    "\"Isso é uma string.\"\n",
    "'Isso também é uma string.'\n",
    "```\n",
    "\n",
    "### Alterando a Caixa em uma String usando Métodos\n",
    "Uma das tarefas mais simples que você pode fazer com strings é alterar a caixa das palavras. Vamos criar o arquivo `name.py`."
   ]
  },
  {
   "cell_type": "code",
   "execution_count": 3,
   "metadata": {},
   "outputs": [
    {
     "name": "stdout",
     "output_type": "stream",
     "text": [
      "James Bond\n"
     ]
    }
   ],
   "source": [
    "name = \"james bond\"\n",
    "print(name.title())"
   ]
  },
  {
   "attachments": {},
   "cell_type": "markdown",
   "metadata": {},
   "source": [
    "- Nesse exemplo, a variável `name` refere-se a string minúscula `\"james bond\"`. \n",
    "- O método `title()` aparece após a variável na chamada de `print()`.\n",
    "  - Um <i>método</i> é uma ação que Python pode realizar em dados.\n",
    "  - O ponto (`.`) após `name` em `name.title()` diz para o Python para usar o método `title()` na variável `name`.\n",
    "  - Todo método é seguido por um conjunto de parênteses, pois eles frequentemente precisam de informações adicionais para funcionarem.\n",
    "    - Essa informação é fornecida dentro dos parênteses.\n",
    "    - O método `title()` não precisa de nenhuma informação adicional, portanto os parênteses estão vazios.\n",
    "- O método `title()` altera cada palavra para caixa de título, onde cada palavra começa com uma letra maiúscula.\n",
    "- Existem vários outros métodos para lidar com as caixas. Por exemplo, você pode alterar uma string para que todas as letras sejam maiúsculas ou minúsculas, da seguinte forma:"
   ]
  },
  {
   "cell_type": "code",
   "execution_count": 4,
   "metadata": {},
   "outputs": [
    {
     "name": "stdout",
     "output_type": "stream",
     "text": [
      "JAMES BOND\n",
      "james bond\n"
     ]
    }
   ],
   "source": [
    "name = \"james bond\"\n",
    "print(name.upper())\n",
    "print(name.lower())"
   ]
  },
  {
   "attachments": {},
   "cell_type": "markdown",
   "metadata": {},
   "source": [
    "### Usando Variáveis em Strings\n",
    "Em algumas situações, você pode querer utilizar o valor de uma variável dentro de uma string. Por exemplo, você poderia utilizar duas variáveis para representar o primeiro nome e o sobrenome de uma pessoa, respectivamente, e então combiná-las para apresentar o nome completo. Vamos criar o arquivo `full_name.py` para fazer exatamente isso."
   ]
  },
  {
   "cell_type": "code",
   "execution_count": 5,
   "metadata": {},
   "outputs": [
    {
     "name": "stdout",
     "output_type": "stream",
     "text": [
      "james bond\n"
     ]
    }
   ],
   "source": [
    "first_name = \"james\"\n",
    "last_name = \"bond\"\n",
    "full_name = f\"{first_name} {last_name}\"\n",
    "print(full_name)"
   ]
  },
  {
   "attachments": {},
   "cell_type": "markdown",
   "metadata": {},
   "source": [
    "- Para inserir o valor de uma variável dentro de uma string, coloque a letra `f` imediatamente antes da aspas de abertura da string.\n",
    "- Coloque chaves ao redor do nome ou nomes de quaisquer variáveis que você queira inserir dentro da string.\n",
    "- O Python substituirá cada variável com seu valor quando a string for impressa.\n",
    "\n",
    "Essas strings são chamadas de <i>f-strings</i>. O <i>f</i> vem de <i>format</i> (formato), uma vez que o Python formata a string antes de apresentá-la. Você pode usar f-strings para compor mensagens completas usando informações associadas com variáveis:"
   ]
  },
  {
   "cell_type": "code",
   "execution_count": 7,
   "metadata": {},
   "outputs": [
    {
     "name": "stdout",
     "output_type": "stream",
     "text": [
      "Olá, James Bond!\n"
     ]
    }
   ],
   "source": [
    "first_name = \"james\"\n",
    "last_name = \"bond\"\n",
    "full_name = f\"{first_name} {last_name}\"\n",
    "print(f\"Olá, {full_name.title()}!\")"
   ]
  },
  {
   "attachments": {},
   "cell_type": "markdown",
   "metadata": {},
   "source": [
    "O nome completo é usado em uma sentença que cumprimenta o usuário e o método `title()` altera o nome para a caixa de título.\n",
    "\n",
    "Também é possível usar f-strings para compor uma mensagem e então atribuir a mensagem inteira para uma variável que pode ser usada posteriormente."
   ]
  },
  {
   "cell_type": "code",
   "execution_count": 8,
   "metadata": {},
   "outputs": [
    {
     "name": "stdout",
     "output_type": "stream",
     "text": [
      "Olá, James Bond!\n"
     ]
    }
   ],
   "source": [
    "first_name = \"james\"\n",
    "last_name = \"bond\"\n",
    "full_name = f\"{first_name} {last_name}\"\n",
    "message = f\"Olá, {full_name.title()}!\"\n",
    "print(message)"
   ]
  },
  {
   "attachments": {},
   "cell_type": "markdown",
   "metadata": {},
   "source": [
    "### Adicionando Espaço em Branco à Strings com Tabulações ou Novas Linhas\n",
    "Em programação, <i>whitespace</i> (espaço em branco) refere-se à qualquer caractere não impresso, como espaços, tabulações e símbolos de encerramento de linha. Você pode usar whitespace para organizar sua saída para que ela seja mais fácil para os usuários lerem.\n",
    "\n",
    "Para adicionar uma tabulação ao seu texto, utilize a combinação de caracteres `\\t`:"
   ]
  },
  {
   "cell_type": "code",
   "execution_count": 9,
   "metadata": {},
   "outputs": [
    {
     "name": "stdout",
     "output_type": "stream",
     "text": [
      "Python\n",
      "\tPython\n"
     ]
    }
   ],
   "source": [
    "print(\"Python\")\n",
    "\n",
    "print(\"\\tPython\")"
   ]
  },
  {
   "attachments": {},
   "cell_type": "markdown",
   "metadata": {},
   "source": [
    "Para adicionar uma nova linha em uma string, utilize a combinação de caracteres `\\n`:"
   ]
  },
  {
   "cell_type": "code",
   "execution_count": 10,
   "metadata": {},
   "outputs": [
    {
     "name": "stdout",
     "output_type": "stream",
     "text": [
      "Linguagens:\n",
      "Python\n",
      "C\n",
      "JavaScript\n"
     ]
    }
   ],
   "source": [
    "print(\"Linguagens:\\nPython\\nC\\nJavaScript\")"
   ]
  },
  {
   "attachments": {},
   "cell_type": "markdown",
   "metadata": {},
   "source": [
    "Você também pode combinar tabulações e novas linhas em uma única string. A string `\"\\n\\t\"` diz ao Python para mover-se para uma nova linha e começar a próxima linha com uma tabulação."
   ]
  },
  {
   "cell_type": "code",
   "execution_count": 11,
   "metadata": {},
   "outputs": [
    {
     "name": "stdout",
     "output_type": "stream",
     "text": [
      "Linguagens:\n",
      "\tPython\n",
      "\tC\n",
      "\tJavaScript\n"
     ]
    }
   ],
   "source": [
    "print(\"Linguagens:\\n\\tPython\\n\\tC\\n\\tJavaScript\")"
   ]
  },
  {
   "attachments": {},
   "cell_type": "markdown",
   "metadata": {},
   "source": [
    "### Removendo Espaço em Branco\n",
    "Espaço em branco pode ser confuso para seus programas. Para os programadores,  `'python'` e `'python  '` parecem a mesma coisa. Mas para um programa, elas são duas strings diferentes. O Python detecta todo espaço em branco em uma string e considera-o significativo, exceto se você instruir o contrário.\n",
    "\n",
    "O Python pode checar por espaço branco adicional nos lados direito e esquerdo de uma string. Para garantir que nenhum espaço branco existe do lado direito de uma string, utiliza o método `rstrip()`:"
   ]
  },
  {
   "cell_type": "code",
   "execution_count": 17,
   "metadata": {},
   "outputs": [
    {
     "name": "stdout",
     "output_type": "stream",
     "text": [
      "Minha linguagem favorita é python  .\n",
      "Minha linguagem favorita é python.\n",
      "Minha linguagem favorita é python  .\n"
     ]
    }
   ],
   "source": [
    "favorite_language = 'python  '\n",
    "print(f\"Minha linguagem favorita é {favorite_language}.\")\n",
    "\n",
    "print((f\"Minha linguagem favorita é {favorite_language.rstrip()}.\"))\n",
    "\n",
    "print(f\"Minha linguagem favorita é {favorite_language}.\")"
   ]
  },
  {
   "attachments": {},
   "cell_type": "markdown",
   "metadata": {},
   "source": [
    "A remoção do espaço em branco é temporária; apenas para o uso imediato da string.\n",
    "\n",
    "Para remover permanentemente, você precisa associar o valor alterado com o nome da variável:"
   ]
  },
  {
   "cell_type": "code",
   "execution_count": 18,
   "metadata": {},
   "outputs": [
    {
     "name": "stdout",
     "output_type": "stream",
     "text": [
      "Minha linguagem favorita é python  .\n",
      "Minha linguagem favorita é python.\n"
     ]
    }
   ],
   "source": [
    "favorite_language = 'python  '\n",
    "print(f\"Minha linguagem favorita é {favorite_language}.\")\n",
    "favorite_language = favorite_language.rstrip()\n",
    "print(f\"Minha linguagem favorita é {favorite_language}.\")"
   ]
  },
  {
   "attachments": {},
   "cell_type": "markdown",
   "metadata": {},
   "source": [
    "Você também pode remover o espaço em branco do lado esquerdo de uma string usando o método `lstrip()` ou remover de ambos os lados usando `strip()`:"
   ]
  },
  {
   "cell_type": "code",
   "execution_count": 20,
   "metadata": {},
   "outputs": [
    {
     "name": "stdout",
     "output_type": "stream",
     "text": [
      "Minha linguagem favorita é   python  .\n",
      "Minha linguagem favorita é   python.\n",
      "Minha linguagem favorita é python  .\n",
      "Minha linguagem favorita é python.\n"
     ]
    }
   ],
   "source": [
    "favorite_language = '  python  '\n",
    "print(f\"Minha linguagem favorita é {favorite_language}.\")\n",
    "print((f\"Minha linguagem favorita é {favorite_language.rstrip()}.\"))\n",
    "print((f\"Minha linguagem favorita é {favorite_language.lstrip()}.\"))\n",
    "print((f\"Minha linguagem favorita é {favorite_language.strip()}.\"))"
   ]
  },
  {
   "attachments": {},
   "cell_type": "markdown",
   "metadata": {},
   "source": [
    "### Removendo Prefixos\n",
    "Quando se trabalha com strings, outra tarefa comum é a remoção de prefixos.\n",
    "\n",
    "- Vamos considerar uma URL com o prefixo comum <i>https://</i>.\n",
    "- Nós queremos remover esse prefixo para que possamos focar apenas na parte da URL que os usuários precisam digitar em sua barra de endereço."
   ]
  },
  {
   "cell_type": "code",
   "execution_count": 21,
   "metadata": {},
   "outputs": [
    {
     "name": "stdout",
     "output_type": "stream",
     "text": [
      "www.python.org\n"
     ]
    }
   ],
   "source": [
    "url = 'https://www.python.org'\n",
    "print(url.removeprefix('https://'))"
   ]
  },
  {
   "attachments": {},
   "cell_type": "markdown",
   "metadata": {},
   "source": [
    "O prefixo que você quer remover deve ser inserido dentro dos parênteses do método `removeprefix()`. O valor original também permanece inalterado, assim como nos métodos de remoção de espaço em branco.\n",
    "\n",
    "### Tente Você\n",
    "\n",
    "3. <b>Mensagem Pessoal:</b> Utilize uma variável para representar o nome de uma pessoa e imprima uma mensagem para essa pessoa. Sua mensagem deve ser simples, como, `\"Olá Gabriel, você gostaria de aprender Python hoje?\"`\n",
    "4. <b>Caixas do Nome:</b> Utilize uma variável para representar o nome de uma pessoa e então imprima o nome dessa pessoa em caixa alta, caixa baixa e caixa de título.\n",
    "5. <b>Citação Famosa:</b> Encontre uma citação de uma pessoa famosa que você admira. Imprima essa citação e o nome de seu autor. Sua saída deve ser semelhante a saída abaixo, incluindo as aspas:\n",
    "\n",
    "    `Uma vez Albert Einstein disse, \"Uma pessoa que nunca cometeu um erro nunca tentou nada novo.\"`\n",
    "\n",
    "6. <b>Citação Famosa 2:</b> Repita o Exercício 5, mas dessa vez represente o nome da pessoa famosa usando uma variável chamada `famous_person`. Então componha sua mensagem e represente-a com uma nova variável chamada `message`. Imprima sua mensagem.\n",
    "7. <b>Limpando Nomes:</b> Utilize uma variável para representar o nome de uma pessoa e inclua alguns espaços em branco no início e no final do nome. Certifique-se de usa pelo menos uma vez cada uma das combinações de caracteres seguintes: `\\t` e `\\n`.\n",
    "\n",
    "    Imprima o nome uma vez em uma mensagem, para que o espaço ao redor do nome seja visualizado. Então imprima o nome na mesma mensagem usando cada uma das três funções de remoção de espaço em branco: `lstrip()`, `rstrip()` e `strip()`.\n",
    "\n",
    "8. <b>Extensões de Arquivo:</b> O Python possui um método `removesuffix()` que funciona exatamente da mesma forma que `removeprefix()`. Atribua o valor `python_notes.txt` para uma variável chamada `filename`. Então utilize o método `removesuffix()` para imprimir o nome do arquivo sem a extensão do arquivo.\n",
    "\n",
    "## Números\n",
    "O Python trata os números de diferentes formas, dependendo de como eles estão sendo usados.\n",
    "\n",
    "### Inteiros\n",
    "Você pode somar (`+`), subtrair (`-`), multiplicar (`*`) e dividir (`/`) números inteiros (<i>integers</i>) no Python."
   ]
  },
  {
   "cell_type": "code",
   "execution_count": 24,
   "metadata": {},
   "outputs": [
    {
     "name": "stdout",
     "output_type": "stream",
     "text": [
      "5\n",
      "1\n",
      "6\n",
      "1.5\n"
     ]
    }
   ],
   "source": [
    "print(2 + 3)\n",
    "print(3 - 2)\n",
    "print(2 * 3)\n",
    "print(3 / 2)"
   ]
  },
  {
   "attachments": {},
   "cell_type": "markdown",
   "metadata": {},
   "source": [
    "O Python utiliza dois símbolos de multiplicação para representar exponentes:"
   ]
  },
  {
   "cell_type": "code",
   "execution_count": 25,
   "metadata": {},
   "outputs": [
    {
     "name": "stdout",
     "output_type": "stream",
     "text": [
      "9\n",
      "27\n",
      "1000000\n"
     ]
    }
   ],
   "source": [
    "print(3 ** 2)\n",
    "print(3 ** 3)\n",
    "print(10 ** 6)"
   ]
  },
  {
   "attachments": {},
   "cell_type": "markdown",
   "metadata": {},
   "source": [
    "O Python também suporta a ordem das operações, então várias operações podem ser usadas em uma expressão. Parênteses também podem ser usados para modificar a order das operações."
   ]
  },
  {
   "cell_type": "code",
   "execution_count": 26,
   "metadata": {},
   "outputs": [
    {
     "name": "stdout",
     "output_type": "stream",
     "text": [
      "14\n",
      "20\n"
     ]
    }
   ],
   "source": [
    "print(2 + 3*4)\n",
    "print((2 + 3) * 4)"
   ]
  },
  {
   "attachments": {},
   "cell_type": "markdown",
   "metadata": {},
   "source": [
    "Note que o espaçamento entre os símbolos não tem qualquer efeito em como o Python avalia as expressões.\n",
    "\n",
    "### Reais\n",
    "Qualquer número com um ponto decimal é considerado um número real (<i>float</i>) pelo Python. Na maioria dos casos, esses números podem ser usados sem qualquer preocupação com a maneira que eles se comportam."
   ]
  },
  {
   "cell_type": "code",
   "execution_count": 27,
   "metadata": {},
   "outputs": [
    {
     "name": "stdout",
     "output_type": "stream",
     "text": [
      "0.2\n",
      "0.4\n",
      "0.2\n",
      "0.4\n"
     ]
    }
   ],
   "source": [
    "print(0.1 + 0.1)\n",
    "print(0.2 + 0.2)\n",
    "print(2 * 0.1)\n",
    "print(2 * 0.2)"
   ]
  },
  {
   "attachments": {},
   "cell_type": "markdown",
   "metadata": {},
   "source": [
    "Contudo, tenha em mente que algumas vezes você obtém um número arbitrário de casas decimais:"
   ]
  },
  {
   "cell_type": "code",
   "execution_count": 29,
   "metadata": {},
   "outputs": [
    {
     "name": "stdout",
     "output_type": "stream",
     "text": [
      "0.30000000000000004\n",
      "0.30000000000000004\n"
     ]
    }
   ],
   "source": [
    "print(0.2 + 0.1)\n",
    "print(3 * 0.1)"
   ]
  },
  {
   "attachments": {},
   "cell_type": "markdown",
   "metadata": {},
   "source": [
    "Isso ocorre em todas as linguagens e não é preocupante. Por hora, apenas ignore as casas decimais adicionais; você aprenderá a lidar com elas posteriormente.\n",
    "\n",
    "### Inteiros e Reais\n",
    "Quando dois números são divididos, mesmo se forem dois inteiros que resultam em outro número inteiro, você sempre obterá um número real:"
   ]
  },
  {
   "cell_type": "code",
   "execution_count": 30,
   "metadata": {},
   "outputs": [
    {
     "data": {
      "text/plain": [
       "2.0"
      ]
     },
     "execution_count": 30,
     "metadata": {},
     "output_type": "execute_result"
    }
   ],
   "source": [
    "4/2"
   ]
  },
  {
   "attachments": {},
   "cell_type": "markdown",
   "metadata": {},
   "source": [
    "Se você misturar um inteiro e um real com qualquer outra operação, você também obterá um número real:"
   ]
  },
  {
   "cell_type": "code",
   "execution_count": 31,
   "metadata": {},
   "outputs": [
    {
     "name": "stdout",
     "output_type": "stream",
     "text": [
      "3.0\n",
      "6.0\n",
      "9.0\n"
     ]
    }
   ],
   "source": [
    "print(1 + 2.0)\n",
    "print(2 * 3.0)\n",
    "print(3.0 ** 2)"
   ]
  },
  {
   "attachments": {},
   "cell_type": "markdown",
   "metadata": {},
   "source": [
    "### Sublinhados em Números\n",
    "Quando estiver escrevendo números longos, você pode agrupar os digitos usando sublinhados para torná-los mais legíveis:"
   ]
  },
  {
   "cell_type": "code",
   "execution_count": 32,
   "metadata": {},
   "outputs": [
    {
     "name": "stdout",
     "output_type": "stream",
     "text": [
      "14000000000\n"
     ]
    }
   ],
   "source": [
    "universe_age = 14_000_000_000\n",
    "print(universe_age)"
   ]
  },
  {
   "attachments": {},
   "cell_type": "markdown",
   "metadata": {},
   "source": [
    "Note que quando você imprime o número, Python apresenta apenas os dígitos, sem os sublinhados. Para o Python `1000` é o mesmo que `1_000` que é o mesmo que `10_00`. Isso funciona tanto para números inteiros quanto para números reais.\n",
    "\n",
    "### Atribuições Múltiplas\n",
    "Você pode atribuir valores para mais de uma variável usando apenas uma única linha de código:"
   ]
  },
  {
   "cell_type": "code",
   "execution_count": 33,
   "metadata": {},
   "outputs": [],
   "source": [
    "x, y, z = 0, 0, 0"
   ]
  },
  {
   "attachments": {},
   "cell_type": "markdown",
   "metadata": {},
   "source": [
    "Você precisa separar os nomes das variáveis com vírgulas e fazes o mesmo para os valores. O Python atribuirá cada valor para sua variável respectiva. Desde que o número de valores seja o mesmo número de variáveis, Python fará o resto.\n",
    "\n",
    "### Constantes\n",
    "Uma <i>constante</i> é uma variável cujo valor permanece o mesmo no decorrer da vida do programa. O Python não possui o tipo constante por padrão, mas os programadores utilizam letras maiúscula em todo o nome da variável para indicar que ela deve ser tratada como uma constante e nunca ser alterada:"
   ]
  },
  {
   "cell_type": "code",
   "execution_count": 34,
   "metadata": {},
   "outputs": [],
   "source": [
    "MAX_CONNECTIONS = 5000"
   ]
  },
  {
   "attachments": {},
   "cell_type": "markdown",
   "metadata": {},
   "source": [
    "### Tente Você\n",
    "\n",
    "9. <b>Número Oito:</b> Escreva uma operação de adição, uma de subtração, uma de multiplicação e uma de divisão que resultem no número 8. Certifique-se de incluir suas operações dentro de chamadas para `print()` para que os resultados sejam impressos na tela. Cada operação deve estar em sua própria linha de código.\n",
    "10. <b>Número Favorito:</b> Utilize uma variável para representar seu número favorito. Então, usando essa variável, crie uma mensagem que revele seu número favorito. Imprima essa mensagem.\n",
    "\n",
    "## Comentários\n",
    "Comentários são extremamente úteis na maioria das linguagens de programação. Um <i>comentário</i> permite que você escreva anotações em sua linguagem falada dentro de seus programas.\n",
    "\n",
    "### Como Você Escreve Comentários?\n",
    "Em Python, o símbolo hash (`#`) indica um comentário. Qualquer coisa após esse símbolo em seu código é ignorado pelo interpretador do Python. Vamos criar o arquivo `comment.py`:"
   ]
  },
  {
   "cell_type": "code",
   "execution_count": 35,
   "metadata": {},
   "outputs": [
    {
     "name": "stdout",
     "output_type": "stream",
     "text": [
      "Olá povo do Python!\n"
     ]
    }
   ],
   "source": [
    "# Diz olá para todos\n",
    "print(\"Olá povo do Python!\")"
   ]
  },
  {
   "attachments": {},
   "cell_type": "markdown",
   "metadata": {},
   "source": [
    "### Tente Você\n",
    "\n",
    "11. <b>Adicionando Comentários:</b> Escolha dois dos programas que você escreveu até aqui e adicione pelo menos um comentário em cada um deles. Se você não tiver nada específico para escrever devido a simplicidade de seus programas, apenas escreva seu nome e a data de criação do programa no topo de cada arquivo. Então escreva uma sentença descrevendo o que o programa faz."
   ]
  }
 ],
 "metadata": {
  "kernelspec": {
   "display_name": "Python 3",
   "language": "python",
   "name": "python3"
  },
  "language_info": {
   "codemirror_mode": {
    "name": "ipython",
    "version": 3
   },
   "file_extension": ".py",
   "mimetype": "text/x-python",
   "name": "python",
   "nbconvert_exporter": "python",
   "pygments_lexer": "ipython3",
   "version": "3.11.2"
  },
  "orig_nbformat": 4
 },
 "nbformat": 4,
 "nbformat_minor": 2
}
