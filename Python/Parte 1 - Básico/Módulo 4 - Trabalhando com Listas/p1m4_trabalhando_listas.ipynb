{
 "cells": [
  {
   "cell_type": "markdown",
   "metadata": {},
   "source": [
    "# Módulo 4 – Trabalhando com Listas"
   ]
  },
  {
   "attachments": {},
   "cell_type": "markdown",
   "metadata": {},
   "source": [
    "No Módulo 3 você aprendeu como criar uma lista simples e aprendeu a trabalham com os elementos individuais em uma lista. Nesse módulo você aprenderá como percorrer uma lista inteira usando apenas algumas linhas de código, independente do quão longa for a lista. *Looping* permite que você execute a mesma ação, ou conjunto de ações, com cada item em uma lista. Como resultado, você será capaz de trabalhar de maneira eficiente com listas de qualquer tamanho, incluindo àquelas com milhares ou até milhões de itens.\n",
    "\n",
    "## Pecorrendo uma Lista Inteira\n",
    "Quando você quiser realizar a mesma ação com cada item em uma lista, você pode usar o loop `for` do Python. Vamos criar o arquivo `singers.py`."
   ]
  },
  {
   "cell_type": "code",
   "execution_count": 1,
   "metadata": {},
   "outputs": [
    {
     "name": "stdout",
     "output_type": "stream",
     "text": [
      "adele\n",
      "dua lipa\n",
      "shawn mendes\n"
     ]
    }
   ],
   "source": [
    "singers = ['adele', 'dua lipa', 'shawn mendes']\n",
    "for singer in singers:\n",
    "  print(singer)"
   ]
  },
  {
   "attachments": {},
   "cell_type": "markdown",
   "metadata": {},
   "source": [
    "Nós começamos definindo uma lista. Então, nós definimos um loop `for`. Essa linha diz ao Python para pegar um nome da lista `singers` e associá-lo com a variável `singer`. Em seguida, nós dizemos ao Python para imprimir o nome que acabou de ser atribuído para `singer`. Por fim, o Python repete essas duas últimas linhas, uma vez para cada nome na lista. Você pode ler esse código como \"Para cada cantor na lista de cantores, imprima o nome do cantor.\"\n",
    "\n",
    "Quando estiver escrevendo seus próprios loops `for`, tenha em mente que você pode escolher qualquer nome para a variável temporária que será associada com cada valor na lista. Contudo, ajuda escolher um nome significativo para representar um único item da lista. Por exemplo, abaixo você encontra boas formas de iniciar um loop `for` para uma lista de gatos, uma de cachorros e uma lista genérica:\n",
    "\n",
    "```Python\n",
    "for cat in cats:\n",
    "for dog in dogs:\n",
    "for item in list_of_items:\n",
    "```\n",
    "\n",
    "### Trabalhando Mais Dentro de um Loop `for`\n",
    "Você pode fazer basicamente qualquer coisa com cada item em um loop `for`."
   ]
  },
  {
   "cell_type": "code",
   "execution_count": 3,
   "metadata": {},
   "outputs": [
    {
     "name": "stdout",
     "output_type": "stream",
     "text": [
      "Adele, essa apresentação foi ótima!\n",
      "Dua Lipa, essa apresentação foi ótima!\n",
      "Shawn Mendes, essa apresentação foi ótima!\n"
     ]
    }
   ],
   "source": [
    "singers = ['adele', 'dua lipa', 'shawn mendes']\n",
    "for singer in singers:\n",
    "  print(f\"{singer.title()}, essa apresentação foi ótima!\")"
   ]
  },
  {
   "attachments": {},
   "cell_type": "markdown",
   "metadata": {},
   "source": [
    "Você também pode escrever quantas linhas de código quiser em um loop `for`. Cada linha indentada após a linha `for singer in singers:` é considerada *dentro do loop* e cada linha indentada é executada uma vez para cada valor na lista."
   ]
  },
  {
   "cell_type": "code",
   "execution_count": 5,
   "metadata": {},
   "outputs": [
    {
     "name": "stdout",
     "output_type": "stream",
     "text": [
      "Adele, essa apresentação foi ótima!\n",
      "Mal posso esperar pelo seu próximo show, Adele.\n",
      "\n",
      "Dua Lipa, essa apresentação foi ótima!\n",
      "Mal posso esperar pelo seu próximo show, Dua Lipa.\n",
      "\n",
      "Shawn Mendes, essa apresentação foi ótima!\n",
      "Mal posso esperar pelo seu próximo show, Shawn Mendes.\n",
      "\n"
     ]
    }
   ],
   "source": [
    "singers = ['adele', 'dua lipa', 'shawn mendes']\n",
    "for singer in singers:\n",
    "  print(f\"{singer.title()}, essa apresentação foi ótima!\")\n",
    "  print(f\"Mal posso esperar pelo seu próximo show, {singer.title()}.\\n\")"
   ]
  },
  {
   "attachments": {},
   "cell_type": "markdown",
   "metadata": {},
   "source": [
    "### Fazendo Alguma Coisa Após um Loop `for`\n",
    "O que acontece após o término da execução de um loop `for`? Quaisquer linhas de código após o loop `for` que não estejam indentada são executados uma vez sem repetição."
   ]
  },
  {
   "cell_type": "code",
   "execution_count": 6,
   "metadata": {},
   "outputs": [
    {
     "name": "stdout",
     "output_type": "stream",
     "text": [
      "Adele, essa apresentação foi ótima!\n",
      "Mal posso esperar pelo seu próximo show, Adele.\n",
      "\n",
      "Dua Lipa, essa apresentação foi ótima!\n",
      "Mal posso esperar pelo seu próximo show, Dua Lipa.\n",
      "\n",
      "Shawn Mendes, essa apresentação foi ótima!\n",
      "Mal posso esperar pelo seu próximo show, Shawn Mendes.\n",
      "\n",
      "Obrigado à todos. Esse foi um ótimo festival!\n"
     ]
    }
   ],
   "source": [
    "singers = ['adele', 'dua lipa', 'shawn mendes']\n",
    "for singer in singers:\n",
    "  print(f\"{singer.title()}, essa apresentação foi ótima!\")\n",
    "  print(f\"Mal posso esperar pelo seu próximo show, {singer.title()}.\\n\")\n",
    "\n",
    "print(\"Obrigado à todos. Esse foi um ótimo festival!\")"
   ]
  },
  {
   "attachments": {},
   "cell_type": "markdown",
   "metadata": {},
   "source": [
    "### Tente Você\n",
    "\n",
    "1. **Pizzas:** Pense em pelo menos três tipos de pizza. Armazene esses nomes de pizza em uma lista e então utilize um loop `for` para imprimir o nome de cada pizza.\n",
    "    - Modifique seu loop `for` para imprimir uma frase usando o nome da pizza, ao invés de imprimir apenas o nome dela. Para cada pizza, você deve ter uma linha de saída contendo uma declaração simples, como *Eu gosto de pizza de pepperoni*\n",
    "    - Adicione uma linha no final do programa, fora do loop `for`, que declare o quanto você gosta de pizza. A saída deve consistir de três ou mais linhas sobre os tipos de pizza que você gosta e então uma frase adicional, como *Eu realmente amo pizza!*\n",
    "2. **Animais:** Pense em pelo menos três tipos diferentes de animais que possuem uma característica em comum. Armazene os nomes desses animais em uma lista e então utilize um loop `for` para imprimir o nome de cada animal.\n",
    "    - Modifique seu programa para imprimir uma declaração sobre cada animal, como *Um cachorro seria um ótimo animal de estimação*\n",
    "    - Adicione uma linha ao final de seu programa, declarando o que esses animais têm em comum. Você poderia imprimir uma frase, como *Qualquer um desses animais seria um ótimo animal de estimação!*\n",
    "\n",
    "## Criando Listas Numéricas\n",
    "Listas são idênticas quanto se trata de armazenar strings ou conjuntos de números e o Python fornece uma variedade de ferramentas para ajudá-lo(a) a trabalha eficientemente com listas de números.\n",
    "\n",
    "### Usando a Função `range()`\n",
    "A função `range()` do Python torna fácil gerar uma série de números. Vamos criar o arquivo `first_numbers.py`."
   ]
  },
  {
   "cell_type": "code",
   "execution_count": 7,
   "metadata": {},
   "outputs": [
    {
     "name": "stdout",
     "output_type": "stream",
     "text": [
      "1\n",
      "2\n",
      "3\n",
      "4\n"
     ]
    }
   ],
   "source": [
    "for value in range(1, 5):\n",
    "    print(value)"
   ]
  },
  {
   "attachments": {},
   "cell_type": "markdown",
   "metadata": {},
   "source": [
    "De início, você pode ter imaginado que esse código deveria imprimir os números de 1 até 5, mas o `range()` imprime apenas os números 1 até 4. A função `range()` começa a contar a partir do primeiro número que você fornecer e para quando alcança o segundo valor. Uma vez que ela para no segundo valor, a saída nunca contém o valor final, que seria 5 nesse caso.\n",
    "\n",
    "Para imprimir os números de 1 até 5, você teria que usar `range(1, 6)`.\n",
    "\n",
    "Você também pode passar apenas um argumento para `range()` e ele iniciará a sequência de números no 0."
   ]
  },
  {
   "cell_type": "code",
   "execution_count": 8,
   "metadata": {},
   "outputs": [
    {
     "name": "stdout",
     "output_type": "stream",
     "text": [
      "0\n",
      "1\n",
      "2\n",
      "3\n",
      "4\n",
      "5\n"
     ]
    }
   ],
   "source": [
    "for value in range(6):\n",
    "  print(value)"
   ]
  },
  {
   "attachments": {},
   "cell_type": "markdown",
   "metadata": {},
   "source": [
    "### Usando `range()` para Criar uma Lista de Números\n",
    "Você pode converter os resultados de `range()` diretamente em uma lista usando a função `list()`."
   ]
  },
  {
   "cell_type": "code",
   "execution_count": 9,
   "metadata": {},
   "outputs": [
    {
     "name": "stdout",
     "output_type": "stream",
     "text": [
      "[1, 2, 3, 4, 5]\n"
     ]
    }
   ],
   "source": [
    "numbers = list(range(1, 6))\n",
    "print(numbers)"
   ]
  },
  {
   "attachments": {},
   "cell_type": "markdown",
   "metadata": {},
   "source": [
    "Nós também podemos usar a função `range()` para dizer ao Python que pule números em um determinado alcance. Se você passar um terceiro argumento para `range()`, o Python utilizará esse valor como um tamanho de incremento quando for gerar os números. Vamos criar o arquivo `even_numbers.py`."
   ]
  },
  {
   "cell_type": "code",
   "execution_count": 10,
   "metadata": {},
   "outputs": [
    {
     "name": "stdout",
     "output_type": "stream",
     "text": [
      "[2, 4, 6, 8, 10]\n"
     ]
    }
   ],
   "source": [
    "even_numbers = list(range(2, 11, 2))\n",
    "print(even_numbers)"
   ]
  },
  {
   "attachments": {},
   "cell_type": "markdown",
   "metadata": {},
   "source": [
    "Nesse exemplo, a função `range()` inicia com o valor 2 e então adiciona 2 à esse valor. Ela adiciona 2 repetidamente até alcançar ou passar o valor final, 11.\n",
    "\n",
    "Você pode criar praticamente qualquer conjunto de números que desejar usando a função `range()`. Por exemplo, considere que você deseja criar uma lista dos 10 primeiros números quadrados (isso é, o quadrado de cada número inteiro de 1 até 10). Em Python, dois asteriscos (`**`) representa expoentes. Vamos criar o arquivo `square_numbers.py`."
   ]
  },
  {
   "cell_type": "code",
   "execution_count": 11,
   "metadata": {},
   "outputs": [
    {
     "name": "stdout",
     "output_type": "stream",
     "text": [
      "[1, 4, 9, 16, 25, 36, 49, 64, 81, 100]\n"
     ]
    }
   ],
   "source": [
    "squares = []\n",
    "for value in range(1, 11):\n",
    "    square = value ** 2\n",
    "    squares.append(square)\n",
    "\n",
    "print(squares)"
   ]
  },
  {
   "attachments": {},
   "cell_type": "markdown",
   "metadata": {},
   "source": [
    "Você pode escrever esse código de maneira mais concisa, omitindo a variável temporária `square` e adicionando cada valor novo diretamente na lista:"
   ]
  },
  {
   "cell_type": "code",
   "execution_count": 12,
   "metadata": {},
   "outputs": [
    {
     "name": "stdout",
     "output_type": "stream",
     "text": [
      "[1, 4, 9, 16, 25, 36, 49, 64, 81, 100]\n"
     ]
    }
   ],
   "source": [
    "squares = []\n",
    "for value in range(1, 11):\n",
    "    squares.append(value ** 2)\n",
    "\n",
    "print(squares)"
   ]
  },
  {
   "attachments": {},
   "cell_type": "markdown",
   "metadata": {},
   "source": [
    "### Estatísticas Simples com uma Lista de Números\n",
    "Algunas funções do Python são úteis quando se está trabalhando com listas de números. Por exemplo, você pode facilmente encontrar o mínimo, máximo e a soma de uma lista de números."
   ]
  },
  {
   "cell_type": "code",
   "execution_count": 14,
   "metadata": {},
   "outputs": [
    {
     "name": "stdout",
     "output_type": "stream",
     "text": [
      "0\n",
      "9\n",
      "45\n"
     ]
    }
   ],
   "source": [
    "digits = [1, 2, 3, 4, 5, 6, 7, 8, 9, 0]\n",
    "print(min(digits))\n",
    "print(max(digits))\n",
    "print(sum(digits))"
   ]
  },
  {
   "attachments": {},
   "cell_type": "markdown",
   "metadata": {},
   "source": [
    "### Compreensão da Listas\n",
    "A abordagem apresentada anteriormente para gerar a lista `squares` consistia no uso de três ou quatro linhas de código. A *compreensão de listas* permite que você crie essa mesma lista em apenas uma linha de código. Uma compreensão de lista combina o loop `for` e a criação de novos elementos em uma linha e adicionada automaticamente cada elemento na lista. Esse conceito pode ser um pouco assustador para novatos, mas você verá essa técnica com frequência quando começar a analisar o código de outros programadores.\n",
    "\n",
    "O exemplo abaixo cria a mesma lista de números quadrados que você viu antes, mas utiliza uma compreensão de lista; vamos criando o arquivo `squares.py` para isso."
   ]
  },
  {
   "cell_type": "code",
   "execution_count": 15,
   "metadata": {},
   "outputs": [
    {
     "name": "stdout",
     "output_type": "stream",
     "text": [
      "[1, 4, 9, 16, 25, 36, 49, 64, 81, 100]\n"
     ]
    }
   ],
   "source": [
    "squares = [value**2 for value in range(1, 11)]\n",
    "print(squares)"
   ]
  },
  {
   "attachments": {},
   "cell_type": "markdown",
   "metadata": {},
   "source": [
    "Para usar essa sintaxe, inicie com um nome descritivo para a lista, como `squares`. Em seguida, abra um colchete e defina a expressão para os valores que você quer armazenar na nova lista. Nesse exemplo a expressão é `value**2`, que eleva o valor à segunda potência. Então, escreva um loop `for` para gerar os números que você quer alimentar a expressão e feche o colchete. O loop `for` nesse exemplo é `for value in range(1, 10)`, que alimenta os valores 1 até 10 na expressão `value**2`. Observe que os dois pontos (`:`) não são utilizados no final da instrução `for`.\n",
    "\n",
    "### Tente Você\n",
    "\n",
    "3. **Contando até Vinte:** Utilize um loop `for` para imprimir os números de 1 até 20, inclusivo.\n",
    "4. **Um Milhão:** Crie uma lista dos números de um até um milhão e então utilize um loop `for` para imprimir os números.\n",
    "5. **Somando um Milhão:** Crie uma lista dos números de um até um milhão e então utilize `min()` e `max()` para garantir que sua lista realmente inicia em um e termina em um milhão. Além disso, utilize a função `sum()` para ver o quão rapidamente o Python consegue somar um milhão de números.\n",
    "6. **Números Ímpares:** Utilize o terceiro argumento da função `range()` para criar uma lista dos números ímpares de 1 até 20. Utilize um loop `for` para imprimir cada número.\n",
    "7. **Três:** Crie uma lista com os múltiplos de 3, de 3 até 30. Utilize um loop `for` para imprimir os números em sua lista.\n",
    "8. **Cubos:** Um número elevado à terceira potência é chamado de um *cubo*. Por exemplo, o cubo de 2 é escrito como `2**3`em Python. Crie uma lista dos 10 primeiros cubos (isso é, o cubo de cada número inteiro de 1 até 10) e utilize um loop `for` para imprimir o valor de cada cubo.\n",
    "9. **Compreensão de Cubos:** Utilize uma compreensão de lista para gerar a lista dos primeiros 10 cubos.\n",
    "\n",
    "## Trabalhando com Parte de uma Lista"
   ]
  }
 ],
 "metadata": {
  "kernelspec": {
   "display_name": "Python 3",
   "language": "python",
   "name": "python3"
  },
  "language_info": {
   "codemirror_mode": {
    "name": "ipython",
    "version": 3
   },
   "file_extension": ".py",
   "mimetype": "text/x-python",
   "name": "python",
   "nbconvert_exporter": "python",
   "pygments_lexer": "ipython3",
   "version": "3.11.2"
  },
  "orig_nbformat": 4
 },
 "nbformat": 4,
 "nbformat_minor": 2
}
