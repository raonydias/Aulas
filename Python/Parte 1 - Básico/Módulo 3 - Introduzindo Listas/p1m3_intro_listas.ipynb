{
 "cells": [
  {
   "attachments": {},
   "cell_type": "markdown",
   "metadata": {},
   "source": [
    "# Módulo 3 — Introduzindo Listas"
   ]
  },
  {
   "attachments": {},
   "cell_type": "markdown",
   "metadata": {},
   "source": [
    "Nesse e no próximo módulo você aprenderá o que são listas e como começar a trabalhar com os elementos em uma lista. As listas permitem que você armazene conjuntos de informações em um lugar, seja apenas alguns itens ou milhões de itens. Elas são uma das funcionalidades mais poderosas do Python e são facilmente acessíveis para novos programadores, além de unirem vários conceitos importantes de programação.\n",
    "\n",
    "## O Que É uma Lista?\n",
    "Uma <i>lista</i> é uma coleção de itens em uma determinada ordem. Ela pode incluir letras do alfabeto, os dígitos de 0 até 9 ou os nomes de todas as pessoas na sua família. Tudo que você quiser pode ser colocado em uma lista e cada item não precisa ter uma relação com os demais. Uma vez que as listas contêm mais de um elemento é convenção nomeá-las no plural, como `letters`, `digits` ou `names`.\n",
    "\n",
    "Em Python, colchetes (`[]`) indicam uma lista e os elementos individuais na lista são separados por vírgulas. Vamos criar o arquivo `cars.py`."
   ]
  },
  {
   "cell_type": "code",
   "execution_count": 1,
   "metadata": {},
   "outputs": [
    {
     "name": "stdout",
     "output_type": "stream",
     "text": [
      "['golf', 'uno', 'escort', 'logan']\n"
     ]
    }
   ],
   "source": [
    "cars = ['golf', 'uno', 'escort', 'logan']\n",
    "print(cars)"
   ]
  },
  {
   "attachments": {},
   "cell_type": "markdown",
   "metadata": {},
   "source": [
    "## Acessando Elementos em uma Lista\n",
    "As listas são coleções ordenadas, então você pode acessar qualquer elemento em uma lista dizendo ao Python qual é a posição, ou <i>index</i> (índice), do item desejado. Para acessar um elemento em uma lista, escreva o nome da lista seguido pelo index do item dentro de um par de colchetes."
   ]
  },
  {
   "cell_type": "code",
   "execution_count": 2,
   "metadata": {},
   "outputs": [
    {
     "name": "stdout",
     "output_type": "stream",
     "text": [
      "golf\n"
     ]
    }
   ],
   "source": [
    "cars = ['golf', 'uno', 'escort', 'logan']\n",
    "print(cars[0])"
   ]
  },
  {
   "attachments": {},
   "cell_type": "markdown",
   "metadata": {},
   "source": [
    "Você pode usar os métodos de string do Módulo 2 em qualquer elemento de uma lista que seja uma string."
   ]
  },
  {
   "cell_type": "code",
   "execution_count": 3,
   "metadata": {},
   "outputs": [
    {
     "name": "stdout",
     "output_type": "stream",
     "text": [
      "Golf\n"
     ]
    }
   ],
   "source": [
    "cars = ['golf', 'uno', 'escort', 'logan']\n",
    "print(cars[0].title())"
   ]
  },
  {
   "attachments": {},
   "cell_type": "markdown",
   "metadata": {},
   "source": [
    "## As Posições de Index Iniciam em 0, Não 1\n",
    "O Python considera que o primeiro item em uma lista está na posição 0, não na posição 1. Isso é verdade para a maioria das linguagens de programação e, o motivo, tem relação com a maneira que as operações com listas são implementadas no nível mais baixo.\n",
    "\n",
    "O segundo item em uma lista possui um index de 1. Usando esse sistema de contagem, você pode obter qualquer elemento que deseja de uma lista subtraindo um da posição dele na lista. Por exemplo, para acessar o quarto item na lista, você solicita o item no index 3."
   ]
  },
  {
   "cell_type": "code",
   "execution_count": 4,
   "metadata": {},
   "outputs": [
    {
     "name": "stdout",
     "output_type": "stream",
     "text": [
      "uno\n",
      "logan\n"
     ]
    }
   ],
   "source": [
    "cars = ['golf', 'uno', 'escort', 'logan']\n",
    "print(cars[1])\n",
    "print(cars[3])"
   ]
  },
  {
   "attachments": {},
   "cell_type": "markdown",
   "metadata": {},
   "source": [
    "O Python possui uma sintaxe especial para acessar o último elemento de uma lista. Se você solicitar o item no index -1, Python sempre retornará o último item na lista:"
   ]
  },
  {
   "cell_type": "code",
   "execution_count": 5,
   "metadata": {},
   "outputs": [
    {
     "name": "stdout",
     "output_type": "stream",
     "text": [
      "logan\n"
     ]
    }
   ],
   "source": [
    "cars = ['golf', 'uno', 'escort', 'logan']\n",
    "print(cars[-1])"
   ]
  },
  {
   "attachments": {},
   "cell_type": "markdown",
   "metadata": {},
   "source": [
    "Isso é útil, pois muitas vezes você vai desejar acessar o último elemento da lista sem saber o tamanho exato dela. Essa convenção negativa se estende: o index -2 é o penúltimo item na lista o index -3 o antepenúltimo, e assim por diante.\n",
    "\n",
    "## Usando Valores Individuais de uma Lista\n",
    "Você pode usar os valores individuais de uma lista da mesma forma que usaria qualquer variável. Por exemplo, você pode usar f-strings para criar uma mensagem baseada em um valor de uma lista."
   ]
  },
  {
   "cell_type": "code",
   "execution_count": 6,
   "metadata": {},
   "outputs": [
    {
     "name": "stdout",
     "output_type": "stream",
     "text": [
      "Meu primeiro carro foi um Golf.\n"
     ]
    }
   ],
   "source": [
    "cars = ['golf', 'uno', 'escort', 'logan']\n",
    "message = f\"Meu primeiro carro foi um {cars[0].title()}.\"\n",
    "\n",
    "print(message)"
   ]
  },
  {
   "attachments": {},
   "cell_type": "markdown",
   "metadata": {},
   "source": [
    "## Tente Você\n",
    "\n",
    "1. <b>Nomes:</b> Armazene os nomes de alguns de seus amigos em uma lista chamada `names`. Imprima o nome de cada pessoa acessando cada elemento na lista, um por vez.\n",
    "2. <b>Cumprimentos:</b> Comece com a lista que você usou no Exercício 1, mas ao invés de apenas imprimir o nome de cada pessoa, imprima uma mensagem para elas. O texto de cada mensagem deve ser o mesmo, mas cada mensagem deve ser personalizada com o nome da pessoa.\n",
    "3. <b>Sua Própria Lista:</b> Pense no seu modo de transporte favorito, como motos, bicicletas ou carros, e faça uma lista que armazene vários exemplos. Use sua lista para imprimir uma série de afirmações sobre esses itens, como \"Eu gostaria de possui uma motocicleta da Honda.\"\n",
    "\n",
    "## Modificando, Adicionando e Removendo Elementos\n",
    "A maioria das listas que você criará serão <i>dinâmicas</i>; você construirá uma lista e então adicionará e removerá elementos dela conforme seu programa roda.\n",
    "\n",
    "### Modificando Elementos em uma Lista\n",
    "A sintaxe para modificar um elemento é semelhante a sintaxe para acessá-lo. Para alterar um elemento, utilize o nome da lista seguido pelo index do elemento que você quer mudar e então forneceça um novo valor que você quer que o item possua."
   ]
  },
  {
   "cell_type": "code",
   "execution_count": 7,
   "metadata": {},
   "outputs": [
    {
     "name": "stdout",
     "output_type": "stream",
     "text": [
      "['honda', 'yamaha', 'suzuki']\n",
      "['ducati', 'yamaha', 'suzuki']\n"
     ]
    }
   ],
   "source": [
    "motorcycles = ['honda', 'yamaha', 'suzuki']\n",
    "print(motorcycles)\n",
    "\n",
    "motorcycles[0] = 'ducati'\n",
    "print(motorcycles)"
   ]
  },
  {
   "attachments": {},
   "cell_type": "markdown",
   "metadata": {},
   "source": [
    "### Adicionando Elementos em uma Lista\n",
    "O Python fornece várias maneiras de adicionar novos dados para listas existentes.\n",
    "\n",
    "#### Anexando Elementos para o Final de uma Lista\n",
    "A forma mais simples de adicionar um elemento novo para uma lista é <i>append</i> (anexar) o item na lista. Quando você anexa um item para uma lista, o novo elemento é adicionado ao final da lista."
   ]
  },
  {
   "cell_type": "code",
   "execution_count": 8,
   "metadata": {},
   "outputs": [
    {
     "name": "stdout",
     "output_type": "stream",
     "text": [
      "['honda', 'yamaha', 'suzuki']\n",
      "['honda', 'yamaha', 'suzuki', 'ducati']\n"
     ]
    }
   ],
   "source": [
    "motorcycles = ['honda', 'yamaha', 'suzuki']\n",
    "print(motorcycles)\n",
    "\n",
    "motorcycles.append('ducati')\n",
    "print(motorcycles)"
   ]
  },
  {
   "attachments": {},
   "cell_type": "markdown",
   "metadata": {},
   "source": [
    "O método `append()` torna fácil construir listas dinamicamente. Por exemplo, você pode começar com uma lista vazia e então adicionar itens à ela usando uma série de chamadas para `append()`."
   ]
  },
  {
   "cell_type": "code",
   "execution_count": 9,
   "metadata": {},
   "outputs": [
    {
     "name": "stdout",
     "output_type": "stream",
     "text": [
      "['honda', 'yamaha', 'suzuki']\n"
     ]
    }
   ],
   "source": [
    "motorcycles = []\n",
    "\n",
    "motorcycles.append('honda')\n",
    "motorcycles.append('yamaha')\n",
    "motorcycles.append('suzuki')\n",
    "\n",
    "print(motorcycles)"
   ]
  },
  {
   "attachments": {},
   "cell_type": "markdown",
   "metadata": {},
   "source": [
    "#### Inserindo Elementos em uma Lista\n",
    "Você pode adicionar um novo elemento em qualquer posição na sua lista usando o método `insert()`. Você faz isso especificando o index do novo elemento e o valor do novo item:"
   ]
  },
  {
   "cell_type": "code",
   "execution_count": 11,
   "metadata": {},
   "outputs": [
    {
     "name": "stdout",
     "output_type": "stream",
     "text": [
      "['honda', 'yamaha', 'suzuki']\n",
      "['ducati', 'honda', 'yamaha', 'suzuki']\n"
     ]
    }
   ],
   "source": [
    "motorcycles = ['honda', 'yamaha', 'suzuki']\n",
    "print(motorcycles)\n",
    "\n",
    "motorcycles.insert(0, 'ducati')\n",
    "print(motorcycles)"
   ]
  },
  {
   "attachments": {},
   "cell_type": "markdown",
   "metadata": {},
   "source": [
    "Essa operação move todos os elementos à direita do novo item em uma posição."
   ]
  },
  {
   "attachments": {},
   "cell_type": "markdown",
   "metadata": {},
   "source": [
    "### Removendo Elementos de uma Lista\n",
    "Frequentemente, você vai desejar a remoção de um item ou um conjunto de itens de uma lista. Você pode remover um item de acordo com sua posição na lista ou de acordo com seu valor.\n",
    "\n",
    "#### Removendo um Item Usando a Instrução `del`\n",
    "Se você souber a posição do item que quer remover da lista, você pode usar a instrução `del`:"
   ]
  },
  {
   "cell_type": "code",
   "execution_count": 12,
   "metadata": {},
   "outputs": [
    {
     "name": "stdout",
     "output_type": "stream",
     "text": [
      "['honda', 'yamaha', 'suzuki']\n",
      "['yamaha', 'suzuki']\n"
     ]
    }
   ],
   "source": [
    "motorcycles = ['honda', 'yamaha', 'suzuki']\n",
    "print(motorcycles)\n",
    "\n",
    "del motorcycles[0]\n",
    "print(motorcycles)"
   ]
  },
  {
   "attachments": {},
   "cell_type": "markdown",
   "metadata": {},
   "source": [
    "Você pode remover um item de qualquer posição em uma lista usando a instrução `del` se você souber seu index."
   ]
  },
  {
   "cell_type": "code",
   "execution_count": 13,
   "metadata": {},
   "outputs": [
    {
     "name": "stdout",
     "output_type": "stream",
     "text": [
      "['honda', 'yamaha', 'suzuki']\n",
      "['honda', 'suzuki']\n"
     ]
    }
   ],
   "source": [
    "motorcycles = ['honda', 'yamaha', 'suzuki']\n",
    "print(motorcycles)\n",
    "\n",
    "del motorcycles[1]\n",
    "print(motorcycles)"
   ]
  },
  {
   "attachments": {},
   "cell_type": "markdown",
   "metadata": {},
   "source": [
    "#### Removendo um Item Usando o Método `pop()`\n",
    "Algumas vezes você vai querer usar o valor de um item antes de removê-lo da lista. O método `pop()` remove o último item em uma lista, mas permite que você trabalhe com esse item antes de removê-lo."
   ]
  },
  {
   "cell_type": "code",
   "execution_count": 14,
   "metadata": {},
   "outputs": [
    {
     "name": "stdout",
     "output_type": "stream",
     "text": [
      "['honda', 'yamaha', 'suzuki']\n",
      "['honda', 'yamaha']\n",
      "suzuki\n"
     ]
    }
   ],
   "source": [
    "motorcycles = ['honda', 'yamaha', 'suzuki']\n",
    "print(motorcycles)\n",
    "\n",
    "popped_motorcycle = motorcycles.pop()\n",
    "print(motorcycles)\n",
    "print(popped_motorcycle)"
   ]
  },
  {
   "attachments": {},
   "cell_type": "markdown",
   "metadata": {},
   "source": [
    "Qual seria a utilidade desse método `pop()`? Imagine que as motos na lista estão armazenadas em ordem cronológica de acordo com quando você comprou-as. Se esse for o caso, você pode usar o método `pop()` para imprimir uma declaração sobre a última moto que comprou:"
   ]
  },
  {
   "cell_type": "code",
   "execution_count": 15,
   "metadata": {},
   "outputs": [
    {
     "name": "stdout",
     "output_type": "stream",
     "text": [
      "A última moto que eu comprei foi uma Suzuki.\n"
     ]
    }
   ],
   "source": [
    "motorcycles = ['honda', 'yamaha', 'suzuki']\n",
    "\n",
    "last_owned = motorcycles.pop()\n",
    "print(f\"A última moto que eu comprei foi uma {last_owned.title()}.\")"
   ]
  },
  {
   "attachments": {},
   "cell_type": "markdown",
   "metadata": {},
   "source": [
    "##### Removendo Itens com `pop()` em Qualquer Posição da Lista\n",
    "Você pode usar o `pop()` para remover um item de qualquer posição em uma lista ao incluir o index do item que quer remover dentro do parênteses do método:"
   ]
  },
  {
   "cell_type": "code",
   "execution_count": 17,
   "metadata": {},
   "outputs": [
    {
     "name": "stdout",
     "output_type": "stream",
     "text": [
      "A primeira moto que eu comprei foi uma Honda.\n"
     ]
    }
   ],
   "source": [
    "motorcycles = ['honda', 'yamaha', 'suzuki']\n",
    "\n",
    "first_owned = motorcycles.pop(0)\n",
    "print(f\"A primeira moto que eu comprei foi uma {first_owned.title()}.\")"
   ]
  },
  {
   "attachments": {},
   "cell_type": "markdown",
   "metadata": {},
   "source": [
    "#### Removendo um Item pelo Valor\n",
    "Algumas vezes você não saberá a posição do valor que quer remover de uma lista. Se você sabe apenas o valor do item que quer remover, você pode usar o método `remove()`."
   ]
  },
  {
   "cell_type": "code",
   "execution_count": 18,
   "metadata": {},
   "outputs": [
    {
     "name": "stdout",
     "output_type": "stream",
     "text": [
      "['honda', 'yamaha', 'suzuki', 'ducati']\n",
      "['honda', 'yamaha', 'suzuki']\n"
     ]
    }
   ],
   "source": [
    "motorcycles = ['honda', 'yamaha', 'suzuki', 'ducati']\n",
    "print(motorcycles)\n",
    "\n",
    "motorcycles.remove('ducati')\n",
    "print(motorcycles)"
   ]
  },
  {
   "attachments": {},
   "cell_type": "markdown",
   "metadata": {},
   "source": [
    "<b>Nota:</b> <i>O método `remove()` deleta apenas a primeira ocorrência do valor que você especificar. Se houver a possibilidade de existirem duplicatas do valor na lista, você precisará de um loop para garantir que todas as ocorrências forem removidas. Você aprenderá como fazer isso no Módulo 7.</i>\n",
    "\n",
    "### Tente Você\n",
    "\n",
    "4. <b>Lista de Convidados:</b> Se você pudesse convidar alguém, vivo ou morto, para um jantar, quem você convidaria? Crie uma lista que inclua pelo menos três pessoas que você gostaria de convidar para jantar. Então use sua lista para imprimir uma mensagem para cada pessoa, convidando-as para o jantar.\n",
    "5. <b>Alterando a Lista de Convidados:</b> Você acabou de receber a notícia que um de seus convidados não pode comparecer ao jantar, então você precisa enviar um novo conjunto de convites. Você terá que pensar em outra pessoa para convidar.\n",
    "    - Inicie com seu programa do Exercício 4. Adicione uma chamada ao `print()` no final do seu programa, declarando o nome do convidado que não poderá comparecer.\n",
    "    - Modifique sua lista, substituindo o nome desse convidado pelo nome da nova pessoa que você está convidando.\n",
    "    - Imprima um segundo conjunto de mensagens de convite, uma para cada pessoa que ainda está na lista.\n",
    "6. <b>Mais Convidados:</b> Você acabou de encontrar uma mesa de jantar maior, então agora mais espaço está disponível. Pense em mais três convidados para chamar para jantar.\n",
    "    - Inicie com seu programa do Exercício 4 ou 5. Adicione uma chamada ao `print()` no final do seu programa, informando as pessoas que você encontrou uma mesa maior.\n",
    "    - Utilize `insert()` para adicionar um novo convidado ao começo da sua lista.\n",
    "    - Utilize `insert()` para adicionar um novo convidado ao meio da sua lista.\n",
    "    - Utilize `append()` para adicionar um novo convidado ao final da sua lista.\n",
    "    - Imprima um novo conjunto de mensagens de convite, um para cada pessoa em sua lista.\n",
    "7. <b>Encolhendo a Lista de Convidados:</b> Você acabou de descobrir que sua nova mesa de jantar não chegará a tempo para o jantar e agora você tem espaço para apenas dois convidados.\n",
    "    - Inicia com seu programa do Exercício 6. Adicione uma nova linha que imprima uma mensagem dizendo que você pode convidar apenas duas pessoas para o jantar.\n",
    "    - Utilize `pop()` para remover convidados de sua lista, um por vez, até que apenas dois nomes permaneçam em sua lista. Toda vez que você remover um nome de sua lista, imprima uma mensagem para essa pessoa informando que você sente muito por não poder convidá-la para o jantar.\n",
    "    - Imprima uma mensagem para cada uma das duas pessoas em sua lista, informando-as que elas ainda estão convidadas.\n",
    "    - Utilize `del` para remover os dois últimos nomes de sua lista, para que tenha uma lista vazia. Imprima sua lista para garantir que ela realmente está vazia e encerre seu programa.\n",
    "\n",
    "## Organizando uma Lista\n",
    "Frequentemente, suas listas serão criadas em uma ordem imprevisível, pois você nem sempre terá controle sobre a ordem na qual os seus usuários forneceram seus dados. Porém, você frequentemente desejará aprensentar sua informação em uma determinada ordem. Algumas vezes você vai querer preservar a ordem original da lista e outras vezes alterar a ordem original. O Python fornece um número de maneiras diferentes para organizar suas listas, dependendo da situação.\n",
    "\n",
    "### Ordenando uma Lista Permanentemente com o Método `sort()`\n",
    "O método `sort()` do Python torna relativamente fácil ordenar uma lista. Ele altera a ordem da lista para armazenar seus elementos alfabeticamente. Vamos criar o arquivo `countries.py`."
   ]
  },
  {
   "cell_type": "code",
   "execution_count": 2,
   "metadata": {},
   "outputs": [
    {
     "name": "stdout",
     "output_type": "stream",
     "text": [
      "['austrália', 'brasil', 'suíça', 'tailândia']\n"
     ]
    }
   ],
   "source": [
    "countries = ['brasil', 'austrália', 'tailândia', 'suíça']\n",
    "countries.sort()\n",
    "print(countries)"
   ]
  },
  {
   "attachments": {},
   "cell_type": "markdown",
   "metadata": {},
   "source": [
    "O método `sort()` altera a ordem da lista permanentemente. Uma vez usado, a lista estará em ordem alfabética e não poderá ser revertida para a ordem original.\n",
    "\n",
    "Você também pode ordenar sua lista em ordem alfabética reversa passando o argumento `reverse=True` para o método `sort()`."
   ]
  },
  {
   "cell_type": "code",
   "execution_count": 3,
   "metadata": {},
   "outputs": [
    {
     "name": "stdout",
     "output_type": "stream",
     "text": [
      "['tailândia', 'suíça', 'brasil', 'austrália']\n"
     ]
    }
   ],
   "source": [
    "countries = ['brasil', 'austrália', 'tailândia', 'suíça']\n",
    "countries.sort(reverse=True)\n",
    "print(countries)"
   ]
  },
  {
   "attachments": {},
   "cell_type": "markdown",
   "metadata": {},
   "source": [
    "Lembre-se: a mudança é permanente, mesmo no modo reverso.\n",
    "\n",
    "### Ordenando uma Lista Temporariamente com a Função `sorted()`\n",
    "Para manter a ordem original de uma lista, mas apresentá-la em uma ordem organizada, você pode usar a função `sorted()`. A função `sorted()` não afeta a ordem real da lista."
   ]
  },
  {
   "cell_type": "code",
   "execution_count": 4,
   "metadata": {},
   "outputs": [
    {
     "name": "stdout",
     "output_type": "stream",
     "text": [
      "Aqui está a lista original:\n",
      "['brasil', 'austrália', 'tailândia', 'suíça']\n",
      "\n",
      "Aqui está a lista ordenada:\n",
      "['austrália', 'brasil', 'suíça', 'tailândia']\n",
      "\n",
      "Aqui está a lista original novamente:\n",
      "['brasil', 'austrália', 'tailândia', 'suíça']\n"
     ]
    }
   ],
   "source": [
    "countries = ['brasil', 'austrália', 'tailândia', 'suíça']\n",
    "\n",
    "print(\"Aqui está a lista original:\")\n",
    "print(countries)\n",
    "\n",
    "print(\"\\nAqui está a lista ordenada:\")\n",
    "print(sorted(countries))\n",
    "\n",
    "print(\"\\nAqui está a lista original novamente:\")\n",
    "print(countries)"
   ]
  },
  {
   "attachments": {},
   "cell_type": "markdown",
   "metadata": {},
   "source": [
    "Note que a lista ainda existe em sua ordem original após a função `sorted()` ser usada. A função `sorted()` também aceita o argumento `reverse=True` se você quiser apresentar uma lista em ordem alfabética reversa.\n",
    "\n",
    "**Nota:** *Ordenar uma lista alfabeticamente é um pouco mais complicado quando todos os valores não estão em letra minúscula. Existem várias formas de lidar com diferentes caracteres e letras maiúsculas, mas você verá isso posteriormente durante as aulas.*\n",
    "\n",
    "### Imprimindo uma Lista em Ordem Reversa\n",
    "Para reverter a ordem original de uma lista, você pode usar o método `reverse()`."
   ]
  },
  {
   "cell_type": "code",
   "execution_count": 5,
   "metadata": {},
   "outputs": [
    {
     "name": "stdout",
     "output_type": "stream",
     "text": [
      "['brasil', 'austrália', 'tailândia', 'suíça']\n",
      "['suíça', 'tailândia', 'austrália', 'brasil']\n"
     ]
    }
   ],
   "source": [
    "countries = ['brasil', 'austrália', 'tailândia', 'suíça']\n",
    "print(countries)\n",
    "\n",
    "countries.reverse()\n",
    "print(countries)"
   ]
  },
  {
   "attachments": {},
   "cell_type": "markdown",
   "metadata": {},
   "source": [
    "Note que o `reverse()` não lida com ordem alfabética; ele simplesmente reverte a ordem da lista. Ele altera a lista permanentemente, mas você pode voltar à ordem original a qualquer momento simplesmente aplicando `reverse()` uma segunda vez.\n",
    "\n",
    "### Descobrindo a Extensão de uma Lista\n",
    "Você pode encontrar rapidamente a extensão de uma lista usando a função `len()`."
   ]
  },
  {
   "cell_type": "code",
   "execution_count": 6,
   "metadata": {},
   "outputs": [
    {
     "data": {
      "text/plain": [
       "4"
      ]
     },
     "execution_count": 6,
     "metadata": {},
     "output_type": "execute_result"
    }
   ],
   "source": [
    "countries = ['brasil', 'austrália', 'tailândia', 'suíça']\n",
    "len(countries)"
   ]
  },
  {
   "attachments": {},
   "cell_type": "markdown",
   "metadata": {},
   "source": [
    "### Tente Você\n",
    "\n",
    "8. **Vendo o Mundo:** Pense em pelo menos cinco lugares no mundo que você gostaria de visitar.\n",
    "    - Armazene os locais em uma lista. Certifique-se que a lista não está em ordem alfabética.\n",
    "    - Imprima sua lista em sua ordem original.\n",
    "    - Utilize `sorted()` para imprimir sua lista em ordem alfabética sem modificar a lista real.\n",
    "    - Mostre que sua lista ainda está em sua ordem original imprimindo-a.\n",
    "    - Utilize `reverse()` para mudar a ordem de sua lista. Imprima a lista para mostrar que sua ordem foi alterada.\n",
    "    - Utilize `reverse()` para mudar a ordem de sua lista novamente. Imprima a lista para mostrar que ela está de volta em sua ordem original.\n",
    "    - Utilize `sort()` para mudar sua lista para que ela seja armazenada em ordem alfabética. Imprima a lista para mostrar que sua ordem foi alterada.\n",
    "    - Utilize `sort()` para mudar sua lista para que ela seja armazenada em ordem alfabética reversa. Imprima a lista para mostrar que sua ordem foi alterada.\n",
    "9. **Convidados do Jantar:** Trabalhando com um dos programas do Exercício 4 até 7, utilize `len()` para imprimir uma mensagem indicando o número de pessoas que você está convidando para jantar.\n",
    "10. **Toda Função:** Pense em coisas que você poderia armazenar em uma lista. Por exemplo, uma lista de montanhas, rios, continentes, cidades, idiomas ou qualquer outra coisa que você queira. Escreva um programa que cria uma lista contendo esses itens e então utiliza toda função introduzida nesse módulo pelo menos uma vez."
   ]
  }
 ],
 "metadata": {
  "kernelspec": {
   "display_name": "Python 3",
   "language": "python",
   "name": "python3"
  },
  "language_info": {
   "codemirror_mode": {
    "name": "ipython",
    "version": 3
   },
   "file_extension": ".py",
   "mimetype": "text/x-python",
   "name": "python",
   "nbconvert_exporter": "python",
   "pygments_lexer": "ipython3",
   "version": "3.11.2"
  },
  "orig_nbformat": 4
 },
 "nbformat": 4,
 "nbformat_minor": 2
}
