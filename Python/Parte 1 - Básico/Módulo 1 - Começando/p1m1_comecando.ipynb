{
 "cells": [
  {
   "attachments": {},
   "cell_type": "markdown",
   "metadata": {},
   "source": [
    "# Módulo 1 – Começando"
   ]
  },
  {
   "attachments": {},
   "cell_type": "markdown",
   "metadata": {},
   "source": [
    "Nesse módulo, você irá rodar seu primeiro programa em Python, `hello_world.py`. Antes disso, você precisa checar se uma versão recente do Python está instalada no seu computador; se não estiver, você terá que instalá-la. Você também precisará de um editor de texto para trabalhar com seus programas Python.\n",
    "\n",
    "É importante ressaltar que para aprimorar o aprendizado em inglês, que é essencial para qualquer programador, o nome de pastas, arquivos, variáveis, constantes e funções serão escritos em inglês. Comentários no código e quaisquer mensagens que são emitidas para o usuário dos programas são escritos em português para facilitar o aprendizado da lógica e da sintaxe e a experiência do usuário final.\n",
    "\n",
    "## Configurando Seu Ambiente de Programação\n",
    "### Instalando Python (Windows)\n",
    "1. Primeiro, vamos checar se o Python está instalado em seu sistema. Abra uma nova janela de comando digitando `command` ou `cmd` na barra de pesquisa e abrindo o aplicativo <b>Prompt de Comando</b>. Na janela do terminal, digite e envie `python` ou `py`. Se você receber um prompt do Python (>>>) em resposta, Python está instalado em seu sistema. Se receber uma mensagem de erro que diz que `python` ou `py` não é um comando reconhecido (ou se a loja da Microsoft abrir), Python não está instalado. Caso a loja da Microsoft abra, feche-a.\n",
    "2. Se Python não estiver instalado ou se sua versão for anterior a versão 3.9, você precisa baixar um instalador do Pyrhon para Windows. Acesse https://www.python.org para efetuar o download. Após baixar o instalador e rodá-lo, certifique-se de ativar a opção <b>Add Python to PATH</b>, então instale o Python.\n",
    "3. Após a instalação, repita a etapa 1 para verificar que o Python foi instalado com sucesso.\n",
    "\n",
    "### Instalando VS Code\n",
    "1. Você pode baixar o VS Code acessando https://code.visualstudio.com.\n",
    "2. Após baixar, rode o instalador e instale o editor de texto.\n",
    "\n",
    "### Instalando a Extensão do Python no VS Code\n",
    "1. Vá até o icone <i>Manage</i> (uma engrenagem) e clique em <b>Extensions</b>.\n",
    "2. Digite `python` na caixa de pesquisa e clique na extensão <b>Python</b> (se houver mais de uma, escolha a que tem suporte da Microsoft)\n",
    "3. Clique <b>Install</b> e instale quaisquer ferramentas adicionais que seu sistema precise para completar a instalação.\n",
    "\n",
    "## Rodando um Programa Olá Mundo\n",
    "1. Crie uma pasta chamada `python_work` em um local designado por você em seu sistema.\n",
    "    - É recomendado utilizar letras minúsculas e <i>underscores</i> no lugar de espaços nos nomes de arquivos e pastas, pois estas são as convenções de nomenclatura do Python.\n",
    "2. Clique com o botão direito do mouse na pasta e selecione a opção <b>Abrir com Code</b>.\n",
    "3. Uma vez dentro do VS Code, crie um novo arquivo clicando em <b>File -> New File</b> ou utilizando o atalho `CTRL+N`.\n",
    "4. Salve o arquivo como `hello_world.py`.\n",
    "    - A extensão `.py` indica que este é um arquivo escrito em Python.\n",
    "5. Após salvar seu arquivo, digite o código abaixo no editor:"
   ]
  },
  {
   "cell_type": "code",
   "execution_count": 1,
   "metadata": {},
   "outputs": [
    {
     "name": "stdout",
     "output_type": "stream",
     "text": [
      "Olá mundo do Python!\n"
     ]
    }
   ],
   "source": [
    "print(\"Olá mundo do Python!\")"
   ]
  },
  {
   "attachments": {},
   "cell_type": "markdown",
   "metadata": {},
   "source": [
    "6. Para rodar seu programa, selecione <b>Run -> Run Without Debugging</b> ou utilize o atalho `CTRL+F5`. Um terminal deve aparecer na parte inferior do VS Code, mostrando a saída do programa (que deve ser igual a linha acima).\n",
    "    - É provável que outras informações estejam presentes no terminal.\n",
    "7. Se sua saída foi diferente ou se você encontrou algum erro, será necessário avaliar e solucionar o problema."
   ]
  }
 ],
 "metadata": {
  "kernelspec": {
   "display_name": "Python 3",
   "language": "python",
   "name": "python3"
  },
  "language_info": {
   "codemirror_mode": {
    "name": "ipython",
    "version": 3
   },
   "file_extension": ".py",
   "mimetype": "text/x-python",
   "name": "python",
   "nbconvert_exporter": "python",
   "pygments_lexer": "ipython3",
   "version": "3.11.2"
  },
  "orig_nbformat": 4
 },
 "nbformat": 4,
 "nbformat_minor": 2
}
